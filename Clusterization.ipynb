{
  "nbformat": 4,
  "nbformat_minor": 0,
  "metadata": {
    "colab": {
      "name": "Clusterization.ipynb",
      "provenance": [],
      "collapsed_sections": [
        "JuZeyFXqdXr3",
        "05IXMBbJnGle"
      ],
      "mount_file_id": "1keGCNkMVQv-3knwEnl16CZZgtNimOQAV",
      "authorship_tag": "ABX9TyOy0Ijc3z6GCWn7L23vDai0",
      "include_colab_link": true
    },
    "kernelspec": {
      "name": "python3",
      "display_name": "Python 3"
    },
    "language_info": {
      "name": "python"
    }
  },
  "cells": [
    {
      "cell_type": "markdown",
      "metadata": {
        "id": "view-in-github",
        "colab_type": "text"
      },
      "source": [
        "<a href=\"https://colab.research.google.com/github/OliverRevilla/Machine-Learning-Python/blob/main/Clusterization.ipynb\" target=\"_parent\"><img src=\"https://colab.research.google.com/assets/colab-badge.svg\" alt=\"Open In Colab\"/></a>"
      ]
    },
    {
      "cell_type": "code",
      "metadata": {
        "id": "AT82AbMedR10"
      },
      "source": [
        "import numpy as np\n",
        "import pandas as pd\n",
        "import matplotlib.pyplot as plt\n",
        "from scipy.spatial import distance_matrix\n",
        "from scipy.cluster.hierarchy import dendrogram,linkage # Para elaborar dendogramas de clustering jerárquico\n",
        "from scipy.cluster.hierarchy import cophenet # Para conocer el coeficiente cofenético \n",
        "from scipy.spatial.distance import pdist\n",
        "from mpl_toolkits.mplot3d import Axes3D \n",
        "from scipy.cluster.vq import vq # Para conocer las distancias hacias los baricentro según k means\n",
        "from scipy.cluster.vq import kmeans # Para conocer las distancias hacias los baricentro según k means\n",
        "from sklearn.cluster import AgglomerativeClustering # Para hacer un clustering jerárquicoX\n",
        "from sklearn.cluster import KMeans # Para hacer clustering K-means\n",
        "from sklearn import datasets"
      ],
      "execution_count": null,
      "outputs": []
    },
    {
      "cell_type": "markdown",
      "metadata": {
        "id": "JuZeyFXqdXr3"
      },
      "source": [
        "# **Distancias**"
      ]
    },
    {
      "cell_type": "code",
      "metadata": {
        "id": "P0CP5BQ7dgAW"
      },
      "source": [
        "data = pd.read_csv('/content/drive/MyDrive/Machine Learning Python/CURSO UDEMY/Repositorio de Curso UDEMY/movies/movies.csv', sep = ';')"
      ],
      "execution_count": null,
      "outputs": []
    },
    {
      "cell_type": "code",
      "metadata": {
        "colab": {
          "base_uri": "https://localhost:8080/"
        },
        "id": "kvYlU39YeojV",
        "outputId": "2678dbbd-dfc3-47e9-950a-5d35b7a7f8a5"
      },
      "source": [
        "data.head()\n",
        "data.columns"
      ],
      "execution_count": null,
      "outputs": [
        {
          "output_type": "execute_result",
          "data": {
            "text/plain": [
              "Index(['user_id', 'star_wars', 'lord_of_the_rings', 'harry_potter'], dtype='object')"
            ]
          },
          "metadata": {
            "tags": []
          },
          "execution_count": 3
        }
      ]
    },
    {
      "cell_type": "code",
      "metadata": {
        "colab": {
          "base_uri": "https://localhost:8080/"
        },
        "id": "-o8Kxrxle_gX",
        "outputId": "82ec9f9f-e29d-494b-f6b0-e74997a420ec"
      },
      "source": [
        "movies = data.columns.values.tolist()[1:]\n",
        "movies"
      ],
      "execution_count": null,
      "outputs": [
        {
          "output_type": "execute_result",
          "data": {
            "text/plain": [
              "['star_wars', 'lord_of_the_rings', 'harry_potter']"
            ]
          },
          "metadata": {
            "tags": []
          },
          "execution_count": 4
        }
      ]
    },
    {
      "cell_type": "code",
      "metadata": {
        "id": "vhv4zc92fNxG"
      },
      "source": [
        "dd1 = distance_matrix(data[movies],data[movies], p = 1) # Mincowsky\n",
        "dd2 = distance_matrix(data[movies],data[movies], p = 2) # Manhattan\n",
        "dd10 = distance_matrix(data[movies],data[movies], p = 10)"
      ],
      "execution_count": null,
      "outputs": []
    },
    {
      "cell_type": "code",
      "metadata": {
        "id": "Z42zlglef510"
      },
      "source": [
        "# Pasando los arrays a dataframe\n",
        "def matriz_a_dataFrame(dd,col_name):\n",
        "  import pandas as pd\n",
        "  dd = pd.DataFrame(dd, index = col_name, columns = col_name)\n",
        "  return dd"
      ],
      "execution_count": null,
      "outputs": []
    },
    {
      "cell_type": "code",
      "metadata": {
        "colab": {
          "base_uri": "https://localhost:8080/",
          "height": 394
        },
        "id": "64Sa2PVTf8cE",
        "outputId": "b5485068-5d0a-4003-bb75-82b3bab1daac"
      },
      "source": [
        "matriz_a_dataFrame(dd2, data['user_id'])"
      ],
      "execution_count": null,
      "outputs": [
        {
          "output_type": "execute_result",
          "data": {
            "text/html": [
              "<div>\n",
              "<style scoped>\n",
              "    .dataframe tbody tr th:only-of-type {\n",
              "        vertical-align: middle;\n",
              "    }\n",
              "\n",
              "    .dataframe tbody tr th {\n",
              "        vertical-align: top;\n",
              "    }\n",
              "\n",
              "    .dataframe thead th {\n",
              "        text-align: right;\n",
              "    }\n",
              "</style>\n",
              "<table border=\"1\" class=\"dataframe\">\n",
              "  <thead>\n",
              "    <tr style=\"text-align: right;\">\n",
              "      <th>user_id</th>\n",
              "      <th>1</th>\n",
              "      <th>2</th>\n",
              "      <th>3</th>\n",
              "      <th>4</th>\n",
              "      <th>5</th>\n",
              "      <th>6</th>\n",
              "      <th>7</th>\n",
              "      <th>8</th>\n",
              "      <th>9</th>\n",
              "      <th>10</th>\n",
              "    </tr>\n",
              "    <tr>\n",
              "      <th>user_id</th>\n",
              "      <th></th>\n",
              "      <th></th>\n",
              "      <th></th>\n",
              "      <th></th>\n",
              "      <th></th>\n",
              "      <th></th>\n",
              "      <th></th>\n",
              "      <th></th>\n",
              "      <th></th>\n",
              "      <th></th>\n",
              "    </tr>\n",
              "  </thead>\n",
              "  <tbody>\n",
              "    <tr>\n",
              "      <th>1</th>\n",
              "      <td>0.000000</td>\n",
              "      <td>6.685058</td>\n",
              "      <td>10.143471</td>\n",
              "      <td>6.229767</td>\n",
              "      <td>3.449638</td>\n",
              "      <td>4.742362</td>\n",
              "      <td>7.244998</td>\n",
              "      <td>5.047772</td>\n",
              "      <td>3.633180</td>\n",
              "      <td>0.412311</td>\n",
              "    </tr>\n",
              "    <tr>\n",
              "      <th>2</th>\n",
              "      <td>6.685058</td>\n",
              "      <td>0.000000</td>\n",
              "      <td>7.622336</td>\n",
              "      <td>10.354709</td>\n",
              "      <td>5.337602</td>\n",
              "      <td>4.634652</td>\n",
              "      <td>0.616441</td>\n",
              "      <td>3.618011</td>\n",
              "      <td>8.015610</td>\n",
              "      <td>6.578754</td>\n",
              "    </tr>\n",
              "    <tr>\n",
              "      <th>3</th>\n",
              "      <td>10.143471</td>\n",
              "      <td>7.622336</td>\n",
              "      <td>0.000000</td>\n",
              "      <td>8.666026</td>\n",
              "      <td>10.779147</td>\n",
              "      <td>6.004998</td>\n",
              "      <td>7.626270</td>\n",
              "      <td>10.010494</td>\n",
              "      <td>8.424369</td>\n",
              "      <td>9.770363</td>\n",
              "    </tr>\n",
              "    <tr>\n",
              "      <th>4</th>\n",
              "      <td>6.229767</td>\n",
              "      <td>10.354709</td>\n",
              "      <td>8.666026</td>\n",
              "      <td>0.000000</td>\n",
              "      <td>8.848164</td>\n",
              "      <td>6.476110</td>\n",
              "      <td>10.823123</td>\n",
              "      <td>9.958414</td>\n",
              "      <td>3.482815</td>\n",
              "      <td>5.890671</td>\n",
              "    </tr>\n",
              "    <tr>\n",
              "      <th>5</th>\n",
              "      <td>3.449638</td>\n",
              "      <td>5.337602</td>\n",
              "      <td>10.779147</td>\n",
              "      <td>8.848164</td>\n",
              "      <td>0.000000</td>\n",
              "      <td>6.113101</td>\n",
              "      <td>5.921993</td>\n",
              "      <td>2.167948</td>\n",
              "      <td>6.709694</td>\n",
              "      <td>3.612478</td>\n",
              "    </tr>\n",
              "    <tr>\n",
              "      <th>6</th>\n",
              "      <td>4.742362</td>\n",
              "      <td>4.634652</td>\n",
              "      <td>6.004998</td>\n",
              "      <td>6.476110</td>\n",
              "      <td>6.113101</td>\n",
              "      <td>0.000000</td>\n",
              "      <td>4.949747</td>\n",
              "      <td>5.987487</td>\n",
              "      <td>3.945884</td>\n",
              "      <td>4.431704</td>\n",
              "    </tr>\n",
              "    <tr>\n",
              "      <th>7</th>\n",
              "      <td>7.244998</td>\n",
              "      <td>0.616441</td>\n",
              "      <td>7.626270</td>\n",
              "      <td>10.823123</td>\n",
              "      <td>5.921993</td>\n",
              "      <td>4.949747</td>\n",
              "      <td>0.000000</td>\n",
              "      <td>4.153312</td>\n",
              "      <td>8.471718</td>\n",
              "      <td>7.137226</td>\n",
              "    </tr>\n",
              "    <tr>\n",
              "      <th>8</th>\n",
              "      <td>5.047772</td>\n",
              "      <td>3.618011</td>\n",
              "      <td>10.010494</td>\n",
              "      <td>9.958414</td>\n",
              "      <td>2.167948</td>\n",
              "      <td>5.987487</td>\n",
              "      <td>4.153312</td>\n",
              "      <td>0.000000</td>\n",
              "      <td>7.769170</td>\n",
              "      <td>5.107837</td>\n",
              "    </tr>\n",
              "    <tr>\n",
              "      <th>9</th>\n",
              "      <td>3.633180</td>\n",
              "      <td>8.015610</td>\n",
              "      <td>8.424369</td>\n",
              "      <td>3.482815</td>\n",
              "      <td>6.709694</td>\n",
              "      <td>3.945884</td>\n",
              "      <td>8.471718</td>\n",
              "      <td>7.769170</td>\n",
              "      <td>0.000000</td>\n",
              "      <td>3.293934</td>\n",
              "    </tr>\n",
              "    <tr>\n",
              "      <th>10</th>\n",
              "      <td>0.412311</td>\n",
              "      <td>6.578754</td>\n",
              "      <td>9.770363</td>\n",
              "      <td>5.890671</td>\n",
              "      <td>3.612478</td>\n",
              "      <td>4.431704</td>\n",
              "      <td>7.137226</td>\n",
              "      <td>5.107837</td>\n",
              "      <td>3.293934</td>\n",
              "      <td>0.000000</td>\n",
              "    </tr>\n",
              "  </tbody>\n",
              "</table>\n",
              "</div>"
            ],
            "text/plain": [
              "user_id         1          2          3   ...         8         9         10\n",
              "user_id                                   ...                               \n",
              "1         0.000000   6.685058  10.143471  ...   5.047772  3.633180  0.412311\n",
              "2         6.685058   0.000000   7.622336  ...   3.618011  8.015610  6.578754\n",
              "3        10.143471   7.622336   0.000000  ...  10.010494  8.424369  9.770363\n",
              "4         6.229767  10.354709   8.666026  ...   9.958414  3.482815  5.890671\n",
              "5         3.449638   5.337602  10.779147  ...   2.167948  6.709694  3.612478\n",
              "6         4.742362   4.634652   6.004998  ...   5.987487  3.945884  4.431704\n",
              "7         7.244998   0.616441   7.626270  ...   4.153312  8.471718  7.137226\n",
              "8         5.047772   3.618011  10.010494  ...   0.000000  7.769170  5.107837\n",
              "9         3.633180   8.015610   8.424369  ...   7.769170  0.000000  3.293934\n",
              "10        0.412311   6.578754   9.770363  ...   5.107837  3.293934  0.000000\n",
              "\n",
              "[10 rows x 10 columns]"
            ]
          },
          "metadata": {
            "tags": []
          },
          "execution_count": 7
        }
      ]
    },
    {
      "cell_type": "code",
      "metadata": {
        "colab": {
          "base_uri": "https://localhost:8080/",
          "height": 394
        },
        "id": "M7dpa3C8hKTW",
        "outputId": "8e8c9e01-795c-474e-b65f-d638818d13a8"
      },
      "source": [
        "matriz_a_dataFrame(dd2, data['user_id'])"
      ],
      "execution_count": null,
      "outputs": [
        {
          "output_type": "execute_result",
          "data": {
            "text/html": [
              "<div>\n",
              "<style scoped>\n",
              "    .dataframe tbody tr th:only-of-type {\n",
              "        vertical-align: middle;\n",
              "    }\n",
              "\n",
              "    .dataframe tbody tr th {\n",
              "        vertical-align: top;\n",
              "    }\n",
              "\n",
              "    .dataframe thead th {\n",
              "        text-align: right;\n",
              "    }\n",
              "</style>\n",
              "<table border=\"1\" class=\"dataframe\">\n",
              "  <thead>\n",
              "    <tr style=\"text-align: right;\">\n",
              "      <th>user_id</th>\n",
              "      <th>1</th>\n",
              "      <th>2</th>\n",
              "      <th>3</th>\n",
              "      <th>4</th>\n",
              "      <th>5</th>\n",
              "      <th>6</th>\n",
              "      <th>7</th>\n",
              "      <th>8</th>\n",
              "      <th>9</th>\n",
              "      <th>10</th>\n",
              "    </tr>\n",
              "    <tr>\n",
              "      <th>user_id</th>\n",
              "      <th></th>\n",
              "      <th></th>\n",
              "      <th></th>\n",
              "      <th></th>\n",
              "      <th></th>\n",
              "      <th></th>\n",
              "      <th></th>\n",
              "      <th></th>\n",
              "      <th></th>\n",
              "      <th></th>\n",
              "    </tr>\n",
              "  </thead>\n",
              "  <tbody>\n",
              "    <tr>\n",
              "      <th>1</th>\n",
              "      <td>0.000000</td>\n",
              "      <td>6.685058</td>\n",
              "      <td>10.143471</td>\n",
              "      <td>6.229767</td>\n",
              "      <td>3.449638</td>\n",
              "      <td>4.742362</td>\n",
              "      <td>7.244998</td>\n",
              "      <td>5.047772</td>\n",
              "      <td>3.633180</td>\n",
              "      <td>0.412311</td>\n",
              "    </tr>\n",
              "    <tr>\n",
              "      <th>2</th>\n",
              "      <td>6.685058</td>\n",
              "      <td>0.000000</td>\n",
              "      <td>7.622336</td>\n",
              "      <td>10.354709</td>\n",
              "      <td>5.337602</td>\n",
              "      <td>4.634652</td>\n",
              "      <td>0.616441</td>\n",
              "      <td>3.618011</td>\n",
              "      <td>8.015610</td>\n",
              "      <td>6.578754</td>\n",
              "    </tr>\n",
              "    <tr>\n",
              "      <th>3</th>\n",
              "      <td>10.143471</td>\n",
              "      <td>7.622336</td>\n",
              "      <td>0.000000</td>\n",
              "      <td>8.666026</td>\n",
              "      <td>10.779147</td>\n",
              "      <td>6.004998</td>\n",
              "      <td>7.626270</td>\n",
              "      <td>10.010494</td>\n",
              "      <td>8.424369</td>\n",
              "      <td>9.770363</td>\n",
              "    </tr>\n",
              "    <tr>\n",
              "      <th>4</th>\n",
              "      <td>6.229767</td>\n",
              "      <td>10.354709</td>\n",
              "      <td>8.666026</td>\n",
              "      <td>0.000000</td>\n",
              "      <td>8.848164</td>\n",
              "      <td>6.476110</td>\n",
              "      <td>10.823123</td>\n",
              "      <td>9.958414</td>\n",
              "      <td>3.482815</td>\n",
              "      <td>5.890671</td>\n",
              "    </tr>\n",
              "    <tr>\n",
              "      <th>5</th>\n",
              "      <td>3.449638</td>\n",
              "      <td>5.337602</td>\n",
              "      <td>10.779147</td>\n",
              "      <td>8.848164</td>\n",
              "      <td>0.000000</td>\n",
              "      <td>6.113101</td>\n",
              "      <td>5.921993</td>\n",
              "      <td>2.167948</td>\n",
              "      <td>6.709694</td>\n",
              "      <td>3.612478</td>\n",
              "    </tr>\n",
              "    <tr>\n",
              "      <th>6</th>\n",
              "      <td>4.742362</td>\n",
              "      <td>4.634652</td>\n",
              "      <td>6.004998</td>\n",
              "      <td>6.476110</td>\n",
              "      <td>6.113101</td>\n",
              "      <td>0.000000</td>\n",
              "      <td>4.949747</td>\n",
              "      <td>5.987487</td>\n",
              "      <td>3.945884</td>\n",
              "      <td>4.431704</td>\n",
              "    </tr>\n",
              "    <tr>\n",
              "      <th>7</th>\n",
              "      <td>7.244998</td>\n",
              "      <td>0.616441</td>\n",
              "      <td>7.626270</td>\n",
              "      <td>10.823123</td>\n",
              "      <td>5.921993</td>\n",
              "      <td>4.949747</td>\n",
              "      <td>0.000000</td>\n",
              "      <td>4.153312</td>\n",
              "      <td>8.471718</td>\n",
              "      <td>7.137226</td>\n",
              "    </tr>\n",
              "    <tr>\n",
              "      <th>8</th>\n",
              "      <td>5.047772</td>\n",
              "      <td>3.618011</td>\n",
              "      <td>10.010494</td>\n",
              "      <td>9.958414</td>\n",
              "      <td>2.167948</td>\n",
              "      <td>5.987487</td>\n",
              "      <td>4.153312</td>\n",
              "      <td>0.000000</td>\n",
              "      <td>7.769170</td>\n",
              "      <td>5.107837</td>\n",
              "    </tr>\n",
              "    <tr>\n",
              "      <th>9</th>\n",
              "      <td>3.633180</td>\n",
              "      <td>8.015610</td>\n",
              "      <td>8.424369</td>\n",
              "      <td>3.482815</td>\n",
              "      <td>6.709694</td>\n",
              "      <td>3.945884</td>\n",
              "      <td>8.471718</td>\n",
              "      <td>7.769170</td>\n",
              "      <td>0.000000</td>\n",
              "      <td>3.293934</td>\n",
              "    </tr>\n",
              "    <tr>\n",
              "      <th>10</th>\n",
              "      <td>0.412311</td>\n",
              "      <td>6.578754</td>\n",
              "      <td>9.770363</td>\n",
              "      <td>5.890671</td>\n",
              "      <td>3.612478</td>\n",
              "      <td>4.431704</td>\n",
              "      <td>7.137226</td>\n",
              "      <td>5.107837</td>\n",
              "      <td>3.293934</td>\n",
              "      <td>0.000000</td>\n",
              "    </tr>\n",
              "  </tbody>\n",
              "</table>\n",
              "</div>"
            ],
            "text/plain": [
              "user_id         1          2          3   ...         8         9         10\n",
              "user_id                                   ...                               \n",
              "1         0.000000   6.685058  10.143471  ...   5.047772  3.633180  0.412311\n",
              "2         6.685058   0.000000   7.622336  ...   3.618011  8.015610  6.578754\n",
              "3        10.143471   7.622336   0.000000  ...  10.010494  8.424369  9.770363\n",
              "4         6.229767  10.354709   8.666026  ...   9.958414  3.482815  5.890671\n",
              "5         3.449638   5.337602  10.779147  ...   2.167948  6.709694  3.612478\n",
              "6         4.742362   4.634652   6.004998  ...   5.987487  3.945884  4.431704\n",
              "7         7.244998   0.616441   7.626270  ...   4.153312  8.471718  7.137226\n",
              "8         5.047772   3.618011  10.010494  ...   0.000000  7.769170  5.107837\n",
              "9         3.633180   8.015610   8.424369  ...   7.769170  0.000000  3.293934\n",
              "10        0.412311   6.578754   9.770363  ...   5.107837  3.293934  0.000000\n",
              "\n",
              "[10 rows x 10 columns]"
            ]
          },
          "metadata": {
            "tags": []
          },
          "execution_count": 8
        }
      ]
    },
    {
      "cell_type": "code",
      "metadata": {
        "colab": {
          "base_uri": "https://localhost:8080/",
          "height": 394
        },
        "id": "r6yGkx6fkid0",
        "outputId": "d87eaa5a-cde4-4c56-fc98-b2c35f409db1"
      },
      "source": [
        "matriz_a_dataFrame(dd10, data['user_id'])"
      ],
      "execution_count": null,
      "outputs": [
        {
          "output_type": "execute_result",
          "data": {
            "text/html": [
              "<div>\n",
              "<style scoped>\n",
              "    .dataframe tbody tr th:only-of-type {\n",
              "        vertical-align: middle;\n",
              "    }\n",
              "\n",
              "    .dataframe tbody tr th {\n",
              "        vertical-align: top;\n",
              "    }\n",
              "\n",
              "    .dataframe thead th {\n",
              "        text-align: right;\n",
              "    }\n",
              "</style>\n",
              "<table border=\"1\" class=\"dataframe\">\n",
              "  <thead>\n",
              "    <tr style=\"text-align: right;\">\n",
              "      <th>user_id</th>\n",
              "      <th>1</th>\n",
              "      <th>2</th>\n",
              "      <th>3</th>\n",
              "      <th>4</th>\n",
              "      <th>5</th>\n",
              "      <th>6</th>\n",
              "      <th>7</th>\n",
              "      <th>8</th>\n",
              "      <th>9</th>\n",
              "      <th>10</th>\n",
              "    </tr>\n",
              "    <tr>\n",
              "      <th>user_id</th>\n",
              "      <th></th>\n",
              "      <th></th>\n",
              "      <th></th>\n",
              "      <th></th>\n",
              "      <th></th>\n",
              "      <th></th>\n",
              "      <th></th>\n",
              "      <th></th>\n",
              "      <th></th>\n",
              "      <th></th>\n",
              "    </tr>\n",
              "  </thead>\n",
              "  <tbody>\n",
              "    <tr>\n",
              "      <th>1</th>\n",
              "      <td>0.000000</td>\n",
              "      <td>5.801514</td>\n",
              "      <td>7.875189</td>\n",
              "      <td>4.715803</td>\n",
              "      <td>3.400000</td>\n",
              "      <td>4.400003</td>\n",
              "      <td>6.400850</td>\n",
              "      <td>4.401025</td>\n",
              "      <td>3.200085</td>\n",
              "      <td>0.301025</td>\n",
              "    </tr>\n",
              "    <tr>\n",
              "      <th>2</th>\n",
              "      <td>5.801514</td>\n",
              "      <td>0.000000</td>\n",
              "      <td>5.582463</td>\n",
              "      <td>7.680689</td>\n",
              "      <td>5.300000</td>\n",
              "      <td>4.400005</td>\n",
              "      <td>0.600000</td>\n",
              "      <td>3.400010</td>\n",
              "      <td>6.435159</td>\n",
              "      <td>5.603800</td>\n",
              "    </tr>\n",
              "    <tr>\n",
              "      <th>3</th>\n",
              "      <td>7.875189</td>\n",
              "      <td>5.582463</td>\n",
              "      <td>0.000000</td>\n",
              "      <td>8.100007</td>\n",
              "      <td>7.408914</td>\n",
              "      <td>4.912532</td>\n",
              "      <td>5.689450</td>\n",
              "      <td>6.570254</td>\n",
              "      <td>6.820602</td>\n",
              "      <td>7.658364</td>\n",
              "    </tr>\n",
              "    <tr>\n",
              "      <th>4</th>\n",
              "      <td>4.715803</td>\n",
              "      <td>7.680689</td>\n",
              "      <td>8.100007</td>\n",
              "      <td>0.000000</td>\n",
              "      <td>7.801255</td>\n",
              "      <td>4.717102</td>\n",
              "      <td>7.873307</td>\n",
              "      <td>8.800205</td>\n",
              "      <td>3.000101</td>\n",
              "      <td>4.450759</td>\n",
              "    </tr>\n",
              "    <tr>\n",
              "      <th>5</th>\n",
              "      <td>3.400000</td>\n",
              "      <td>5.300000</td>\n",
              "      <td>7.408914</td>\n",
              "      <td>7.801255</td>\n",
              "      <td>0.000000</td>\n",
              "      <td>4.681464</td>\n",
              "      <td>5.900000</td>\n",
              "      <td>1.900310</td>\n",
              "      <td>6.600000</td>\n",
              "      <td>3.600000</td>\n",
              "    </tr>\n",
              "    <tr>\n",
              "      <th>6</th>\n",
              "      <td>4.400003</td>\n",
              "      <td>4.400005</td>\n",
              "      <td>4.912532</td>\n",
              "      <td>4.717102</td>\n",
              "      <td>4.681464</td>\n",
              "      <td>0.000000</td>\n",
              "      <td>4.500135</td>\n",
              "      <td>5.600019</td>\n",
              "      <td>3.401683</td>\n",
              "      <td>4.200000</td>\n",
              "    </tr>\n",
              "    <tr>\n",
              "      <th>7</th>\n",
              "      <td>6.400850</td>\n",
              "      <td>0.600000</td>\n",
              "      <td>5.689450</td>\n",
              "      <td>7.873307</td>\n",
              "      <td>5.900000</td>\n",
              "      <td>4.500135</td>\n",
              "      <td>0.000000</td>\n",
              "      <td>4.000001</td>\n",
              "      <td>6.595259</td>\n",
              "      <td>6.202035</td>\n",
              "    </tr>\n",
              "    <tr>\n",
              "      <th>8</th>\n",
              "      <td>4.401025</td>\n",
              "      <td>3.400010</td>\n",
              "      <td>6.570254</td>\n",
              "      <td>8.800205</td>\n",
              "      <td>1.900310</td>\n",
              "      <td>5.600019</td>\n",
              "      <td>4.000001</td>\n",
              "      <td>0.000000</td>\n",
              "      <td>7.600000</td>\n",
              "      <td>4.600288</td>\n",
              "    </tr>\n",
              "    <tr>\n",
              "      <th>9</th>\n",
              "      <td>3.200085</td>\n",
              "      <td>6.435159</td>\n",
              "      <td>6.820602</td>\n",
              "      <td>3.000101</td>\n",
              "      <td>6.600000</td>\n",
              "      <td>3.401683</td>\n",
              "      <td>6.595259</td>\n",
              "      <td>7.600000</td>\n",
              "      <td>0.000000</td>\n",
              "      <td>3.000014</td>\n",
              "    </tr>\n",
              "    <tr>\n",
              "      <th>10</th>\n",
              "      <td>0.301025</td>\n",
              "      <td>5.603800</td>\n",
              "      <td>7.658364</td>\n",
              "      <td>4.450759</td>\n",
              "      <td>3.600000</td>\n",
              "      <td>4.200000</td>\n",
              "      <td>6.202035</td>\n",
              "      <td>4.600288</td>\n",
              "      <td>3.000014</td>\n",
              "      <td>0.000000</td>\n",
              "    </tr>\n",
              "  </tbody>\n",
              "</table>\n",
              "</div>"
            ],
            "text/plain": [
              "user_id        1         2         3   ...        8         9         10\n",
              "user_id                                ...                              \n",
              "1        0.000000  5.801514  7.875189  ...  4.401025  3.200085  0.301025\n",
              "2        5.801514  0.000000  5.582463  ...  3.400010  6.435159  5.603800\n",
              "3        7.875189  5.582463  0.000000  ...  6.570254  6.820602  7.658364\n",
              "4        4.715803  7.680689  8.100007  ...  8.800205  3.000101  4.450759\n",
              "5        3.400000  5.300000  7.408914  ...  1.900310  6.600000  3.600000\n",
              "6        4.400003  4.400005  4.912532  ...  5.600019  3.401683  4.200000\n",
              "7        6.400850  0.600000  5.689450  ...  4.000001  6.595259  6.202035\n",
              "8        4.401025  3.400010  6.570254  ...  0.000000  7.600000  4.600288\n",
              "9        3.200085  6.435159  6.820602  ...  7.600000  0.000000  3.000014\n",
              "10       0.301025  5.603800  7.658364  ...  4.600288  3.000014  0.000000\n",
              "\n",
              "[10 rows x 10 columns]"
            ]
          },
          "metadata": {
            "tags": []
          },
          "execution_count": 9
        }
      ]
    },
    {
      "cell_type": "code",
      "metadata": {
        "colab": {
          "base_uri": "https://localhost:8080/",
          "height": 375
        },
        "id": "f9m78QASkpGr",
        "outputId": "4ad94c44-fe24-41f7-a5e7-44b499ef5684"
      },
      "source": [
        "fig = plt.figure(figsize = (6,6))\n",
        "ax = fig.add_subplot(111,projection='3d')\n",
        "ax.scatter(xs = data['star_wars'], ys = data['lord_of_the_rings'], zs = data['harry_potter'])\n",
        "plt.xlabel('star_wars')\n",
        "plt.ylabel('lord_of_the_rings')\n"
      ],
      "execution_count": null,
      "outputs": [
        {
          "output_type": "execute_result",
          "data": {
            "text/plain": [
              "Text(0.5, 0, 'lord_of_the_rings')"
            ]
          },
          "metadata": {
            "tags": []
          },
          "execution_count": 10
        },
        {
          "output_type": "display_data",
          "data": {
            "image/png": "[encoded data removed]",
            "text/plain": [
              "<Figure size 432x432 with 1 Axes>"
            ]
          },
          "metadata": {
            "tags": [],
            "needs_background": "light"
          }
        }
      ]
    },
    {
      "cell_type": "markdown",
      "metadata": {
        "id": "05IXMBbJnGle"
      },
      "source": [
        "# **Métodos de enlace**"
      ]
    },
    {
      "cell_type": "markdown",
      "metadata": {
        "id": "oiZZ1gi0n0uJ"
      },
      "source": [
        "**Clustering Jerárquico** \n",
        "\n",
        "Método aglomerativo donde cada punto empieza siendo un únicco cluster y en cada paso los vamos juntando hasta tener un único cluster basado en las similitudes de las observaciones.\n",
        "\n",
        "\n",
        "1.   Enlace Simple: Mìnima distancia euclidiana entre cualquier punto de un cluster y el otro\n",
        "2.   Enlace Completo: Màxima distancia euclidiana entre cualquier punto de un cluster y el otro\n",
        "3.   Enlace Promedio: Promedio de distancias entre todos los puntos ubicdos en un cluster.\n",
        "4.   Enlace del Centroide: Distancia entre el centroide del cluster 1 y el cluster 2.\n",
        "4.   Enlace de ward: Minimiza el incremento del error combinado en la suma de cuadrados de las varianzas se une a un cluster ya existente para formar uno nuevo. Garantiza que los nuevos elementos que se unen a un cluster sean más similares a otros puntos que ya estaban antes.\n",
        "\n",
        "\n",
        "\n",
        "\n",
        "\n",
        "\n"
      ]
    },
    {
      "cell_type": "markdown",
      "metadata": {
        "id": "D_nHPyKQqyp4"
      },
      "source": [
        "**Clusterizando manualmente**"
      ]
    },
    {
      "cell_type": "code",
      "metadata": {
        "colab": {
          "base_uri": "https://localhost:8080/",
          "height": 394
        },
        "id": "6OQP-SZGlXRG",
        "outputId": "15c85d71-3dfa-4626-87da-914d0acfdb23"
      },
      "source": [
        "df = matriz_a_dataFrame(dd1, data['user_id'])\n",
        "df"
      ],
      "execution_count": null,
      "outputs": [
        {
          "output_type": "execute_result",
          "data": {
            "text/html": [
              "<div>\n",
              "<style scoped>\n",
              "    .dataframe tbody tr th:only-of-type {\n",
              "        vertical-align: middle;\n",
              "    }\n",
              "\n",
              "    .dataframe tbody tr th {\n",
              "        vertical-align: top;\n",
              "    }\n",
              "\n",
              "    .dataframe thead th {\n",
              "        text-align: right;\n",
              "    }\n",
              "</style>\n",
              "<table border=\"1\" class=\"dataframe\">\n",
              "  <thead>\n",
              "    <tr style=\"text-align: right;\">\n",
              "      <th>user_id</th>\n",
              "      <th>1</th>\n",
              "      <th>2</th>\n",
              "      <th>3</th>\n",
              "      <th>4</th>\n",
              "      <th>5</th>\n",
              "      <th>6</th>\n",
              "      <th>7</th>\n",
              "      <th>8</th>\n",
              "      <th>9</th>\n",
              "      <th>10</th>\n",
              "    </tr>\n",
              "    <tr>\n",
              "      <th>user_id</th>\n",
              "      <th></th>\n",
              "      <th></th>\n",
              "      <th></th>\n",
              "      <th></th>\n",
              "      <th></th>\n",
              "      <th></th>\n",
              "      <th></th>\n",
              "      <th></th>\n",
              "      <th></th>\n",
              "      <th></th>\n",
              "    </tr>\n",
              "  </thead>\n",
              "  <tbody>\n",
              "    <tr>\n",
              "      <th>1</th>\n",
              "      <td>0.0</td>\n",
              "      <td>9.9</td>\n",
              "      <td>15.9</td>\n",
              "      <td>9.1</td>\n",
              "      <td>4.2</td>\n",
              "      <td>6.9</td>\n",
              "      <td>10.5</td>\n",
              "      <td>7.4</td>\n",
              "      <td>5.6</td>\n",
              "      <td>0.7</td>\n",
              "    </tr>\n",
              "    <tr>\n",
              "      <th>2</th>\n",
              "      <td>9.9</td>\n",
              "      <td>0.0</td>\n",
              "      <td>12.4</td>\n",
              "      <td>17.2</td>\n",
              "      <td>6.1</td>\n",
              "      <td>6.2</td>\n",
              "      <td>0.8</td>\n",
              "      <td>4.9</td>\n",
              "      <td>11.7</td>\n",
              "      <td>9.6</td>\n",
              "    </tr>\n",
              "    <tr>\n",
              "      <th>3</th>\n",
              "      <td>15.9</td>\n",
              "      <td>12.4</td>\n",
              "      <td>0.0</td>\n",
              "      <td>12.4</td>\n",
              "      <td>18.5</td>\n",
              "      <td>9.0</td>\n",
              "      <td>12.0</td>\n",
              "      <td>17.3</td>\n",
              "      <td>12.9</td>\n",
              "      <td>15.2</td>\n",
              "    </tr>\n",
              "    <tr>\n",
              "      <th>4</th>\n",
              "      <td>9.1</td>\n",
              "      <td>17.2</td>\n",
              "      <td>12.4</td>\n",
              "      <td>0.0</td>\n",
              "      <td>12.7</td>\n",
              "      <td>11.0</td>\n",
              "      <td>18.0</td>\n",
              "      <td>15.3</td>\n",
              "      <td>5.5</td>\n",
              "      <td>8.8</td>\n",
              "    </tr>\n",
              "    <tr>\n",
              "      <th>5</th>\n",
              "      <td>4.2</td>\n",
              "      <td>6.1</td>\n",
              "      <td>18.5</td>\n",
              "      <td>12.7</td>\n",
              "      <td>0.0</td>\n",
              "      <td>9.5</td>\n",
              "      <td>6.5</td>\n",
              "      <td>3.2</td>\n",
              "      <td>8.2</td>\n",
              "      <td>3.9</td>\n",
              "    </tr>\n",
              "    <tr>\n",
              "      <th>6</th>\n",
              "      <td>6.9</td>\n",
              "      <td>6.2</td>\n",
              "      <td>9.0</td>\n",
              "      <td>11.0</td>\n",
              "      <td>9.5</td>\n",
              "      <td>0.0</td>\n",
              "      <td>7.0</td>\n",
              "      <td>8.3</td>\n",
              "      <td>5.5</td>\n",
              "      <td>6.2</td>\n",
              "    </tr>\n",
              "    <tr>\n",
              "      <th>7</th>\n",
              "      <td>10.5</td>\n",
              "      <td>0.8</td>\n",
              "      <td>12.0</td>\n",
              "      <td>18.0</td>\n",
              "      <td>6.5</td>\n",
              "      <td>7.0</td>\n",
              "      <td>0.0</td>\n",
              "      <td>5.3</td>\n",
              "      <td>12.5</td>\n",
              "      <td>10.2</td>\n",
              "    </tr>\n",
              "    <tr>\n",
              "      <th>8</th>\n",
              "      <td>7.4</td>\n",
              "      <td>4.9</td>\n",
              "      <td>17.3</td>\n",
              "      <td>15.3</td>\n",
              "      <td>3.2</td>\n",
              "      <td>8.3</td>\n",
              "      <td>5.3</td>\n",
              "      <td>0.0</td>\n",
              "      <td>9.8</td>\n",
              "      <td>7.1</td>\n",
              "    </tr>\n",
              "    <tr>\n",
              "      <th>9</th>\n",
              "      <td>5.6</td>\n",
              "      <td>11.7</td>\n",
              "      <td>12.9</td>\n",
              "      <td>5.5</td>\n",
              "      <td>8.2</td>\n",
              "      <td>5.5</td>\n",
              "      <td>12.5</td>\n",
              "      <td>9.8</td>\n",
              "      <td>0.0</td>\n",
              "      <td>4.9</td>\n",
              "    </tr>\n",
              "    <tr>\n",
              "      <th>10</th>\n",
              "      <td>0.7</td>\n",
              "      <td>9.6</td>\n",
              "      <td>15.2</td>\n",
              "      <td>8.8</td>\n",
              "      <td>3.9</td>\n",
              "      <td>6.2</td>\n",
              "      <td>10.2</td>\n",
              "      <td>7.1</td>\n",
              "      <td>4.9</td>\n",
              "      <td>0.0</td>\n",
              "    </tr>\n",
              "  </tbody>\n",
              "</table>\n",
              "</div>"
            ],
            "text/plain": [
              "user_id    1     2     3     4     5     6     7     8     9     10\n",
              "user_id                                                            \n",
              "1         0.0   9.9  15.9   9.1   4.2   6.9  10.5   7.4   5.6   0.7\n",
              "2         9.9   0.0  12.4  17.2   6.1   6.2   0.8   4.9  11.7   9.6\n",
              "3        15.9  12.4   0.0  12.4  18.5   9.0  12.0  17.3  12.9  15.2\n",
              "4         9.1  17.2  12.4   0.0  12.7  11.0  18.0  15.3   5.5   8.8\n",
              "5         4.2   6.1  18.5  12.7   0.0   9.5   6.5   3.2   8.2   3.9\n",
              "6         6.9   6.2   9.0  11.0   9.5   0.0   7.0   8.3   5.5   6.2\n",
              "7        10.5   0.8  12.0  18.0   6.5   7.0   0.0   5.3  12.5  10.2\n",
              "8         7.4   4.9  17.3  15.3   3.2   8.3   5.3   0.0   9.8   7.1\n",
              "9         5.6  11.7  12.9   5.5   8.2   5.5  12.5   9.8   0.0   4.9\n",
              "10        0.7   9.6  15.2   8.8   3.9   6.2  10.2   7.1   4.9   0.0"
            ]
          },
          "metadata": {
            "tags": []
          },
          "execution_count": 11
        }
      ]
    },
    {
      "cell_type": "code",
      "metadata": {
        "id": "ZrHJ-xHDrgfF"
      },
      "source": [
        "Z = []"
      ],
      "execution_count": null,
      "outputs": []
    },
    {
      "cell_type": "code",
      "metadata": {
        "colab": {
          "base_uri": "https://localhost:8080/",
          "height": 425
        },
        "id": "chUx2cqwq8uh",
        "outputId": "54bd8819-fca6-455f-a164-c0d4ad005f8b"
      },
      "source": [
        "df[11] = df[1] + df[10]\n",
        "df.loc[11] = df.loc[1] + df.loc[10]\n",
        "Z.append([1,10,0.7,2])\n",
        "df"
      ],
      "execution_count": null,
      "outputs": [
        {
          "output_type": "execute_result",
          "data": {
            "text/html": [
              "<div>\n",
              "<style scoped>\n",
              "    .dataframe tbody tr th:only-of-type {\n",
              "        vertical-align: middle;\n",
              "    }\n",
              "\n",
              "    .dataframe tbody tr th {\n",
              "        vertical-align: top;\n",
              "    }\n",
              "\n",
              "    .dataframe thead th {\n",
              "        text-align: right;\n",
              "    }\n",
              "</style>\n",
              "<table border=\"1\" class=\"dataframe\">\n",
              "  <thead>\n",
              "    <tr style=\"text-align: right;\">\n",
              "      <th>user_id</th>\n",
              "      <th>1</th>\n",
              "      <th>2</th>\n",
              "      <th>3</th>\n",
              "      <th>4</th>\n",
              "      <th>5</th>\n",
              "      <th>6</th>\n",
              "      <th>7</th>\n",
              "      <th>8</th>\n",
              "      <th>9</th>\n",
              "      <th>10</th>\n",
              "      <th>11</th>\n",
              "    </tr>\n",
              "    <tr>\n",
              "      <th>user_id</th>\n",
              "      <th></th>\n",
              "      <th></th>\n",
              "      <th></th>\n",
              "      <th></th>\n",
              "      <th></th>\n",
              "      <th></th>\n",
              "      <th></th>\n",
              "      <th></th>\n",
              "      <th></th>\n",
              "      <th></th>\n",
              "      <th></th>\n",
              "    </tr>\n",
              "  </thead>\n",
              "  <tbody>\n",
              "    <tr>\n",
              "      <th>1</th>\n",
              "      <td>0.0</td>\n",
              "      <td>9.9</td>\n",
              "      <td>15.9</td>\n",
              "      <td>9.1</td>\n",
              "      <td>4.2</td>\n",
              "      <td>6.9</td>\n",
              "      <td>10.5</td>\n",
              "      <td>7.4</td>\n",
              "      <td>5.6</td>\n",
              "      <td>0.7</td>\n",
              "      <td>0.7</td>\n",
              "    </tr>\n",
              "    <tr>\n",
              "      <th>2</th>\n",
              "      <td>9.9</td>\n",
              "      <td>0.0</td>\n",
              "      <td>12.4</td>\n",
              "      <td>17.2</td>\n",
              "      <td>6.1</td>\n",
              "      <td>6.2</td>\n",
              "      <td>0.8</td>\n",
              "      <td>4.9</td>\n",
              "      <td>11.7</td>\n",
              "      <td>9.6</td>\n",
              "      <td>19.5</td>\n",
              "    </tr>\n",
              "    <tr>\n",
              "      <th>3</th>\n",
              "      <td>15.9</td>\n",
              "      <td>12.4</td>\n",
              "      <td>0.0</td>\n",
              "      <td>12.4</td>\n",
              "      <td>18.5</td>\n",
              "      <td>9.0</td>\n",
              "      <td>12.0</td>\n",
              "      <td>17.3</td>\n",
              "      <td>12.9</td>\n",
              "      <td>15.2</td>\n",
              "      <td>31.1</td>\n",
              "    </tr>\n",
              "    <tr>\n",
              "      <th>4</th>\n",
              "      <td>9.1</td>\n",
              "      <td>17.2</td>\n",
              "      <td>12.4</td>\n",
              "      <td>0.0</td>\n",
              "      <td>12.7</td>\n",
              "      <td>11.0</td>\n",
              "      <td>18.0</td>\n",
              "      <td>15.3</td>\n",
              "      <td>5.5</td>\n",
              "      <td>8.8</td>\n",
              "      <td>17.9</td>\n",
              "    </tr>\n",
              "    <tr>\n",
              "      <th>5</th>\n",
              "      <td>4.2</td>\n",
              "      <td>6.1</td>\n",
              "      <td>18.5</td>\n",
              "      <td>12.7</td>\n",
              "      <td>0.0</td>\n",
              "      <td>9.5</td>\n",
              "      <td>6.5</td>\n",
              "      <td>3.2</td>\n",
              "      <td>8.2</td>\n",
              "      <td>3.9</td>\n",
              "      <td>8.1</td>\n",
              "    </tr>\n",
              "    <tr>\n",
              "      <th>6</th>\n",
              "      <td>6.9</td>\n",
              "      <td>6.2</td>\n",
              "      <td>9.0</td>\n",
              "      <td>11.0</td>\n",
              "      <td>9.5</td>\n",
              "      <td>0.0</td>\n",
              "      <td>7.0</td>\n",
              "      <td>8.3</td>\n",
              "      <td>5.5</td>\n",
              "      <td>6.2</td>\n",
              "      <td>13.1</td>\n",
              "    </tr>\n",
              "    <tr>\n",
              "      <th>7</th>\n",
              "      <td>10.5</td>\n",
              "      <td>0.8</td>\n",
              "      <td>12.0</td>\n",
              "      <td>18.0</td>\n",
              "      <td>6.5</td>\n",
              "      <td>7.0</td>\n",
              "      <td>0.0</td>\n",
              "      <td>5.3</td>\n",
              "      <td>12.5</td>\n",
              "      <td>10.2</td>\n",
              "      <td>20.7</td>\n",
              "    </tr>\n",
              "    <tr>\n",
              "      <th>8</th>\n",
              "      <td>7.4</td>\n",
              "      <td>4.9</td>\n",
              "      <td>17.3</td>\n",
              "      <td>15.3</td>\n",
              "      <td>3.2</td>\n",
              "      <td>8.3</td>\n",
              "      <td>5.3</td>\n",
              "      <td>0.0</td>\n",
              "      <td>9.8</td>\n",
              "      <td>7.1</td>\n",
              "      <td>14.5</td>\n",
              "    </tr>\n",
              "    <tr>\n",
              "      <th>9</th>\n",
              "      <td>5.6</td>\n",
              "      <td>11.7</td>\n",
              "      <td>12.9</td>\n",
              "      <td>5.5</td>\n",
              "      <td>8.2</td>\n",
              "      <td>5.5</td>\n",
              "      <td>12.5</td>\n",
              "      <td>9.8</td>\n",
              "      <td>0.0</td>\n",
              "      <td>4.9</td>\n",
              "      <td>10.5</td>\n",
              "    </tr>\n",
              "    <tr>\n",
              "      <th>10</th>\n",
              "      <td>0.7</td>\n",
              "      <td>9.6</td>\n",
              "      <td>15.2</td>\n",
              "      <td>8.8</td>\n",
              "      <td>3.9</td>\n",
              "      <td>6.2</td>\n",
              "      <td>10.2</td>\n",
              "      <td>7.1</td>\n",
              "      <td>4.9</td>\n",
              "      <td>0.0</td>\n",
              "      <td>0.7</td>\n",
              "    </tr>\n",
              "    <tr>\n",
              "      <th>11</th>\n",
              "      <td>0.7</td>\n",
              "      <td>19.5</td>\n",
              "      <td>31.1</td>\n",
              "      <td>17.9</td>\n",
              "      <td>8.1</td>\n",
              "      <td>13.1</td>\n",
              "      <td>20.7</td>\n",
              "      <td>14.5</td>\n",
              "      <td>10.5</td>\n",
              "      <td>0.7</td>\n",
              "      <td>1.4</td>\n",
              "    </tr>\n",
              "  </tbody>\n",
              "</table>\n",
              "</div>"
            ],
            "text/plain": [
              "user_id    1     2     3     4     5     6     7     8     9     10    11\n",
              "user_id                                                                  \n",
              "1         0.0   9.9  15.9   9.1   4.2   6.9  10.5   7.4   5.6   0.7   0.7\n",
              "2         9.9   0.0  12.4  17.2   6.1   6.2   0.8   4.9  11.7   9.6  19.5\n",
              "3        15.9  12.4   0.0  12.4  18.5   9.0  12.0  17.3  12.9  15.2  31.1\n",
              "4         9.1  17.2  12.4   0.0  12.7  11.0  18.0  15.3   5.5   8.8  17.9\n",
              "5         4.2   6.1  18.5  12.7   0.0   9.5   6.5   3.2   8.2   3.9   8.1\n",
              "6         6.9   6.2   9.0  11.0   9.5   0.0   7.0   8.3   5.5   6.2  13.1\n",
              "7        10.5   0.8  12.0  18.0   6.5   7.0   0.0   5.3  12.5  10.2  20.7\n",
              "8         7.4   4.9  17.3  15.3   3.2   8.3   5.3   0.0   9.8   7.1  14.5\n",
              "9         5.6  11.7  12.9   5.5   8.2   5.5  12.5   9.8   0.0   4.9  10.5\n",
              "10        0.7   9.6  15.2   8.8   3.9   6.2  10.2   7.1   4.9   0.0   0.7\n",
              "11        0.7  19.5  31.1  17.9   8.1  13.1  20.7  14.5  10.5   0.7   1.4"
            ]
          },
          "metadata": {
            "tags": []
          },
          "execution_count": 13
        }
      ]
    },
    {
      "cell_type": "code",
      "metadata": {
        "colab": {
          "base_uri": "https://localhost:8080/",
          "height": 425
        },
        "id": "zmoiQJdVrj9E",
        "outputId": "5f06790e-568b-40da-f47a-9c8d9d2b553c"
      },
      "source": [
        "# Reemplazando los valores de la columna 11\n",
        "for i in df.columns.values.tolist():\n",
        "  df.loc[11][i] = min(df.loc[1][i],df.loc[10][i])\n",
        "  df.loc[i][11] = min(df.loc[i][1],df.loc[i][10])\n",
        "df"
      ],
      "execution_count": null,
      "outputs": [
        {
          "output_type": "execute_result",
          "data": {
            "text/html": [
              "<div>\n",
              "<style scoped>\n",
              "    .dataframe tbody tr th:only-of-type {\n",
              "        vertical-align: middle;\n",
              "    }\n",
              "\n",
              "    .dataframe tbody tr th {\n",
              "        vertical-align: top;\n",
              "    }\n",
              "\n",
              "    .dataframe thead th {\n",
              "        text-align: right;\n",
              "    }\n",
              "</style>\n",
              "<table border=\"1\" class=\"dataframe\">\n",
              "  <thead>\n",
              "    <tr style=\"text-align: right;\">\n",
              "      <th>user_id</th>\n",
              "      <th>1</th>\n",
              "      <th>2</th>\n",
              "      <th>3</th>\n",
              "      <th>4</th>\n",
              "      <th>5</th>\n",
              "      <th>6</th>\n",
              "      <th>7</th>\n",
              "      <th>8</th>\n",
              "      <th>9</th>\n",
              "      <th>10</th>\n",
              "      <th>11</th>\n",
              "    </tr>\n",
              "    <tr>\n",
              "      <th>user_id</th>\n",
              "      <th></th>\n",
              "      <th></th>\n",
              "      <th></th>\n",
              "      <th></th>\n",
              "      <th></th>\n",
              "      <th></th>\n",
              "      <th></th>\n",
              "      <th></th>\n",
              "      <th></th>\n",
              "      <th></th>\n",
              "      <th></th>\n",
              "    </tr>\n",
              "  </thead>\n",
              "  <tbody>\n",
              "    <tr>\n",
              "      <th>1</th>\n",
              "      <td>0.0</td>\n",
              "      <td>9.9</td>\n",
              "      <td>15.9</td>\n",
              "      <td>9.1</td>\n",
              "      <td>4.2</td>\n",
              "      <td>6.9</td>\n",
              "      <td>10.5</td>\n",
              "      <td>7.4</td>\n",
              "      <td>5.6</td>\n",
              "      <td>0.7</td>\n",
              "      <td>0.0</td>\n",
              "    </tr>\n",
              "    <tr>\n",
              "      <th>2</th>\n",
              "      <td>9.9</td>\n",
              "      <td>0.0</td>\n",
              "      <td>12.4</td>\n",
              "      <td>17.2</td>\n",
              "      <td>6.1</td>\n",
              "      <td>6.2</td>\n",
              "      <td>0.8</td>\n",
              "      <td>4.9</td>\n",
              "      <td>11.7</td>\n",
              "      <td>9.6</td>\n",
              "      <td>9.6</td>\n",
              "    </tr>\n",
              "    <tr>\n",
              "      <th>3</th>\n",
              "      <td>15.9</td>\n",
              "      <td>12.4</td>\n",
              "      <td>0.0</td>\n",
              "      <td>12.4</td>\n",
              "      <td>18.5</td>\n",
              "      <td>9.0</td>\n",
              "      <td>12.0</td>\n",
              "      <td>17.3</td>\n",
              "      <td>12.9</td>\n",
              "      <td>15.2</td>\n",
              "      <td>15.2</td>\n",
              "    </tr>\n",
              "    <tr>\n",
              "      <th>4</th>\n",
              "      <td>9.1</td>\n",
              "      <td>17.2</td>\n",
              "      <td>12.4</td>\n",
              "      <td>0.0</td>\n",
              "      <td>12.7</td>\n",
              "      <td>11.0</td>\n",
              "      <td>18.0</td>\n",
              "      <td>15.3</td>\n",
              "      <td>5.5</td>\n",
              "      <td>8.8</td>\n",
              "      <td>8.8</td>\n",
              "    </tr>\n",
              "    <tr>\n",
              "      <th>5</th>\n",
              "      <td>4.2</td>\n",
              "      <td>6.1</td>\n",
              "      <td>18.5</td>\n",
              "      <td>12.7</td>\n",
              "      <td>0.0</td>\n",
              "      <td>9.5</td>\n",
              "      <td>6.5</td>\n",
              "      <td>3.2</td>\n",
              "      <td>8.2</td>\n",
              "      <td>3.9</td>\n",
              "      <td>3.9</td>\n",
              "    </tr>\n",
              "    <tr>\n",
              "      <th>6</th>\n",
              "      <td>6.9</td>\n",
              "      <td>6.2</td>\n",
              "      <td>9.0</td>\n",
              "      <td>11.0</td>\n",
              "      <td>9.5</td>\n",
              "      <td>0.0</td>\n",
              "      <td>7.0</td>\n",
              "      <td>8.3</td>\n",
              "      <td>5.5</td>\n",
              "      <td>6.2</td>\n",
              "      <td>6.2</td>\n",
              "    </tr>\n",
              "    <tr>\n",
              "      <th>7</th>\n",
              "      <td>10.5</td>\n",
              "      <td>0.8</td>\n",
              "      <td>12.0</td>\n",
              "      <td>18.0</td>\n",
              "      <td>6.5</td>\n",
              "      <td>7.0</td>\n",
              "      <td>0.0</td>\n",
              "      <td>5.3</td>\n",
              "      <td>12.5</td>\n",
              "      <td>10.2</td>\n",
              "      <td>10.2</td>\n",
              "    </tr>\n",
              "    <tr>\n",
              "      <th>8</th>\n",
              "      <td>7.4</td>\n",
              "      <td>4.9</td>\n",
              "      <td>17.3</td>\n",
              "      <td>15.3</td>\n",
              "      <td>3.2</td>\n",
              "      <td>8.3</td>\n",
              "      <td>5.3</td>\n",
              "      <td>0.0</td>\n",
              "      <td>9.8</td>\n",
              "      <td>7.1</td>\n",
              "      <td>7.1</td>\n",
              "    </tr>\n",
              "    <tr>\n",
              "      <th>9</th>\n",
              "      <td>5.6</td>\n",
              "      <td>11.7</td>\n",
              "      <td>12.9</td>\n",
              "      <td>5.5</td>\n",
              "      <td>8.2</td>\n",
              "      <td>5.5</td>\n",
              "      <td>12.5</td>\n",
              "      <td>9.8</td>\n",
              "      <td>0.0</td>\n",
              "      <td>4.9</td>\n",
              "      <td>4.9</td>\n",
              "    </tr>\n",
              "    <tr>\n",
              "      <th>10</th>\n",
              "      <td>0.7</td>\n",
              "      <td>9.6</td>\n",
              "      <td>15.2</td>\n",
              "      <td>8.8</td>\n",
              "      <td>3.9</td>\n",
              "      <td>6.2</td>\n",
              "      <td>10.2</td>\n",
              "      <td>7.1</td>\n",
              "      <td>4.9</td>\n",
              "      <td>0.0</td>\n",
              "      <td>0.0</td>\n",
              "    </tr>\n",
              "    <tr>\n",
              "      <th>11</th>\n",
              "      <td>0.0</td>\n",
              "      <td>9.6</td>\n",
              "      <td>15.2</td>\n",
              "      <td>8.8</td>\n",
              "      <td>3.9</td>\n",
              "      <td>6.2</td>\n",
              "      <td>10.2</td>\n",
              "      <td>7.1</td>\n",
              "      <td>4.9</td>\n",
              "      <td>0.0</td>\n",
              "      <td>0.0</td>\n",
              "    </tr>\n",
              "  </tbody>\n",
              "</table>\n",
              "</div>"
            ],
            "text/plain": [
              "user_id    1     2     3     4     5     6     7     8     9     10    11\n",
              "user_id                                                                  \n",
              "1         0.0   9.9  15.9   9.1   4.2   6.9  10.5   7.4   5.6   0.7   0.0\n",
              "2         9.9   0.0  12.4  17.2   6.1   6.2   0.8   4.9  11.7   9.6   9.6\n",
              "3        15.9  12.4   0.0  12.4  18.5   9.0  12.0  17.3  12.9  15.2  15.2\n",
              "4         9.1  17.2  12.4   0.0  12.7  11.0  18.0  15.3   5.5   8.8   8.8\n",
              "5         4.2   6.1  18.5  12.7   0.0   9.5   6.5   3.2   8.2   3.9   3.9\n",
              "6         6.9   6.2   9.0  11.0   9.5   0.0   7.0   8.3   5.5   6.2   6.2\n",
              "7        10.5   0.8  12.0  18.0   6.5   7.0   0.0   5.3  12.5  10.2  10.2\n",
              "8         7.4   4.9  17.3  15.3   3.2   8.3   5.3   0.0   9.8   7.1   7.1\n",
              "9         5.6  11.7  12.9   5.5   8.2   5.5  12.5   9.8   0.0   4.9   4.9\n",
              "10        0.7   9.6  15.2   8.8   3.9   6.2  10.2   7.1   4.9   0.0   0.0\n",
              "11        0.0   9.6  15.2   8.8   3.9   6.2  10.2   7.1   4.9   0.0   0.0"
            ]
          },
          "metadata": {
            "tags": []
          },
          "execution_count": 14
        }
      ]
    },
    {
      "cell_type": "code",
      "metadata": {
        "colab": {
          "base_uri": "https://localhost:8080/",
          "height": 425
        },
        "id": "Yx2lwD1QsaWh",
        "outputId": "c4679f70-9a0f-4bca-d5a4-52132fd00a2e"
      },
      "source": [
        "df"
      ],
      "execution_count": null,
      "outputs": [
        {
          "output_type": "execute_result",
          "data": {
            "text/html": [
              "<div>\n",
              "<style scoped>\n",
              "    .dataframe tbody tr th:only-of-type {\n",
              "        vertical-align: middle;\n",
              "    }\n",
              "\n",
              "    .dataframe tbody tr th {\n",
              "        vertical-align: top;\n",
              "    }\n",
              "\n",
              "    .dataframe thead th {\n",
              "        text-align: right;\n",
              "    }\n",
              "</style>\n",
              "<table border=\"1\" class=\"dataframe\">\n",
              "  <thead>\n",
              "    <tr style=\"text-align: right;\">\n",
              "      <th>user_id</th>\n",
              "      <th>1</th>\n",
              "      <th>2</th>\n",
              "      <th>3</th>\n",
              "      <th>4</th>\n",
              "      <th>5</th>\n",
              "      <th>6</th>\n",
              "      <th>7</th>\n",
              "      <th>8</th>\n",
              "      <th>9</th>\n",
              "      <th>10</th>\n",
              "      <th>11</th>\n",
              "    </tr>\n",
              "    <tr>\n",
              "      <th>user_id</th>\n",
              "      <th></th>\n",
              "      <th></th>\n",
              "      <th></th>\n",
              "      <th></th>\n",
              "      <th></th>\n",
              "      <th></th>\n",
              "      <th></th>\n",
              "      <th></th>\n",
              "      <th></th>\n",
              "      <th></th>\n",
              "      <th></th>\n",
              "    </tr>\n",
              "  </thead>\n",
              "  <tbody>\n",
              "    <tr>\n",
              "      <th>1</th>\n",
              "      <td>0.0</td>\n",
              "      <td>9.9</td>\n",
              "      <td>15.9</td>\n",
              "      <td>9.1</td>\n",
              "      <td>4.2</td>\n",
              "      <td>6.9</td>\n",
              "      <td>10.5</td>\n",
              "      <td>7.4</td>\n",
              "      <td>5.6</td>\n",
              "      <td>0.7</td>\n",
              "      <td>0.0</td>\n",
              "    </tr>\n",
              "    <tr>\n",
              "      <th>2</th>\n",
              "      <td>9.9</td>\n",
              "      <td>0.0</td>\n",
              "      <td>12.4</td>\n",
              "      <td>17.2</td>\n",
              "      <td>6.1</td>\n",
              "      <td>6.2</td>\n",
              "      <td>0.8</td>\n",
              "      <td>4.9</td>\n",
              "      <td>11.7</td>\n",
              "      <td>9.6</td>\n",
              "      <td>9.6</td>\n",
              "    </tr>\n",
              "    <tr>\n",
              "      <th>3</th>\n",
              "      <td>15.9</td>\n",
              "      <td>12.4</td>\n",
              "      <td>0.0</td>\n",
              "      <td>12.4</td>\n",
              "      <td>18.5</td>\n",
              "      <td>9.0</td>\n",
              "      <td>12.0</td>\n",
              "      <td>17.3</td>\n",
              "      <td>12.9</td>\n",
              "      <td>15.2</td>\n",
              "      <td>15.2</td>\n",
              "    </tr>\n",
              "    <tr>\n",
              "      <th>4</th>\n",
              "      <td>9.1</td>\n",
              "      <td>17.2</td>\n",
              "      <td>12.4</td>\n",
              "      <td>0.0</td>\n",
              "      <td>12.7</td>\n",
              "      <td>11.0</td>\n",
              "      <td>18.0</td>\n",
              "      <td>15.3</td>\n",
              "      <td>5.5</td>\n",
              "      <td>8.8</td>\n",
              "      <td>8.8</td>\n",
              "    </tr>\n",
              "    <tr>\n",
              "      <th>5</th>\n",
              "      <td>4.2</td>\n",
              "      <td>6.1</td>\n",
              "      <td>18.5</td>\n",
              "      <td>12.7</td>\n",
              "      <td>0.0</td>\n",
              "      <td>9.5</td>\n",
              "      <td>6.5</td>\n",
              "      <td>3.2</td>\n",
              "      <td>8.2</td>\n",
              "      <td>3.9</td>\n",
              "      <td>3.9</td>\n",
              "    </tr>\n",
              "    <tr>\n",
              "      <th>6</th>\n",
              "      <td>6.9</td>\n",
              "      <td>6.2</td>\n",
              "      <td>9.0</td>\n",
              "      <td>11.0</td>\n",
              "      <td>9.5</td>\n",
              "      <td>0.0</td>\n",
              "      <td>7.0</td>\n",
              "      <td>8.3</td>\n",
              "      <td>5.5</td>\n",
              "      <td>6.2</td>\n",
              "      <td>6.2</td>\n",
              "    </tr>\n",
              "    <tr>\n",
              "      <th>7</th>\n",
              "      <td>10.5</td>\n",
              "      <td>0.8</td>\n",
              "      <td>12.0</td>\n",
              "      <td>18.0</td>\n",
              "      <td>6.5</td>\n",
              "      <td>7.0</td>\n",
              "      <td>0.0</td>\n",
              "      <td>5.3</td>\n",
              "      <td>12.5</td>\n",
              "      <td>10.2</td>\n",
              "      <td>10.2</td>\n",
              "    </tr>\n",
              "    <tr>\n",
              "      <th>8</th>\n",
              "      <td>7.4</td>\n",
              "      <td>4.9</td>\n",
              "      <td>17.3</td>\n",
              "      <td>15.3</td>\n",
              "      <td>3.2</td>\n",
              "      <td>8.3</td>\n",
              "      <td>5.3</td>\n",
              "      <td>0.0</td>\n",
              "      <td>9.8</td>\n",
              "      <td>7.1</td>\n",
              "      <td>7.1</td>\n",
              "    </tr>\n",
              "    <tr>\n",
              "      <th>9</th>\n",
              "      <td>5.6</td>\n",
              "      <td>11.7</td>\n",
              "      <td>12.9</td>\n",
              "      <td>5.5</td>\n",
              "      <td>8.2</td>\n",
              "      <td>5.5</td>\n",
              "      <td>12.5</td>\n",
              "      <td>9.8</td>\n",
              "      <td>0.0</td>\n",
              "      <td>4.9</td>\n",
              "      <td>4.9</td>\n",
              "    </tr>\n",
              "    <tr>\n",
              "      <th>10</th>\n",
              "      <td>0.7</td>\n",
              "      <td>9.6</td>\n",
              "      <td>15.2</td>\n",
              "      <td>8.8</td>\n",
              "      <td>3.9</td>\n",
              "      <td>6.2</td>\n",
              "      <td>10.2</td>\n",
              "      <td>7.1</td>\n",
              "      <td>4.9</td>\n",
              "      <td>0.0</td>\n",
              "      <td>0.0</td>\n",
              "    </tr>\n",
              "    <tr>\n",
              "      <th>11</th>\n",
              "      <td>0.0</td>\n",
              "      <td>9.6</td>\n",
              "      <td>15.2</td>\n",
              "      <td>8.8</td>\n",
              "      <td>3.9</td>\n",
              "      <td>6.2</td>\n",
              "      <td>10.2</td>\n",
              "      <td>7.1</td>\n",
              "      <td>4.9</td>\n",
              "      <td>0.0</td>\n",
              "      <td>0.0</td>\n",
              "    </tr>\n",
              "  </tbody>\n",
              "</table>\n",
              "</div>"
            ],
            "text/plain": [
              "user_id    1     2     3     4     5     6     7     8     9     10    11\n",
              "user_id                                                                  \n",
              "1         0.0   9.9  15.9   9.1   4.2   6.9  10.5   7.4   5.6   0.7   0.0\n",
              "2         9.9   0.0  12.4  17.2   6.1   6.2   0.8   4.9  11.7   9.6   9.6\n",
              "3        15.9  12.4   0.0  12.4  18.5   9.0  12.0  17.3  12.9  15.2  15.2\n",
              "4         9.1  17.2  12.4   0.0  12.7  11.0  18.0  15.3   5.5   8.8   8.8\n",
              "5         4.2   6.1  18.5  12.7   0.0   9.5   6.5   3.2   8.2   3.9   3.9\n",
              "6         6.9   6.2   9.0  11.0   9.5   0.0   7.0   8.3   5.5   6.2   6.2\n",
              "7        10.5   0.8  12.0  18.0   6.5   7.0   0.0   5.3  12.5  10.2  10.2\n",
              "8         7.4   4.9  17.3  15.3   3.2   8.3   5.3   0.0   9.8   7.1   7.1\n",
              "9         5.6  11.7  12.9   5.5   8.2   5.5  12.5   9.8   0.0   4.9   4.9\n",
              "10        0.7   9.6  15.2   8.8   3.9   6.2  10.2   7.1   4.9   0.0   0.0\n",
              "11        0.0   9.6  15.2   8.8   3.9   6.2  10.2   7.1   4.9   0.0   0.0"
            ]
          },
          "metadata": {
            "tags": []
          },
          "execution_count": 15
        }
      ]
    },
    {
      "cell_type": "code",
      "metadata": {
        "colab": {
          "base_uri": "https://localhost:8080/",
          "height": 394
        },
        "id": "x1vv24ZosuDW",
        "outputId": "6b98aff1-aacd-4e51-8bfc-155fd2a38137"
      },
      "source": [
        "x = 2\n",
        "y = 7\n",
        "\n",
        "n = 12\n",
        "\n",
        "df[n] = df[x] + df[y]\n",
        "df.loc[n] = df.loc[x] + df.loc[y]\n",
        "Z.append([x,y,df.loc[x][y],2])\n",
        "\n",
        "for i in df.columns.values.tolist():\n",
        "  df.loc[n][i] = min(df.loc[x][i],df.loc[y][i])\n",
        "  df.loc[i][n] = min(df.loc[i][x],df.loc[i][y])\n",
        "\n",
        "df = df.drop([x,y])\n",
        "df = df.drop([x,y],axis = 1)\n",
        "df"
      ],
      "execution_count": null,
      "outputs": [
        {
          "output_type": "execute_result",
          "data": {
            "text/html": [
              "<div>\n",
              "<style scoped>\n",
              "    .dataframe tbody tr th:only-of-type {\n",
              "        vertical-align: middle;\n",
              "    }\n",
              "\n",
              "    .dataframe tbody tr th {\n",
              "        vertical-align: top;\n",
              "    }\n",
              "\n",
              "    .dataframe thead th {\n",
              "        text-align: right;\n",
              "    }\n",
              "</style>\n",
              "<table border=\"1\" class=\"dataframe\">\n",
              "  <thead>\n",
              "    <tr style=\"text-align: right;\">\n",
              "      <th>user_id</th>\n",
              "      <th>1</th>\n",
              "      <th>3</th>\n",
              "      <th>4</th>\n",
              "      <th>5</th>\n",
              "      <th>6</th>\n",
              "      <th>8</th>\n",
              "      <th>9</th>\n",
              "      <th>10</th>\n",
              "      <th>11</th>\n",
              "      <th>12</th>\n",
              "    </tr>\n",
              "    <tr>\n",
              "      <th>user_id</th>\n",
              "      <th></th>\n",
              "      <th></th>\n",
              "      <th></th>\n",
              "      <th></th>\n",
              "      <th></th>\n",
              "      <th></th>\n",
              "      <th></th>\n",
              "      <th></th>\n",
              "      <th></th>\n",
              "      <th></th>\n",
              "    </tr>\n",
              "  </thead>\n",
              "  <tbody>\n",
              "    <tr>\n",
              "      <th>1</th>\n",
              "      <td>0.0</td>\n",
              "      <td>15.9</td>\n",
              "      <td>9.1</td>\n",
              "      <td>4.2</td>\n",
              "      <td>6.9</td>\n",
              "      <td>7.4</td>\n",
              "      <td>5.6</td>\n",
              "      <td>0.7</td>\n",
              "      <td>0.0</td>\n",
              "      <td>9.9</td>\n",
              "    </tr>\n",
              "    <tr>\n",
              "      <th>3</th>\n",
              "      <td>15.9</td>\n",
              "      <td>0.0</td>\n",
              "      <td>12.4</td>\n",
              "      <td>18.5</td>\n",
              "      <td>9.0</td>\n",
              "      <td>17.3</td>\n",
              "      <td>12.9</td>\n",
              "      <td>15.2</td>\n",
              "      <td>15.2</td>\n",
              "      <td>12.0</td>\n",
              "    </tr>\n",
              "    <tr>\n",
              "      <th>4</th>\n",
              "      <td>9.1</td>\n",
              "      <td>12.4</td>\n",
              "      <td>0.0</td>\n",
              "      <td>12.7</td>\n",
              "      <td>11.0</td>\n",
              "      <td>15.3</td>\n",
              "      <td>5.5</td>\n",
              "      <td>8.8</td>\n",
              "      <td>8.8</td>\n",
              "      <td>17.2</td>\n",
              "    </tr>\n",
              "    <tr>\n",
              "      <th>5</th>\n",
              "      <td>4.2</td>\n",
              "      <td>18.5</td>\n",
              "      <td>12.7</td>\n",
              "      <td>0.0</td>\n",
              "      <td>9.5</td>\n",
              "      <td>3.2</td>\n",
              "      <td>8.2</td>\n",
              "      <td>3.9</td>\n",
              "      <td>3.9</td>\n",
              "      <td>6.1</td>\n",
              "    </tr>\n",
              "    <tr>\n",
              "      <th>6</th>\n",
              "      <td>6.9</td>\n",
              "      <td>9.0</td>\n",
              "      <td>11.0</td>\n",
              "      <td>9.5</td>\n",
              "      <td>0.0</td>\n",
              "      <td>8.3</td>\n",
              "      <td>5.5</td>\n",
              "      <td>6.2</td>\n",
              "      <td>6.2</td>\n",
              "      <td>6.2</td>\n",
              "    </tr>\n",
              "    <tr>\n",
              "      <th>8</th>\n",
              "      <td>7.4</td>\n",
              "      <td>17.3</td>\n",
              "      <td>15.3</td>\n",
              "      <td>3.2</td>\n",
              "      <td>8.3</td>\n",
              "      <td>0.0</td>\n",
              "      <td>9.8</td>\n",
              "      <td>7.1</td>\n",
              "      <td>7.1</td>\n",
              "      <td>4.9</td>\n",
              "    </tr>\n",
              "    <tr>\n",
              "      <th>9</th>\n",
              "      <td>5.6</td>\n",
              "      <td>12.9</td>\n",
              "      <td>5.5</td>\n",
              "      <td>8.2</td>\n",
              "      <td>5.5</td>\n",
              "      <td>9.8</td>\n",
              "      <td>0.0</td>\n",
              "      <td>4.9</td>\n",
              "      <td>4.9</td>\n",
              "      <td>11.7</td>\n",
              "    </tr>\n",
              "    <tr>\n",
              "      <th>10</th>\n",
              "      <td>0.7</td>\n",
              "      <td>15.2</td>\n",
              "      <td>8.8</td>\n",
              "      <td>3.9</td>\n",
              "      <td>6.2</td>\n",
              "      <td>7.1</td>\n",
              "      <td>4.9</td>\n",
              "      <td>0.0</td>\n",
              "      <td>0.0</td>\n",
              "      <td>9.6</td>\n",
              "    </tr>\n",
              "    <tr>\n",
              "      <th>11</th>\n",
              "      <td>0.0</td>\n",
              "      <td>15.2</td>\n",
              "      <td>8.8</td>\n",
              "      <td>3.9</td>\n",
              "      <td>6.2</td>\n",
              "      <td>7.1</td>\n",
              "      <td>4.9</td>\n",
              "      <td>0.0</td>\n",
              "      <td>0.0</td>\n",
              "      <td>9.6</td>\n",
              "    </tr>\n",
              "    <tr>\n",
              "      <th>12</th>\n",
              "      <td>9.9</td>\n",
              "      <td>12.0</td>\n",
              "      <td>17.2</td>\n",
              "      <td>6.1</td>\n",
              "      <td>6.2</td>\n",
              "      <td>4.9</td>\n",
              "      <td>11.7</td>\n",
              "      <td>9.6</td>\n",
              "      <td>9.6</td>\n",
              "      <td>0.0</td>\n",
              "    </tr>\n",
              "  </tbody>\n",
              "</table>\n",
              "</div>"
            ],
            "text/plain": [
              "user_id    1     3     4     5     6     8     9     10    11    12\n",
              "user_id                                                            \n",
              "1         0.0  15.9   9.1   4.2   6.9   7.4   5.6   0.7   0.0   9.9\n",
              "3        15.9   0.0  12.4  18.5   9.0  17.3  12.9  15.2  15.2  12.0\n",
              "4         9.1  12.4   0.0  12.7  11.0  15.3   5.5   8.8   8.8  17.2\n",
              "5         4.2  18.5  12.7   0.0   9.5   3.2   8.2   3.9   3.9   6.1\n",
              "6         6.9   9.0  11.0   9.5   0.0   8.3   5.5   6.2   6.2   6.2\n",
              "8         7.4  17.3  15.3   3.2   8.3   0.0   9.8   7.1   7.1   4.9\n",
              "9         5.6  12.9   5.5   8.2   5.5   9.8   0.0   4.9   4.9  11.7\n",
              "10        0.7  15.2   8.8   3.9   6.2   7.1   4.9   0.0   0.0   9.6\n",
              "11        0.0  15.2   8.8   3.9   6.2   7.1   4.9   0.0   0.0   9.6\n",
              "12        9.9  12.0  17.2   6.1   6.2   4.9  11.7   9.6   9.6   0.0"
            ]
          },
          "metadata": {
            "tags": []
          },
          "execution_count": 16
        }
      ]
    },
    {
      "cell_type": "code",
      "metadata": {
        "colab": {
          "base_uri": "https://localhost:8080/",
          "height": 363
        },
        "id": "Kj_Q6nWltx9u",
        "outputId": "fedd8fcd-1319-48fa-af9c-452d50647f6e"
      },
      "source": [
        "x = 5\n",
        "y = 8\n",
        "\n",
        "n = 13\n",
        "\n",
        "df[n] = df[x] + df[y]\n",
        "df.loc[n] = df.loc[x] + df.loc[y]\n",
        "Z.append([x,y,df.loc[x][y],2])\n",
        "\n",
        "for i in df.columns.values.tolist():\n",
        "  df.loc[n][i] = min(df.loc[x][i],df.loc[y][i])\n",
        "  df.loc[i][n] = min(df.loc[i][x],df.loc[i][y])\n",
        "\n",
        "df = df.drop([x,y])\n",
        "df = df.drop([x,y],axis = 1)\n",
        "df"
      ],
      "execution_count": null,
      "outputs": [
        {
          "output_type": "execute_result",
          "data": {
            "text/html": [
              "<div>\n",
              "<style scoped>\n",
              "    .dataframe tbody tr th:only-of-type {\n",
              "        vertical-align: middle;\n",
              "    }\n",
              "\n",
              "    .dataframe tbody tr th {\n",
              "        vertical-align: top;\n",
              "    }\n",
              "\n",
              "    .dataframe thead th {\n",
              "        text-align: right;\n",
              "    }\n",
              "</style>\n",
              "<table border=\"1\" class=\"dataframe\">\n",
              "  <thead>\n",
              "    <tr style=\"text-align: right;\">\n",
              "      <th>user_id</th>\n",
              "      <th>1</th>\n",
              "      <th>3</th>\n",
              "      <th>4</th>\n",
              "      <th>6</th>\n",
              "      <th>9</th>\n",
              "      <th>10</th>\n",
              "      <th>11</th>\n",
              "      <th>12</th>\n",
              "      <th>13</th>\n",
              "    </tr>\n",
              "    <tr>\n",
              "      <th>user_id</th>\n",
              "      <th></th>\n",
              "      <th></th>\n",
              "      <th></th>\n",
              "      <th></th>\n",
              "      <th></th>\n",
              "      <th></th>\n",
              "      <th></th>\n",
              "      <th></th>\n",
              "      <th></th>\n",
              "    </tr>\n",
              "  </thead>\n",
              "  <tbody>\n",
              "    <tr>\n",
              "      <th>1</th>\n",
              "      <td>0.0</td>\n",
              "      <td>15.9</td>\n",
              "      <td>9.1</td>\n",
              "      <td>6.9</td>\n",
              "      <td>5.6</td>\n",
              "      <td>0.7</td>\n",
              "      <td>0.0</td>\n",
              "      <td>9.9</td>\n",
              "      <td>4.2</td>\n",
              "    </tr>\n",
              "    <tr>\n",
              "      <th>3</th>\n",
              "      <td>15.9</td>\n",
              "      <td>0.0</td>\n",
              "      <td>12.4</td>\n",
              "      <td>9.0</td>\n",
              "      <td>12.9</td>\n",
              "      <td>15.2</td>\n",
              "      <td>15.2</td>\n",
              "      <td>12.0</td>\n",
              "      <td>17.3</td>\n",
              "    </tr>\n",
              "    <tr>\n",
              "      <th>4</th>\n",
              "      <td>9.1</td>\n",
              "      <td>12.4</td>\n",
              "      <td>0.0</td>\n",
              "      <td>11.0</td>\n",
              "      <td>5.5</td>\n",
              "      <td>8.8</td>\n",
              "      <td>8.8</td>\n",
              "      <td>17.2</td>\n",
              "      <td>12.7</td>\n",
              "    </tr>\n",
              "    <tr>\n",
              "      <th>6</th>\n",
              "      <td>6.9</td>\n",
              "      <td>9.0</td>\n",
              "      <td>11.0</td>\n",
              "      <td>0.0</td>\n",
              "      <td>5.5</td>\n",
              "      <td>6.2</td>\n",
              "      <td>6.2</td>\n",
              "      <td>6.2</td>\n",
              "      <td>8.3</td>\n",
              "    </tr>\n",
              "    <tr>\n",
              "      <th>9</th>\n",
              "      <td>5.6</td>\n",
              "      <td>12.9</td>\n",
              "      <td>5.5</td>\n",
              "      <td>5.5</td>\n",
              "      <td>0.0</td>\n",
              "      <td>4.9</td>\n",
              "      <td>4.9</td>\n",
              "      <td>11.7</td>\n",
              "      <td>8.2</td>\n",
              "    </tr>\n",
              "    <tr>\n",
              "      <th>10</th>\n",
              "      <td>0.7</td>\n",
              "      <td>15.2</td>\n",
              "      <td>8.8</td>\n",
              "      <td>6.2</td>\n",
              "      <td>4.9</td>\n",
              "      <td>0.0</td>\n",
              "      <td>0.0</td>\n",
              "      <td>9.6</td>\n",
              "      <td>3.9</td>\n",
              "    </tr>\n",
              "    <tr>\n",
              "      <th>11</th>\n",
              "      <td>0.0</td>\n",
              "      <td>15.2</td>\n",
              "      <td>8.8</td>\n",
              "      <td>6.2</td>\n",
              "      <td>4.9</td>\n",
              "      <td>0.0</td>\n",
              "      <td>0.0</td>\n",
              "      <td>9.6</td>\n",
              "      <td>3.9</td>\n",
              "    </tr>\n",
              "    <tr>\n",
              "      <th>12</th>\n",
              "      <td>9.9</td>\n",
              "      <td>12.0</td>\n",
              "      <td>17.2</td>\n",
              "      <td>6.2</td>\n",
              "      <td>11.7</td>\n",
              "      <td>9.6</td>\n",
              "      <td>9.6</td>\n",
              "      <td>0.0</td>\n",
              "      <td>4.9</td>\n",
              "    </tr>\n",
              "    <tr>\n",
              "      <th>13</th>\n",
              "      <td>4.2</td>\n",
              "      <td>17.3</td>\n",
              "      <td>12.7</td>\n",
              "      <td>8.3</td>\n",
              "      <td>8.2</td>\n",
              "      <td>3.9</td>\n",
              "      <td>3.9</td>\n",
              "      <td>4.9</td>\n",
              "      <td>0.0</td>\n",
              "    </tr>\n",
              "  </tbody>\n",
              "</table>\n",
              "</div>"
            ],
            "text/plain": [
              "user_id    1     3     4     6     9     10    11    12    13\n",
              "user_id                                                      \n",
              "1         0.0  15.9   9.1   6.9   5.6   0.7   0.0   9.9   4.2\n",
              "3        15.9   0.0  12.4   9.0  12.9  15.2  15.2  12.0  17.3\n",
              "4         9.1  12.4   0.0  11.0   5.5   8.8   8.8  17.2  12.7\n",
              "6         6.9   9.0  11.0   0.0   5.5   6.2   6.2   6.2   8.3\n",
              "9         5.6  12.9   5.5   5.5   0.0   4.9   4.9  11.7   8.2\n",
              "10        0.7  15.2   8.8   6.2   4.9   0.0   0.0   9.6   3.9\n",
              "11        0.0  15.2   8.8   6.2   4.9   0.0   0.0   9.6   3.9\n",
              "12        9.9  12.0  17.2   6.2  11.7   9.6   9.6   0.0   4.9\n",
              "13        4.2  17.3  12.7   8.3   8.2   3.9   3.9   4.9   0.0"
            ]
          },
          "metadata": {
            "tags": []
          },
          "execution_count": 17
        }
      ]
    },
    {
      "cell_type": "code",
      "metadata": {
        "colab": {
          "base_uri": "https://localhost:8080/",
          "height": 331
        },
        "id": "lCpeIjj0uKeh",
        "outputId": "579a51bd-5617-443e-833c-fee0da1932e7"
      },
      "source": [
        "x = 11\n",
        "y = 13\n",
        "\n",
        "n = 14\n",
        "\n",
        "df[n] = df[x] + df[y]\n",
        "df.loc[n] = df.loc[x] + df.loc[y]\n",
        "Z.append([x,y,df.loc[x][y],2])\n",
        "\n",
        "for i in df.columns.values.tolist():\n",
        "  df.loc[n][i] = min(df.loc[x][i],df.loc[y][i])\n",
        "  df.loc[i][n] = min(df.loc[i][x],df.loc[i][y])\n",
        "\n",
        "df = df.drop([x,y])\n",
        "df = df.drop([x,y],axis = 1)\n",
        "df"
      ],
      "execution_count": null,
      "outputs": [
        {
          "output_type": "execute_result",
          "data": {
            "text/html": [
              "<div>\n",
              "<style scoped>\n",
              "    .dataframe tbody tr th:only-of-type {\n",
              "        vertical-align: middle;\n",
              "    }\n",
              "\n",
              "    .dataframe tbody tr th {\n",
              "        vertical-align: top;\n",
              "    }\n",
              "\n",
              "    .dataframe thead th {\n",
              "        text-align: right;\n",
              "    }\n",
              "</style>\n",
              "<table border=\"1\" class=\"dataframe\">\n",
              "  <thead>\n",
              "    <tr style=\"text-align: right;\">\n",
              "      <th>user_id</th>\n",
              "      <th>1</th>\n",
              "      <th>3</th>\n",
              "      <th>4</th>\n",
              "      <th>6</th>\n",
              "      <th>9</th>\n",
              "      <th>10</th>\n",
              "      <th>12</th>\n",
              "      <th>14</th>\n",
              "    </tr>\n",
              "    <tr>\n",
              "      <th>user_id</th>\n",
              "      <th></th>\n",
              "      <th></th>\n",
              "      <th></th>\n",
              "      <th></th>\n",
              "      <th></th>\n",
              "      <th></th>\n",
              "      <th></th>\n",
              "      <th></th>\n",
              "    </tr>\n",
              "  </thead>\n",
              "  <tbody>\n",
              "    <tr>\n",
              "      <th>1</th>\n",
              "      <td>0.0</td>\n",
              "      <td>15.9</td>\n",
              "      <td>9.1</td>\n",
              "      <td>6.9</td>\n",
              "      <td>5.6</td>\n",
              "      <td>0.7</td>\n",
              "      <td>9.9</td>\n",
              "      <td>0.0</td>\n",
              "    </tr>\n",
              "    <tr>\n",
              "      <th>3</th>\n",
              "      <td>15.9</td>\n",
              "      <td>0.0</td>\n",
              "      <td>12.4</td>\n",
              "      <td>9.0</td>\n",
              "      <td>12.9</td>\n",
              "      <td>15.2</td>\n",
              "      <td>12.0</td>\n",
              "      <td>15.2</td>\n",
              "    </tr>\n",
              "    <tr>\n",
              "      <th>4</th>\n",
              "      <td>9.1</td>\n",
              "      <td>12.4</td>\n",
              "      <td>0.0</td>\n",
              "      <td>11.0</td>\n",
              "      <td>5.5</td>\n",
              "      <td>8.8</td>\n",
              "      <td>17.2</td>\n",
              "      <td>8.8</td>\n",
              "    </tr>\n",
              "    <tr>\n",
              "      <th>6</th>\n",
              "      <td>6.9</td>\n",
              "      <td>9.0</td>\n",
              "      <td>11.0</td>\n",
              "      <td>0.0</td>\n",
              "      <td>5.5</td>\n",
              "      <td>6.2</td>\n",
              "      <td>6.2</td>\n",
              "      <td>6.2</td>\n",
              "    </tr>\n",
              "    <tr>\n",
              "      <th>9</th>\n",
              "      <td>5.6</td>\n",
              "      <td>12.9</td>\n",
              "      <td>5.5</td>\n",
              "      <td>5.5</td>\n",
              "      <td>0.0</td>\n",
              "      <td>4.9</td>\n",
              "      <td>11.7</td>\n",
              "      <td>4.9</td>\n",
              "    </tr>\n",
              "    <tr>\n",
              "      <th>10</th>\n",
              "      <td>0.7</td>\n",
              "      <td>15.2</td>\n",
              "      <td>8.8</td>\n",
              "      <td>6.2</td>\n",
              "      <td>4.9</td>\n",
              "      <td>0.0</td>\n",
              "      <td>9.6</td>\n",
              "      <td>0.0</td>\n",
              "    </tr>\n",
              "    <tr>\n",
              "      <th>12</th>\n",
              "      <td>9.9</td>\n",
              "      <td>12.0</td>\n",
              "      <td>17.2</td>\n",
              "      <td>6.2</td>\n",
              "      <td>11.7</td>\n",
              "      <td>9.6</td>\n",
              "      <td>0.0</td>\n",
              "      <td>4.9</td>\n",
              "    </tr>\n",
              "    <tr>\n",
              "      <th>14</th>\n",
              "      <td>0.0</td>\n",
              "      <td>15.2</td>\n",
              "      <td>8.8</td>\n",
              "      <td>6.2</td>\n",
              "      <td>4.9</td>\n",
              "      <td>0.0</td>\n",
              "      <td>4.9</td>\n",
              "      <td>0.0</td>\n",
              "    </tr>\n",
              "  </tbody>\n",
              "</table>\n",
              "</div>"
            ],
            "text/plain": [
              "user_id    1     3     4     6     9     10    12    14\n",
              "user_id                                                \n",
              "1         0.0  15.9   9.1   6.9   5.6   0.7   9.9   0.0\n",
              "3        15.9   0.0  12.4   9.0  12.9  15.2  12.0  15.2\n",
              "4         9.1  12.4   0.0  11.0   5.5   8.8  17.2   8.8\n",
              "6         6.9   9.0  11.0   0.0   5.5   6.2   6.2   6.2\n",
              "9         5.6  12.9   5.5   5.5   0.0   4.9  11.7   4.9\n",
              "10        0.7  15.2   8.8   6.2   4.9   0.0   9.6   0.0\n",
              "12        9.9  12.0  17.2   6.2  11.7   9.6   0.0   4.9\n",
              "14        0.0  15.2   8.8   6.2   4.9   0.0   4.9   0.0"
            ]
          },
          "metadata": {
            "tags": []
          },
          "execution_count": 18
        }
      ]
    },
    {
      "cell_type": "code",
      "metadata": {
        "colab": {
          "base_uri": "https://localhost:8080/",
          "height": 269
        },
        "id": "a3XLDMwMuNur",
        "outputId": "c5bf5d21-323d-4451-df07-16336fae2cf6"
      },
      "source": [
        "x = 9\n",
        "y = 12\n",
        "z = 14\n",
        "\n",
        "n = 15\n",
        "df[n] = df[x] + df[y] + df[z]\n",
        "df.loc[n] = df.loc[x] + df.loc[y]\n",
        "Z.append([x,y,df.loc[x][y],3])\n",
        "\n",
        "for i in df.columns.values.tolist():\n",
        "  df.loc[n][i] = min(df.loc[x][i],df.loc[y][i],df.loc[z][i])\n",
        "  df.loc[i][n] = min(df.loc[i][x],df.loc[i][y],df.loc[i][z])\n",
        "\n",
        "df = df.drop([x,y,z])\n",
        "df = df.drop([x,y,z],axis = 1)\n",
        "df"
      ],
      "execution_count": null,
      "outputs": [
        {
          "output_type": "execute_result",
          "data": {
            "text/html": [
              "<div>\n",
              "<style scoped>\n",
              "    .dataframe tbody tr th:only-of-type {\n",
              "        vertical-align: middle;\n",
              "    }\n",
              "\n",
              "    .dataframe tbody tr th {\n",
              "        vertical-align: top;\n",
              "    }\n",
              "\n",
              "    .dataframe thead th {\n",
              "        text-align: right;\n",
              "    }\n",
              "</style>\n",
              "<table border=\"1\" class=\"dataframe\">\n",
              "  <thead>\n",
              "    <tr style=\"text-align: right;\">\n",
              "      <th>user_id</th>\n",
              "      <th>1</th>\n",
              "      <th>3</th>\n",
              "      <th>4</th>\n",
              "      <th>6</th>\n",
              "      <th>10</th>\n",
              "      <th>15</th>\n",
              "    </tr>\n",
              "    <tr>\n",
              "      <th>user_id</th>\n",
              "      <th></th>\n",
              "      <th></th>\n",
              "      <th></th>\n",
              "      <th></th>\n",
              "      <th></th>\n",
              "      <th></th>\n",
              "    </tr>\n",
              "  </thead>\n",
              "  <tbody>\n",
              "    <tr>\n",
              "      <th>1</th>\n",
              "      <td>0.0</td>\n",
              "      <td>15.9</td>\n",
              "      <td>9.1</td>\n",
              "      <td>6.9</td>\n",
              "      <td>0.7</td>\n",
              "      <td>0.0</td>\n",
              "    </tr>\n",
              "    <tr>\n",
              "      <th>3</th>\n",
              "      <td>15.9</td>\n",
              "      <td>0.0</td>\n",
              "      <td>12.4</td>\n",
              "      <td>9.0</td>\n",
              "      <td>15.2</td>\n",
              "      <td>12.0</td>\n",
              "    </tr>\n",
              "    <tr>\n",
              "      <th>4</th>\n",
              "      <td>9.1</td>\n",
              "      <td>12.4</td>\n",
              "      <td>0.0</td>\n",
              "      <td>11.0</td>\n",
              "      <td>8.8</td>\n",
              "      <td>5.5</td>\n",
              "    </tr>\n",
              "    <tr>\n",
              "      <th>6</th>\n",
              "      <td>6.9</td>\n",
              "      <td>9.0</td>\n",
              "      <td>11.0</td>\n",
              "      <td>0.0</td>\n",
              "      <td>6.2</td>\n",
              "      <td>5.5</td>\n",
              "    </tr>\n",
              "    <tr>\n",
              "      <th>10</th>\n",
              "      <td>0.7</td>\n",
              "      <td>15.2</td>\n",
              "      <td>8.8</td>\n",
              "      <td>6.2</td>\n",
              "      <td>0.0</td>\n",
              "      <td>0.0</td>\n",
              "    </tr>\n",
              "    <tr>\n",
              "      <th>15</th>\n",
              "      <td>0.0</td>\n",
              "      <td>12.0</td>\n",
              "      <td>5.5</td>\n",
              "      <td>5.5</td>\n",
              "      <td>0.0</td>\n",
              "      <td>0.0</td>\n",
              "    </tr>\n",
              "  </tbody>\n",
              "</table>\n",
              "</div>"
            ],
            "text/plain": [
              "user_id    1     3     4     6     10    15\n",
              "user_id                                    \n",
              "1         0.0  15.9   9.1   6.9   0.7   0.0\n",
              "3        15.9   0.0  12.4   9.0  15.2  12.0\n",
              "4         9.1  12.4   0.0  11.0   8.8   5.5\n",
              "6         6.9   9.0  11.0   0.0   6.2   5.5\n",
              "10        0.7  15.2   8.8   6.2   0.0   0.0\n",
              "15        0.0  12.0   5.5   5.5   0.0   0.0"
            ]
          },
          "metadata": {
            "tags": []
          },
          "execution_count": 19
        }
      ]
    },
    {
      "cell_type": "code",
      "metadata": {
        "colab": {
          "base_uri": "https://localhost:8080/",
          "height": 206
        },
        "id": "4GHL-LPau3dG",
        "outputId": "e89a7f77-42c4-4f89-916b-86acf24eb42b"
      },
      "source": [
        "x = 4\n",
        "y = 6\n",
        "z = 15\n",
        "\n",
        "n = 16\n",
        "df[n] = df[x] + df[y] + df[z]\n",
        "df.loc[n] = df.loc[x] + df.loc[y]\n",
        "Z.append([x,y,df.loc[x][y],3])\n",
        "\n",
        "for i in df.columns.values.tolist():\n",
        "  df.loc[n][i] = min(df.loc[x][i],df.loc[y][i],df.loc[z][i])\n",
        "  df.loc[i][n] = min(df.loc[i][x],df.loc[i][y],df.loc[i][z])\n",
        "\n",
        "df = df.drop([x,y,z])\n",
        "df = df.drop([x,y,z],axis = 1)\n",
        "df"
      ],
      "execution_count": null,
      "outputs": [
        {
          "output_type": "execute_result",
          "data": {
            "text/html": [
              "<div>\n",
              "<style scoped>\n",
              "    .dataframe tbody tr th:only-of-type {\n",
              "        vertical-align: middle;\n",
              "    }\n",
              "\n",
              "    .dataframe tbody tr th {\n",
              "        vertical-align: top;\n",
              "    }\n",
              "\n",
              "    .dataframe thead th {\n",
              "        text-align: right;\n",
              "    }\n",
              "</style>\n",
              "<table border=\"1\" class=\"dataframe\">\n",
              "  <thead>\n",
              "    <tr style=\"text-align: right;\">\n",
              "      <th>user_id</th>\n",
              "      <th>1</th>\n",
              "      <th>3</th>\n",
              "      <th>10</th>\n",
              "      <th>16</th>\n",
              "    </tr>\n",
              "    <tr>\n",
              "      <th>user_id</th>\n",
              "      <th></th>\n",
              "      <th></th>\n",
              "      <th></th>\n",
              "      <th></th>\n",
              "    </tr>\n",
              "  </thead>\n",
              "  <tbody>\n",
              "    <tr>\n",
              "      <th>1</th>\n",
              "      <td>0.0</td>\n",
              "      <td>15.9</td>\n",
              "      <td>0.7</td>\n",
              "      <td>0.0</td>\n",
              "    </tr>\n",
              "    <tr>\n",
              "      <th>3</th>\n",
              "      <td>15.9</td>\n",
              "      <td>0.0</td>\n",
              "      <td>15.2</td>\n",
              "      <td>9.0</td>\n",
              "    </tr>\n",
              "    <tr>\n",
              "      <th>10</th>\n",
              "      <td>0.7</td>\n",
              "      <td>15.2</td>\n",
              "      <td>0.0</td>\n",
              "      <td>0.0</td>\n",
              "    </tr>\n",
              "    <tr>\n",
              "      <th>16</th>\n",
              "      <td>0.0</td>\n",
              "      <td>9.0</td>\n",
              "      <td>0.0</td>\n",
              "      <td>0.0</td>\n",
              "    </tr>\n",
              "  </tbody>\n",
              "</table>\n",
              "</div>"
            ],
            "text/plain": [
              "user_id    1     3     10   16\n",
              "user_id                       \n",
              "1         0.0  15.9   0.7  0.0\n",
              "3        15.9   0.0  15.2  9.0\n",
              "10        0.7  15.2   0.0  0.0\n",
              "16        0.0   9.0   0.0  0.0"
            ]
          },
          "metadata": {
            "tags": []
          },
          "execution_count": 20
        }
      ]
    },
    {
      "cell_type": "code",
      "metadata": {
        "colab": {
          "base_uri": "https://localhost:8080/",
          "height": 175
        },
        "id": "N-9QSSX1vG4-",
        "outputId": "93cbcd22-2616-4397-be65-bbc9bc8c1cb6"
      },
      "source": [
        "x = 3\n",
        "y = 16\n",
        "\n",
        "n = 17\n",
        "\n",
        "df[n] = df[x] + df[y]\n",
        "df.loc[n] = df.loc[x] + df.loc[y]\n",
        "Z.append([x,y,df.loc[x][y],2])\n",
        "\n",
        "for i in df.columns.values.tolist():\n",
        "  df.loc[n][i] = min(df.loc[x][i],df.loc[y][i])\n",
        "  df.loc[i][n] = min(df.loc[i][x],df.loc[i][y])\n",
        "\n",
        "df = df.drop([x,y])\n",
        "df = df.drop([x,y],axis = 1)\n",
        "df"
      ],
      "execution_count": null,
      "outputs": [
        {
          "output_type": "execute_result",
          "data": {
            "text/html": [
              "<div>\n",
              "<style scoped>\n",
              "    .dataframe tbody tr th:only-of-type {\n",
              "        vertical-align: middle;\n",
              "    }\n",
              "\n",
              "    .dataframe tbody tr th {\n",
              "        vertical-align: top;\n",
              "    }\n",
              "\n",
              "    .dataframe thead th {\n",
              "        text-align: right;\n",
              "    }\n",
              "</style>\n",
              "<table border=\"1\" class=\"dataframe\">\n",
              "  <thead>\n",
              "    <tr style=\"text-align: right;\">\n",
              "      <th>user_id</th>\n",
              "      <th>1</th>\n",
              "      <th>10</th>\n",
              "      <th>17</th>\n",
              "    </tr>\n",
              "    <tr>\n",
              "      <th>user_id</th>\n",
              "      <th></th>\n",
              "      <th></th>\n",
              "      <th></th>\n",
              "    </tr>\n",
              "  </thead>\n",
              "  <tbody>\n",
              "    <tr>\n",
              "      <th>1</th>\n",
              "      <td>0.0</td>\n",
              "      <td>0.7</td>\n",
              "      <td>0.0</td>\n",
              "    </tr>\n",
              "    <tr>\n",
              "      <th>10</th>\n",
              "      <td>0.7</td>\n",
              "      <td>0.0</td>\n",
              "      <td>0.0</td>\n",
              "    </tr>\n",
              "    <tr>\n",
              "      <th>17</th>\n",
              "      <td>0.0</td>\n",
              "      <td>0.0</td>\n",
              "      <td>0.0</td>\n",
              "    </tr>\n",
              "  </tbody>\n",
              "</table>\n",
              "</div>"
            ],
            "text/plain": [
              "user_id   1    10   17\n",
              "user_id               \n",
              "1        0.0  0.7  0.0\n",
              "10       0.7  0.0  0.0\n",
              "17       0.0  0.0  0.0"
            ]
          },
          "metadata": {
            "tags": []
          },
          "execution_count": 21
        }
      ]
    },
    {
      "cell_type": "code",
      "metadata": {
        "colab": {
          "base_uri": "https://localhost:8080/"
        },
        "id": "cTmMxJ6hvsYs",
        "outputId": "95c92ca3-352b-4e07-ade9-07061ffae318"
      },
      "source": [
        "Z"
      ],
      "execution_count": null,
      "outputs": [
        {
          "output_type": "execute_result",
          "data": {
            "text/plain": [
              "[[1, 10, 0.7, 2],\n",
              " [2, 7, 0.7999999999999994, 2],\n",
              " [5, 8, 3.2, 2],\n",
              " [11, 13, 3.900000000000001, 2],\n",
              " [9, 12, 11.7, 3],\n",
              " [4, 6, 11.0, 3],\n",
              " [3, 16, 9.0, 2]]"
            ]
          },
          "metadata": {
            "tags": []
          },
          "execution_count": 22
        }
      ]
    },
    {
      "cell_type": "markdown",
      "metadata": {
        "id": "Iv8IFE-fwew2"
      },
      "source": [
        "# **Clustering jerárquico y dendogramas**"
      ]
    },
    {
      "cell_type": "code",
      "metadata": {
        "colab": {
          "base_uri": "https://localhost:8080/",
          "height": 283
        },
        "id": "hY2KZk5owjQx",
        "outputId": "6e553c8f-a9b8-4241-9739-8dba29c30014"
      },
      "source": [
        "np.random.seed(4711)\n",
        "a = np.random.multivariate_normal([10,0],[[3,1],[1,4]], size = (100,))\n",
        "b = np.random.multivariate_normal([0,20],[[3,1],[1,4]], size = [50,])\n",
        "X = np.concatenate((a,b))\n",
        "print(X.shape)\n",
        "plt.scatter(X[:,0],X[:,1])\n",
        "plt.show()"
      ],
      "execution_count": null,
      "outputs": [
        {
          "output_type": "stream",
          "text": [
            "(150, 2)\n"
          ],
          "name": "stdout"
        },
        {
          "output_type": "display_data",
          "data": {
            "image/png": "[encoded data removed]",
            "text/plain": [
              "<Figure size 432x288 with 1 Axes>"
            ]
          },
          "metadata": {
            "tags": [],
            "needs_background": "light"
          }
        }
      ]
    },
    {
      "cell_type": "code",
      "metadata": {
        "id": "bdIemWvKxv9q"
      },
      "source": [
        "Z = linkage(X, method = 'ward', metric = 'euclidean')"
      ],
      "execution_count": null,
      "outputs": []
    },
    {
      "cell_type": "code",
      "metadata": {
        "colab": {
          "base_uri": "https://localhost:8080/"
        },
        "id": "TYX3s0rxyzJ5",
        "outputId": "d4e3670f-b645-4901-db0a-d65b56ebfe2b"
      },
      "source": [
        "# Cophenet: Determinar el coeficiente de correlación cofenético\n",
        "# Dicho coeficiente compara las distancias dos a dos con respecto\n",
        "# a las distancias originales. Mientras más cercano a 1 mejor es\n",
        "# el clustering.\n",
        "# Parámetros: Matriz de distancias calculadas, distancias originales.\n",
        "\n",
        "c, coph_dist = cophenet(Z, pdist(X))\n",
        "print(str(c*100)+' por ciento de conservación de las distancias originales con respecto a los clusters que se han generado.')"
      ],
      "execution_count": null,
      "outputs": [
        {
          "output_type": "stream",
          "text": [
            "98.00148387574268 por ciento de conservación de las distancias originales con respecto a los clusters que se han generado.\n"
          ],
          "name": "stdout"
        }
      ]
    },
    {
      "cell_type": "code",
      "metadata": {
        "colab": {
          "base_uri": "https://localhost:8080/",
          "height": 505
        },
        "id": "EaRF6t9Y0ZAY",
        "outputId": "9591edc9-dc5e-416e-b0da-6cb5acb7e097"
      },
      "source": [
        "# Representación gráfica de un dendograma\n",
        "plt.figure(figsize=(25,10))\n",
        "plt.title(\"Dendograma del clustering jerárquico\")\n",
        "plt.xlabel(\"Índices de la muestra\")\n",
        "plt.ylabel('Distancias')\n",
        "# función dendrogram(matriz_de_enlaces,kwargs)\n",
        "dendrogram(Z,leaf_rotation=90,leaf_font_size=8.0)\n",
        "plt.show()"
      ],
      "execution_count": null,
      "outputs": [
        {
          "output_type": "display_data",
          "data": {
            "image/png": "[encoded data removed]",
            "text/plain": [
              "<Figure size 1800x720 with 1 Axes>"
            ]
          },
          "metadata": {
            "tags": [],
            "needs_background": "light"
          }
        }
      ]
    },
    {
      "cell_type": "code",
      "metadata": {
        "colab": {
          "base_uri": "https://localhost:8080/",
          "height": 458
        },
        "id": "GEf2LCMG3QOd",
        "outputId": "2f660f7f-969b-4496-b845-53193cbdb79b"
      },
      "source": [
        "# Truncamiento del dendograma\n",
        "plt.figure(figsize=(15,7))\n",
        "plt.title(\"Dendograma del clustering jerárquico truncado\")\n",
        "plt.xlabel(\"Índices de la muestra\")\n",
        "plt.ylabel('Distancias')\n",
        "# función dendrogram(matriz_de_enlaces,kwargs)\n",
        "# show_leaf_count: Cunatos elementos forman el cluster\n",
        "# show_contracted: contraer los clusters en el gráfico\n",
        "dendrogram(Z,leaf_rotation=90,leaf_font_size=8.0, color_threshold= 0.7*180,\n",
        "           truncate_mode = \"lastp\", p = 12,show_leaf_counts = True,show_contracted = True)\n",
        "plt.show()"
      ],
      "execution_count": null,
      "outputs": [
        {
          "output_type": "display_data",
          "data": {
            "image/png": "[encoded data removed]",
            "text/plain": [
              "<Figure size 1080x504 with 1 Axes>"
            ]
          },
          "metadata": {
            "tags": [],
            "needs_background": "light"
          }
        }
      ]
    },
    {
      "cell_type": "code",
      "metadata": {
        "id": "KBqnLiKq5PPs"
      },
      "source": [
        "# Tuneando el dendograma\n",
        "def dendrogram_tune(*args,**kwargs):\n",
        "  max_d = kwargs.pop(\"max_d\", None)\n",
        "  if max_d and 'color_threshold' not in kwargs:\n",
        "    kwargs['color_threshold'] = max_d\n",
        "  annotate_above = kwargs.pop('annotate_above',0)\n",
        "\n",
        "  ddata = dendrogram(*args,**kwargs)\n",
        "\n",
        "  if not kwargs.get('no_plot', False):\n",
        "    plt.title('Clustering jerárquico con Dendrograma truncado')\n",
        "    plt.xlabel('Índice del Dataset ( o tamaño del cluster')\n",
        "    plt.ylabel('Distancia')\n",
        "    for index,distance,color in zip(ddata['icoord'],ddata['ddata'],ddata['color_list']):\n",
        "      x = 0.5*sum[index[1:3]]\n",
        "      y = distance[1]\n",
        "      if y > annotate_above:\n",
        "        plt.plot(x,y,'o',c=color)\n",
        "        plt.annotate('%.3g'%y,(x,y),xytext=(0,-0.5),\n",
        "                     textcpprds='offset points',va= \"top\",ha = 'center')\n",
        "  \n",
        "  if max_d:\n",
        "    plt.axhline(y=max_d,c='k')\n",
        "  return ddata"
      ],
      "execution_count": null,
      "outputs": []
    },
    {
      "cell_type": "markdown",
      "metadata": {
        "id": "kf1mnlkDINd1"
      },
      "source": [
        "**Ejercicio**"
      ]
    },
    {
      "cell_type": "code",
      "metadata": {
        "colab": {
          "base_uri": "https://localhost:8080/",
          "height": 223
        },
        "id": "RwyPlfISIS-F",
        "outputId": "9f1527b7-7c43-4459-e3af-9e17af74ecc8"
      },
      "source": [
        "df = pd.read_csv('/content/drive/MyDrive/Machine Learning Python/CURSO UDEMY/Repositorio de Curso UDEMY/wine/winequality-red.csv', sep = ';')\n",
        "df.head()"
      ],
      "execution_count": null,
      "outputs": [
        {
          "output_type": "execute_result",
          "data": {
            "text/html": [
              "<div>\n",
              "<style scoped>\n",
              "    .dataframe tbody tr th:only-of-type {\n",
              "        vertical-align: middle;\n",
              "    }\n",
              "\n",
              "    .dataframe tbody tr th {\n",
              "        vertical-align: top;\n",
              "    }\n",
              "\n",
              "    .dataframe thead th {\n",
              "        text-align: right;\n",
              "    }\n",
              "</style>\n",
              "<table border=\"1\" class=\"dataframe\">\n",
              "  <thead>\n",
              "    <tr style=\"text-align: right;\">\n",
              "      <th></th>\n",
              "      <th>fixed acidity</th>\n",
              "      <th>volatile acidity</th>\n",
              "      <th>citric acid</th>\n",
              "      <th>residual sugar</th>\n",
              "      <th>chlorides</th>\n",
              "      <th>free sulfur dioxide</th>\n",
              "      <th>total sulfur dioxide</th>\n",
              "      <th>density</th>\n",
              "      <th>pH</th>\n",
              "      <th>sulphates</th>\n",
              "      <th>alcohol</th>\n",
              "      <th>quality</th>\n",
              "    </tr>\n",
              "  </thead>\n",
              "  <tbody>\n",
              "    <tr>\n",
              "      <th>0</th>\n",
              "      <td>7.4</td>\n",
              "      <td>0.70</td>\n",
              "      <td>0.00</td>\n",
              "      <td>1.9</td>\n",
              "      <td>0.076</td>\n",
              "      <td>11.0</td>\n",
              "      <td>34.0</td>\n",
              "      <td>0.9978</td>\n",
              "      <td>3.51</td>\n",
              "      <td>0.56</td>\n",
              "      <td>9.4</td>\n",
              "      <td>5</td>\n",
              "    </tr>\n",
              "    <tr>\n",
              "      <th>1</th>\n",
              "      <td>7.8</td>\n",
              "      <td>0.88</td>\n",
              "      <td>0.00</td>\n",
              "      <td>2.6</td>\n",
              "      <td>0.098</td>\n",
              "      <td>25.0</td>\n",
              "      <td>67.0</td>\n",
              "      <td>0.9968</td>\n",
              "      <td>3.20</td>\n",
              "      <td>0.68</td>\n",
              "      <td>9.8</td>\n",
              "      <td>5</td>\n",
              "    </tr>\n",
              "    <tr>\n",
              "      <th>2</th>\n",
              "      <td>7.8</td>\n",
              "      <td>0.76</td>\n",
              "      <td>0.04</td>\n",
              "      <td>2.3</td>\n",
              "      <td>0.092</td>\n",
              "      <td>15.0</td>\n",
              "      <td>54.0</td>\n",
              "      <td>0.9970</td>\n",
              "      <td>3.26</td>\n",
              "      <td>0.65</td>\n",
              "      <td>9.8</td>\n",
              "      <td>5</td>\n",
              "    </tr>\n",
              "    <tr>\n",
              "      <th>3</th>\n",
              "      <td>11.2</td>\n",
              "      <td>0.28</td>\n",
              "      <td>0.56</td>\n",
              "      <td>1.9</td>\n",
              "      <td>0.075</td>\n",
              "      <td>17.0</td>\n",
              "      <td>60.0</td>\n",
              "      <td>0.9980</td>\n",
              "      <td>3.16</td>\n",
              "      <td>0.58</td>\n",
              "      <td>9.8</td>\n",
              "      <td>6</td>\n",
              "    </tr>\n",
              "    <tr>\n",
              "      <th>4</th>\n",
              "      <td>7.4</td>\n",
              "      <td>0.70</td>\n",
              "      <td>0.00</td>\n",
              "      <td>1.9</td>\n",
              "      <td>0.076</td>\n",
              "      <td>11.0</td>\n",
              "      <td>34.0</td>\n",
              "      <td>0.9978</td>\n",
              "      <td>3.51</td>\n",
              "      <td>0.56</td>\n",
              "      <td>9.4</td>\n",
              "      <td>5</td>\n",
              "    </tr>\n",
              "  </tbody>\n",
              "</table>\n",
              "</div>"
            ],
            "text/plain": [
              "   fixed acidity  volatile acidity  citric acid  ...  sulphates  alcohol  quality\n",
              "0            7.4              0.70         0.00  ...       0.56      9.4        5\n",
              "1            7.8              0.88         0.00  ...       0.68      9.8        5\n",
              "2            7.8              0.76         0.04  ...       0.65      9.8        5\n",
              "3           11.2              0.28         0.56  ...       0.58      9.8        6\n",
              "4            7.4              0.70         0.00  ...       0.56      9.4        5\n",
              "\n",
              "[5 rows x 12 columns]"
            ]
          },
          "metadata": {
            "tags": []
          },
          "execution_count": 45
        }
      ]
    },
    {
      "cell_type": "code",
      "metadata": {
        "colab": {
          "base_uri": "https://localhost:8080/",
          "height": 223
        },
        "id": "QbqLS-8zIUWF",
        "outputId": "6a463ad9-feda-41a4-819d-2d8757eef3aa"
      },
      "source": [
        "### Normalizando los datos\n",
        "df_norm = (df - df.min())/(df.max()-df.min())\n",
        "df_norm.head()"
      ],
      "execution_count": null,
      "outputs": [
        {
          "output_type": "execute_result",
          "data": {
            "text/html": [
              "<div>\n",
              "<style scoped>\n",
              "    .dataframe tbody tr th:only-of-type {\n",
              "        vertical-align: middle;\n",
              "    }\n",
              "\n",
              "    .dataframe tbody tr th {\n",
              "        vertical-align: top;\n",
              "    }\n",
              "\n",
              "    .dataframe thead th {\n",
              "        text-align: right;\n",
              "    }\n",
              "</style>\n",
              "<table border=\"1\" class=\"dataframe\">\n",
              "  <thead>\n",
              "    <tr style=\"text-align: right;\">\n",
              "      <th></th>\n",
              "      <th>fixed acidity</th>\n",
              "      <th>volatile acidity</th>\n",
              "      <th>citric acid</th>\n",
              "      <th>residual sugar</th>\n",
              "      <th>chlorides</th>\n",
              "      <th>free sulfur dioxide</th>\n",
              "      <th>total sulfur dioxide</th>\n",
              "      <th>density</th>\n",
              "      <th>pH</th>\n",
              "      <th>sulphates</th>\n",
              "      <th>alcohol</th>\n",
              "      <th>quality</th>\n",
              "    </tr>\n",
              "  </thead>\n",
              "  <tbody>\n",
              "    <tr>\n",
              "      <th>0</th>\n",
              "      <td>0.247788</td>\n",
              "      <td>0.397260</td>\n",
              "      <td>0.00</td>\n",
              "      <td>0.068493</td>\n",
              "      <td>0.106845</td>\n",
              "      <td>0.140845</td>\n",
              "      <td>0.098940</td>\n",
              "      <td>0.567548</td>\n",
              "      <td>0.606299</td>\n",
              "      <td>0.137725</td>\n",
              "      <td>0.153846</td>\n",
              "      <td>0.4</td>\n",
              "    </tr>\n",
              "    <tr>\n",
              "      <th>1</th>\n",
              "      <td>0.283186</td>\n",
              "      <td>0.520548</td>\n",
              "      <td>0.00</td>\n",
              "      <td>0.116438</td>\n",
              "      <td>0.143573</td>\n",
              "      <td>0.338028</td>\n",
              "      <td>0.215548</td>\n",
              "      <td>0.494126</td>\n",
              "      <td>0.362205</td>\n",
              "      <td>0.209581</td>\n",
              "      <td>0.215385</td>\n",
              "      <td>0.4</td>\n",
              "    </tr>\n",
              "    <tr>\n",
              "      <th>2</th>\n",
              "      <td>0.283186</td>\n",
              "      <td>0.438356</td>\n",
              "      <td>0.04</td>\n",
              "      <td>0.095890</td>\n",
              "      <td>0.133556</td>\n",
              "      <td>0.197183</td>\n",
              "      <td>0.169611</td>\n",
              "      <td>0.508811</td>\n",
              "      <td>0.409449</td>\n",
              "      <td>0.191617</td>\n",
              "      <td>0.215385</td>\n",
              "      <td>0.4</td>\n",
              "    </tr>\n",
              "    <tr>\n",
              "      <th>3</th>\n",
              "      <td>0.584071</td>\n",
              "      <td>0.109589</td>\n",
              "      <td>0.56</td>\n",
              "      <td>0.068493</td>\n",
              "      <td>0.105175</td>\n",
              "      <td>0.225352</td>\n",
              "      <td>0.190813</td>\n",
              "      <td>0.582232</td>\n",
              "      <td>0.330709</td>\n",
              "      <td>0.149701</td>\n",
              "      <td>0.215385</td>\n",
              "      <td>0.6</td>\n",
              "    </tr>\n",
              "    <tr>\n",
              "      <th>4</th>\n",
              "      <td>0.247788</td>\n",
              "      <td>0.397260</td>\n",
              "      <td>0.00</td>\n",
              "      <td>0.068493</td>\n",
              "      <td>0.106845</td>\n",
              "      <td>0.140845</td>\n",
              "      <td>0.098940</td>\n",
              "      <td>0.567548</td>\n",
              "      <td>0.606299</td>\n",
              "      <td>0.137725</td>\n",
              "      <td>0.153846</td>\n",
              "      <td>0.4</td>\n",
              "    </tr>\n",
              "  </tbody>\n",
              "</table>\n",
              "</div>"
            ],
            "text/plain": [
              "   fixed acidity  volatile acidity  citric acid  ...  sulphates   alcohol  quality\n",
              "0       0.247788          0.397260         0.00  ...   0.137725  0.153846      0.4\n",
              "1       0.283186          0.520548         0.00  ...   0.209581  0.215385      0.4\n",
              "2       0.283186          0.438356         0.04  ...   0.191617  0.215385      0.4\n",
              "3       0.584071          0.109589         0.56  ...   0.149701  0.215385      0.6\n",
              "4       0.247788          0.397260         0.00  ...   0.137725  0.153846      0.4\n",
              "\n",
              "[5 rows x 12 columns]"
            ]
          },
          "metadata": {
            "tags": []
          },
          "execution_count": 46
        }
      ]
    },
    {
      "cell_type": "code",
      "metadata": {
        "id": "pE4foxRvIcDV"
      },
      "source": [
        "# Funcion_ AgglomerativeClustering\n",
        "clus = AgglomerativeClustering(n_clusters= 6, linkage= \"ward\").fit(df_norm)\n",
        "resultados_jerarquico = pd.Series(clus.labels_)"
      ],
      "execution_count": null,
      "outputs": []
    },
    {
      "cell_type": "code",
      "metadata": {
        "colab": {
          "base_uri": "https://localhost:8080/",
          "height": 313
        },
        "id": "qCBO2vNXJnvI",
        "outputId": "b452dc2b-cbaa-43f7-c7c2-8ee8a7bfcdff"
      },
      "source": [
        "# Histograma de los clusters\n",
        "plt.hist(resultados_jerarquico)\n",
        "plt.title('Histograma de los clusters')\n",
        "plt.xlabel('Cluster')\n",
        "plt.ylabel('Número de vinos del cluster')"
      ],
      "execution_count": null,
      "outputs": [
        {
          "output_type": "execute_result",
          "data": {
            "text/plain": [
              "Text(0, 0.5, 'Número de vinos del cluster')"
            ]
          },
          "metadata": {
            "tags": []
          },
          "execution_count": 66
        },
        {
          "output_type": "display_data",
          "data": {
            "image/png": "[encoded data removed]",
            "text/plain": [
              "<Figure size 432x288 with 1 Axes>"
            ]
          },
          "metadata": {
            "tags": [],
            "needs_background": "light"
          }
        }
      ]
    },
    {
      "cell_type": "code",
      "metadata": {
        "colab": {
          "base_uri": "https://localhost:8080/"
        },
        "id": "BLS7ve5GKE_U",
        "outputId": "e5184cb1-4cdf-45c2-ce6e-0ea949f3250d"
      },
      "source": [
        "clus.children_"
      ],
      "execution_count": null,
      "outputs": [
        {
          "output_type": "execute_result",
          "data": {
            "text/plain": [
              "array([[   0,    4],\n",
              "       [ 135,  140],\n",
              "       [ 750,  751],\n",
              "       ...,\n",
              "       [3179, 3191],\n",
              "       [3192, 3193],\n",
              "       [3194, 3195]])"
            ]
          },
          "metadata": {
            "tags": []
          },
          "execution_count": 51
        }
      ]
    },
    {
      "cell_type": "code",
      "metadata": {
        "id": "dOSQXCuNKRAQ"
      },
      "source": [
        "Enlace = linkage(df_norm,\"ward\")"
      ],
      "execution_count": null,
      "outputs": []
    },
    {
      "cell_type": "code",
      "metadata": {
        "colab": {
          "base_uri": "https://localhost:8080/",
          "height": 523
        },
        "id": "Yuu57XeeM-mM",
        "outputId": "fcc402f0-fb6c-4a6d-c764-11d6ae6c81d5"
      },
      "source": [
        "plt.figure(figsize=(15,8))\n",
        "plt.title(\"Dendrograma de vinos\")\n",
        "plt.xlabel(\"ID del vino\")\n",
        "plt.ylabel(\"Distancia\")\n",
        "dendrogram(Enlace,leaf_rotation = 90., leaf_font_size=8.,show_contracted= True)\n",
        "plt.show()"
      ],
      "execution_count": null,
      "outputs": [
        {
          "output_type": "display_data",
          "data": {
            "image/png": "[encoded data removed]",
            "text/plain": [
              "<Figure size 1080x576 with 1 Axes>"
            ]
          },
          "metadata": {
            "tags": [],
            "needs_background": "light"
          }
        }
      ]
    },
    {
      "cell_type": "markdown",
      "metadata": {
        "id": "3PrdHEdMAoMO"
      },
      "source": [
        "# **Clustering K-means**"
      ]
    },
    {
      "cell_type": "markdown",
      "metadata": {
        "id": "L_7ukxBkA0Nl"
      },
      "source": [
        "Es diferente debido a que no hay una jerarquía. Se divide en K grupos y se define a priori. Se eligen k baricentros de forma aleatoria. Se basa en alguna regla dependiendo de los datos que se está analizando. "
      ]
    },
    {
      "cell_type": "code",
      "metadata": {
        "colab": {
          "base_uri": "https://localhost:8080/"
        },
        "id": "YHrNr-hWAr0s",
        "outputId": "a1126e8b-ee71-4922-8ce8-43d0eb7c80ef"
      },
      "source": [
        "data = np.random.random(90).reshape(30,3)\n",
        "data"
      ],
      "execution_count": null,
      "outputs": [
        {
          "output_type": "execute_result",
          "data": {
            "text/plain": [
              "array([[0.47691061, 0.03677278, 0.09829644],\n",
              "       [0.56970804, 0.4600512 , 0.91048479],\n",
              "       [0.45460273, 0.44183579, 0.56879745],\n",
              "       [0.79834105, 0.75780239, 0.89108672],\n",
              "       [0.38219578, 0.49644754, 0.81442745],\n",
              "       [0.59394031, 0.77276016, 0.05092669],\n",
              "       [0.49649798, 0.35117338, 0.60194617],\n",
              "       [0.80920316, 0.4764693 , 0.47035073],\n",
              "       [0.51671892, 0.81801103, 0.10505748],\n",
              "       [0.53292129, 0.01712859, 0.77658593],\n",
              "       [0.98198138, 0.94845232, 0.02121703],\n",
              "       [0.09971147, 0.46929762, 0.07954669],\n",
              "       [0.58986518, 0.42842263, 0.75288721],\n",
              "       [0.75785077, 0.95474613, 0.44274275],\n",
              "       [0.73548399, 0.08917095, 0.2232179 ],\n",
              "       [0.33035321, 0.1077077 , 0.33116353],\n",
              "       [0.61692948, 0.86933074, 0.42244712],\n",
              "       [0.8096445 , 0.42510855, 0.77596391],\n",
              "       [0.3679287 , 0.89032209, 0.78274432],\n",
              "       [0.36004707, 0.21264865, 0.49075911],\n",
              "       [0.32499332, 0.65036789, 0.70243155],\n",
              "       [0.30621151, 0.00175745, 0.09880957],\n",
              "       [0.23052047, 0.72228244, 0.10016779],\n",
              "       [0.1839854 , 0.18326642, 0.90506884],\n",
              "       [0.04585086, 0.8347053 , 0.70573851],\n",
              "       [0.21065198, 0.39178257, 0.52043977],\n",
              "       [0.33428264, 0.79020276, 0.54835904],\n",
              "       [0.23038752, 0.08551524, 0.41720179],\n",
              "       [0.3751211 , 0.73514195, 0.87591653],\n",
              "       [0.74001875, 0.36239827, 0.47229589]])"
            ]
          },
          "metadata": {
            "tags": []
          },
          "execution_count": 31
        }
      ]
    },
    {
      "cell_type": "code",
      "metadata": {
        "colab": {
          "base_uri": "https://localhost:8080/"
        },
        "id": "6a-TPoLUCvg1",
        "outputId": "e8d5244a-c83e-4e3a-9990-ff83b571e052"
      },
      "source": [
        "# Defimos el centroide: de manera aleatoria\n",
        "c1 = np.random.choice(range(len(data)))\n",
        "c2 = np.random.choice(range(len(data)))\n",
        "clust_centers = np.vstack([data[c1],data[c2]])\n",
        "clust_centers"
      ],
      "execution_count": null,
      "outputs": [
        {
          "output_type": "execute_result",
          "data": {
            "text/plain": [
              "array([[0.53292129, 0.01712859, 0.77658593],\n",
              "       [0.33428264, 0.79020276, 0.54835904]])"
            ]
          },
          "metadata": {
            "tags": []
          },
          "execution_count": 32
        }
      ]
    },
    {
      "cell_type": "code",
      "metadata": {
        "colab": {
          "base_uri": "https://localhost:8080/"
        },
        "id": "z3oYeTvxDQZU",
        "outputId": "1f1b6edc-adc4-49c7-f1bb-5d535fed3820"
      },
      "source": [
        "# Nos da la distancias de los datos hacia los baricentros\n",
        "vq(data,clust_centers)"
      ],
      "execution_count": null,
      "outputs": [
        {
          "output_type": "execute_result",
          "data": {
            "text/plain": [
              "(array([0, 0, 1, 1, 1, 1, 0, 1, 1, 0, 1, 1, 0, 1, 0, 0, 1, 0, 1, 0, 1, 0,\n",
              "        1, 0, 1, 1, 1, 0, 1, 0], dtype=int32),\n",
              " array([0.68088157, 0.4641795 , 0.36912626, 0.57780815, 0.39922449,\n",
              "        0.56139585, 0.37869728, 0.57451152, 0.48017973, 0.        ,\n",
              "        0.84996193, 0.61464523, 0.41589304, 0.46651826, 0.59366482,\n",
              "        0.49763391, 0.3193811 , 0.49297441, 0.25708441, 0.38705368,\n",
              "        0.20827487, 0.71485271, 0.46503242, 0.40726637, 0.33157452,\n",
              "        0.4180941 , 0.        , 0.47472137, 0.33465412, 0.50467111]))"
            ]
          },
          "metadata": {
            "tags": []
          },
          "execution_count": 34
        }
      ]
    },
    {
      "cell_type": "code",
      "metadata": {
        "colab": {
          "base_uri": "https://localhost:8080/"
        },
        "id": "Py-rze3wDx1Q",
        "outputId": "6be62575-4052-47cb-a335-2be88691d463"
      },
      "source": [
        "kmeans(data,clust_centers)\n",
        "# El segundo output es la suma de cuadrados de todas las distancias."
      ],
      "execution_count": null,
      "outputs": [
        {
          "output_type": "execute_result",
          "data": {
            "text/plain": [
              "(array([[0.48345228, 0.26868571, 0.5428645 ],\n",
              "        [0.46493619, 0.78564791, 0.44064479]]), 0.37378426881532945)"
            ]
          },
          "metadata": {
            "tags": []
          },
          "execution_count": 37
        }
      ]
    },
    {
      "cell_type": "code",
      "metadata": {
        "colab": {
          "base_uri": "https://localhost:8080/"
        },
        "id": "vVLmIXsJEJal",
        "outputId": "6c0ac74d-05d7-4317-a740-f73b34516e63"
      },
      "source": [
        "# El primero fue con baricentros y también funciona con la cantidad de clusters.\n",
        "kmeans(data,2)"
      ],
      "execution_count": null,
      "outputs": [
        {
          "output_type": "execute_result",
          "data": {
            "text/plain": [
              "(array([[0.34666641, 0.1595048 , 0.39410896],\n",
              "        [0.53980976, 0.65930159, 0.55079946]]), 0.37142497982785655)"
            ]
          },
          "metadata": {
            "tags": []
          },
          "execution_count": 38
        }
      ]
    },
    {
      "cell_type": "markdown",
      "metadata": {
        "id": "wUAW66JeF5z0"
      },
      "source": [
        "**Clustering de vinos**"
      ]
    },
    {
      "cell_type": "code",
      "metadata": {
        "colab": {
          "base_uri": "https://localhost:8080/",
          "height": 223
        },
        "id": "UEdnyzp_EclY",
        "outputId": "fdfebec3-e2f8-4215-d321-032bac0fb6ae"
      },
      "source": [
        "df = pd.read_csv('/content/drive/MyDrive/Machine Learning Python/CURSO UDEMY/Repositorio de Curso UDEMY/wine/winequality-red.csv', sep = ';')\n",
        "df.head()"
      ],
      "execution_count": null,
      "outputs": [
        {
          "output_type": "execute_result",
          "data": {
            "text/html": [
              "<div>\n",
              "<style scoped>\n",
              "    .dataframe tbody tr th:only-of-type {\n",
              "        vertical-align: middle;\n",
              "    }\n",
              "\n",
              "    .dataframe tbody tr th {\n",
              "        vertical-align: top;\n",
              "    }\n",
              "\n",
              "    .dataframe thead th {\n",
              "        text-align: right;\n",
              "    }\n",
              "</style>\n",
              "<table border=\"1\" class=\"dataframe\">\n",
              "  <thead>\n",
              "    <tr style=\"text-align: right;\">\n",
              "      <th></th>\n",
              "      <th>fixed acidity</th>\n",
              "      <th>volatile acidity</th>\n",
              "      <th>citric acid</th>\n",
              "      <th>residual sugar</th>\n",
              "      <th>chlorides</th>\n",
              "      <th>free sulfur dioxide</th>\n",
              "      <th>total sulfur dioxide</th>\n",
              "      <th>density</th>\n",
              "      <th>pH</th>\n",
              "      <th>sulphates</th>\n",
              "      <th>alcohol</th>\n",
              "      <th>quality</th>\n",
              "    </tr>\n",
              "  </thead>\n",
              "  <tbody>\n",
              "    <tr>\n",
              "      <th>0</th>\n",
              "      <td>7.4</td>\n",
              "      <td>0.70</td>\n",
              "      <td>0.00</td>\n",
              "      <td>1.9</td>\n",
              "      <td>0.076</td>\n",
              "      <td>11.0</td>\n",
              "      <td>34.0</td>\n",
              "      <td>0.9978</td>\n",
              "      <td>3.51</td>\n",
              "      <td>0.56</td>\n",
              "      <td>9.4</td>\n",
              "      <td>5</td>\n",
              "    </tr>\n",
              "    <tr>\n",
              "      <th>1</th>\n",
              "      <td>7.8</td>\n",
              "      <td>0.88</td>\n",
              "      <td>0.00</td>\n",
              "      <td>2.6</td>\n",
              "      <td>0.098</td>\n",
              "      <td>25.0</td>\n",
              "      <td>67.0</td>\n",
              "      <td>0.9968</td>\n",
              "      <td>3.20</td>\n",
              "      <td>0.68</td>\n",
              "      <td>9.8</td>\n",
              "      <td>5</td>\n",
              "    </tr>\n",
              "    <tr>\n",
              "      <th>2</th>\n",
              "      <td>7.8</td>\n",
              "      <td>0.76</td>\n",
              "      <td>0.04</td>\n",
              "      <td>2.3</td>\n",
              "      <td>0.092</td>\n",
              "      <td>15.0</td>\n",
              "      <td>54.0</td>\n",
              "      <td>0.9970</td>\n",
              "      <td>3.26</td>\n",
              "      <td>0.65</td>\n",
              "      <td>9.8</td>\n",
              "      <td>5</td>\n",
              "    </tr>\n",
              "    <tr>\n",
              "      <th>3</th>\n",
              "      <td>11.2</td>\n",
              "      <td>0.28</td>\n",
              "      <td>0.56</td>\n",
              "      <td>1.9</td>\n",
              "      <td>0.075</td>\n",
              "      <td>17.0</td>\n",
              "      <td>60.0</td>\n",
              "      <td>0.9980</td>\n",
              "      <td>3.16</td>\n",
              "      <td>0.58</td>\n",
              "      <td>9.8</td>\n",
              "      <td>6</td>\n",
              "    </tr>\n",
              "    <tr>\n",
              "      <th>4</th>\n",
              "      <td>7.4</td>\n",
              "      <td>0.70</td>\n",
              "      <td>0.00</td>\n",
              "      <td>1.9</td>\n",
              "      <td>0.076</td>\n",
              "      <td>11.0</td>\n",
              "      <td>34.0</td>\n",
              "      <td>0.9978</td>\n",
              "      <td>3.51</td>\n",
              "      <td>0.56</td>\n",
              "      <td>9.4</td>\n",
              "      <td>5</td>\n",
              "    </tr>\n",
              "  </tbody>\n",
              "</table>\n",
              "</div>"
            ],
            "text/plain": [
              "   fixed acidity  volatile acidity  citric acid  ...  sulphates  alcohol  quality\n",
              "0            7.4              0.70         0.00  ...       0.56      9.4        5\n",
              "1            7.8              0.88         0.00  ...       0.68      9.8        5\n",
              "2            7.8              0.76         0.04  ...       0.65      9.8        5\n",
              "3           11.2              0.28         0.56  ...       0.58      9.8        6\n",
              "4            7.4              0.70         0.00  ...       0.56      9.4        5\n",
              "\n",
              "[5 rows x 12 columns]"
            ]
          },
          "metadata": {
            "tags": []
          },
          "execution_count": 40
        }
      ]
    },
    {
      "cell_type": "code",
      "metadata": {
        "colab": {
          "base_uri": "https://localhost:8080/"
        },
        "id": "wkhadO9IHDmd",
        "outputId": "70ecbaf6-56dc-44cf-c9d1-d699ad4c8a01"
      },
      "source": [
        "df.shape"
      ],
      "execution_count": null,
      "outputs": [
        {
          "output_type": "execute_result",
          "data": {
            "text/plain": [
              "(1599, 12)"
            ]
          },
          "metadata": {
            "tags": []
          },
          "execution_count": 41
        }
      ]
    },
    {
      "cell_type": "code",
      "metadata": {
        "colab": {
          "base_uri": "https://localhost:8080/",
          "height": 317
        },
        "id": "LECbwuoUHROS",
        "outputId": "02749179-0199-4a6a-8e41-a9243a05b385"
      },
      "source": [
        "plt.hist(df['quality'])"
      ],
      "execution_count": null,
      "outputs": [
        {
          "output_type": "execute_result",
          "data": {
            "text/plain": [
              "(array([ 10.,   0.,  53.,   0., 681.,   0., 638.,   0., 199.,  18.]),\n",
              " array([3. , 3.5, 4. , 4.5, 5. , 5.5, 6. , 6.5, 7. , 7.5, 8. ]),\n",
              " <a list of 10 Patch objects>)"
            ]
          },
          "metadata": {
            "tags": []
          },
          "execution_count": 42
        },
        {
          "output_type": "display_data",
          "data": {
            "image/png": "[encoded data removed]",
            "text/plain": [
              "<Figure size 432x288 with 1 Axes>"
            ]
          },
          "metadata": {
            "tags": [],
            "needs_background": "light"
          }
        }
      ]
    },
    {
      "cell_type": "code",
      "metadata": {
        "colab": {
          "base_uri": "https://localhost:8080/",
          "height": 286
        },
        "id": "ineWZpnYHVzW",
        "outputId": "5b503118-0045-44df-c706-6a2a0f8f1afc"
      },
      "source": [
        "df.groupby(\"quality\").mean()"
      ],
      "execution_count": null,
      "outputs": [
        {
          "output_type": "execute_result",
          "data": {
            "text/html": [
              "<div>\n",
              "<style scoped>\n",
              "    .dataframe tbody tr th:only-of-type {\n",
              "        vertical-align: middle;\n",
              "    }\n",
              "\n",
              "    .dataframe tbody tr th {\n",
              "        vertical-align: top;\n",
              "    }\n",
              "\n",
              "    .dataframe thead th {\n",
              "        text-align: right;\n",
              "    }\n",
              "</style>\n",
              "<table border=\"1\" class=\"dataframe\">\n",
              "  <thead>\n",
              "    <tr style=\"text-align: right;\">\n",
              "      <th></th>\n",
              "      <th>fixed acidity</th>\n",
              "      <th>volatile acidity</th>\n",
              "      <th>citric acid</th>\n",
              "      <th>residual sugar</th>\n",
              "      <th>chlorides</th>\n",
              "      <th>free sulfur dioxide</th>\n",
              "      <th>total sulfur dioxide</th>\n",
              "      <th>density</th>\n",
              "      <th>pH</th>\n",
              "      <th>sulphates</th>\n",
              "      <th>alcohol</th>\n",
              "    </tr>\n",
              "    <tr>\n",
              "      <th>quality</th>\n",
              "      <th></th>\n",
              "      <th></th>\n",
              "      <th></th>\n",
              "      <th></th>\n",
              "      <th></th>\n",
              "      <th></th>\n",
              "      <th></th>\n",
              "      <th></th>\n",
              "      <th></th>\n",
              "      <th></th>\n",
              "      <th></th>\n",
              "    </tr>\n",
              "  </thead>\n",
              "  <tbody>\n",
              "    <tr>\n",
              "      <th>3</th>\n",
              "      <td>8.360000</td>\n",
              "      <td>0.884500</td>\n",
              "      <td>0.171000</td>\n",
              "      <td>2.635000</td>\n",
              "      <td>0.122500</td>\n",
              "      <td>11.000000</td>\n",
              "      <td>24.900000</td>\n",
              "      <td>0.997464</td>\n",
              "      <td>3.398000</td>\n",
              "      <td>0.570000</td>\n",
              "      <td>9.955000</td>\n",
              "    </tr>\n",
              "    <tr>\n",
              "      <th>4</th>\n",
              "      <td>7.779245</td>\n",
              "      <td>0.693962</td>\n",
              "      <td>0.174151</td>\n",
              "      <td>2.694340</td>\n",
              "      <td>0.090679</td>\n",
              "      <td>12.264151</td>\n",
              "      <td>36.245283</td>\n",
              "      <td>0.996542</td>\n",
              "      <td>3.381509</td>\n",
              "      <td>0.596415</td>\n",
              "      <td>10.265094</td>\n",
              "    </tr>\n",
              "    <tr>\n",
              "      <th>5</th>\n",
              "      <td>8.167254</td>\n",
              "      <td>0.577041</td>\n",
              "      <td>0.243686</td>\n",
              "      <td>2.528855</td>\n",
              "      <td>0.092736</td>\n",
              "      <td>16.983847</td>\n",
              "      <td>56.513950</td>\n",
              "      <td>0.997104</td>\n",
              "      <td>3.304949</td>\n",
              "      <td>0.620969</td>\n",
              "      <td>9.899706</td>\n",
              "    </tr>\n",
              "    <tr>\n",
              "      <th>6</th>\n",
              "      <td>8.347179</td>\n",
              "      <td>0.497484</td>\n",
              "      <td>0.273824</td>\n",
              "      <td>2.477194</td>\n",
              "      <td>0.084956</td>\n",
              "      <td>15.711599</td>\n",
              "      <td>40.869906</td>\n",
              "      <td>0.996615</td>\n",
              "      <td>3.318072</td>\n",
              "      <td>0.675329</td>\n",
              "      <td>10.629519</td>\n",
              "    </tr>\n",
              "    <tr>\n",
              "      <th>7</th>\n",
              "      <td>8.872362</td>\n",
              "      <td>0.403920</td>\n",
              "      <td>0.375176</td>\n",
              "      <td>2.720603</td>\n",
              "      <td>0.076588</td>\n",
              "      <td>14.045226</td>\n",
              "      <td>35.020101</td>\n",
              "      <td>0.996104</td>\n",
              "      <td>3.290754</td>\n",
              "      <td>0.741256</td>\n",
              "      <td>11.465913</td>\n",
              "    </tr>\n",
              "    <tr>\n",
              "      <th>8</th>\n",
              "      <td>8.566667</td>\n",
              "      <td>0.423333</td>\n",
              "      <td>0.391111</td>\n",
              "      <td>2.577778</td>\n",
              "      <td>0.068444</td>\n",
              "      <td>13.277778</td>\n",
              "      <td>33.444444</td>\n",
              "      <td>0.995212</td>\n",
              "      <td>3.267222</td>\n",
              "      <td>0.767778</td>\n",
              "      <td>12.094444</td>\n",
              "    </tr>\n",
              "  </tbody>\n",
              "</table>\n",
              "</div>"
            ],
            "text/plain": [
              "         fixed acidity  volatile acidity  ...  sulphates    alcohol\n",
              "quality                                   ...                      \n",
              "3             8.360000          0.884500  ...   0.570000   9.955000\n",
              "4             7.779245          0.693962  ...   0.596415  10.265094\n",
              "5             8.167254          0.577041  ...   0.620969   9.899706\n",
              "6             8.347179          0.497484  ...   0.675329  10.629519\n",
              "7             8.872362          0.403920  ...   0.741256  11.465913\n",
              "8             8.566667          0.423333  ...   0.767778  12.094444\n",
              "\n",
              "[6 rows x 11 columns]"
            ]
          },
          "metadata": {
            "tags": []
          },
          "execution_count": 43
        }
      ]
    },
    {
      "cell_type": "code",
      "metadata": {
        "colab": {
          "base_uri": "https://localhost:8080/",
          "height": 223
        },
        "id": "wHEvXPSoHdry",
        "outputId": "e898502d-cafe-4053-a9f9-b16b428a627a"
      },
      "source": [
        "### Normalizando los datos\n",
        "df_norm = (df - df.min())/(df.max()-df.min())\n",
        "df_norm.head()"
      ],
      "execution_count": null,
      "outputs": [
        {
          "output_type": "execute_result",
          "data": {
            "text/html": [
              "<div>\n",
              "<style scoped>\n",
              "    .dataframe tbody tr th:only-of-type {\n",
              "        vertical-align: middle;\n",
              "    }\n",
              "\n",
              "    .dataframe tbody tr th {\n",
              "        vertical-align: top;\n",
              "    }\n",
              "\n",
              "    .dataframe thead th {\n",
              "        text-align: right;\n",
              "    }\n",
              "</style>\n",
              "<table border=\"1\" class=\"dataframe\">\n",
              "  <thead>\n",
              "    <tr style=\"text-align: right;\">\n",
              "      <th></th>\n",
              "      <th>fixed acidity</th>\n",
              "      <th>volatile acidity</th>\n",
              "      <th>citric acid</th>\n",
              "      <th>residual sugar</th>\n",
              "      <th>chlorides</th>\n",
              "      <th>free sulfur dioxide</th>\n",
              "      <th>total sulfur dioxide</th>\n",
              "      <th>density</th>\n",
              "      <th>pH</th>\n",
              "      <th>sulphates</th>\n",
              "      <th>alcohol</th>\n",
              "      <th>quality</th>\n",
              "    </tr>\n",
              "  </thead>\n",
              "  <tbody>\n",
              "    <tr>\n",
              "      <th>0</th>\n",
              "      <td>0.247788</td>\n",
              "      <td>0.397260</td>\n",
              "      <td>0.00</td>\n",
              "      <td>0.068493</td>\n",
              "      <td>0.106845</td>\n",
              "      <td>0.140845</td>\n",
              "      <td>0.098940</td>\n",
              "      <td>0.567548</td>\n",
              "      <td>0.606299</td>\n",
              "      <td>0.137725</td>\n",
              "      <td>0.153846</td>\n",
              "      <td>0.4</td>\n",
              "    </tr>\n",
              "    <tr>\n",
              "      <th>1</th>\n",
              "      <td>0.283186</td>\n",
              "      <td>0.520548</td>\n",
              "      <td>0.00</td>\n",
              "      <td>0.116438</td>\n",
              "      <td>0.143573</td>\n",
              "      <td>0.338028</td>\n",
              "      <td>0.215548</td>\n",
              "      <td>0.494126</td>\n",
              "      <td>0.362205</td>\n",
              "      <td>0.209581</td>\n",
              "      <td>0.215385</td>\n",
              "      <td>0.4</td>\n",
              "    </tr>\n",
              "    <tr>\n",
              "      <th>2</th>\n",
              "      <td>0.283186</td>\n",
              "      <td>0.438356</td>\n",
              "      <td>0.04</td>\n",
              "      <td>0.095890</td>\n",
              "      <td>0.133556</td>\n",
              "      <td>0.197183</td>\n",
              "      <td>0.169611</td>\n",
              "      <td>0.508811</td>\n",
              "      <td>0.409449</td>\n",
              "      <td>0.191617</td>\n",
              "      <td>0.215385</td>\n",
              "      <td>0.4</td>\n",
              "    </tr>\n",
              "    <tr>\n",
              "      <th>3</th>\n",
              "      <td>0.584071</td>\n",
              "      <td>0.109589</td>\n",
              "      <td>0.56</td>\n",
              "      <td>0.068493</td>\n",
              "      <td>0.105175</td>\n",
              "      <td>0.225352</td>\n",
              "      <td>0.190813</td>\n",
              "      <td>0.582232</td>\n",
              "      <td>0.330709</td>\n",
              "      <td>0.149701</td>\n",
              "      <td>0.215385</td>\n",
              "      <td>0.6</td>\n",
              "    </tr>\n",
              "    <tr>\n",
              "      <th>4</th>\n",
              "      <td>0.247788</td>\n",
              "      <td>0.397260</td>\n",
              "      <td>0.00</td>\n",
              "      <td>0.068493</td>\n",
              "      <td>0.106845</td>\n",
              "      <td>0.140845</td>\n",
              "      <td>0.098940</td>\n",
              "      <td>0.567548</td>\n",
              "      <td>0.606299</td>\n",
              "      <td>0.137725</td>\n",
              "      <td>0.153846</td>\n",
              "      <td>0.4</td>\n",
              "    </tr>\n",
              "  </tbody>\n",
              "</table>\n",
              "</div>"
            ],
            "text/plain": [
              "   fixed acidity  volatile acidity  citric acid  ...  sulphates   alcohol  quality\n",
              "0       0.247788          0.397260         0.00  ...   0.137725  0.153846      0.4\n",
              "1       0.283186          0.520548         0.00  ...   0.209581  0.215385      0.4\n",
              "2       0.283186          0.438356         0.04  ...   0.191617  0.215385      0.4\n",
              "3       0.584071          0.109589         0.56  ...   0.149701  0.215385      0.6\n",
              "4       0.247788          0.397260         0.00  ...   0.137725  0.153846      0.4\n",
              "\n",
              "[5 rows x 12 columns]"
            ]
          },
          "metadata": {
            "tags": []
          },
          "execution_count": 44
        }
      ]
    },
    {
      "cell_type": "code",
      "metadata": {
        "colab": {
          "base_uri": "https://localhost:8080/"
        },
        "id": "wP8w_I8hH-8i",
        "outputId": "27a59dd3-fdaf-440b-c78a-fe9711bb0024"
      },
      "source": [
        "# Crea el modleo de K-means\n",
        "model = KMeans(n_clusters= 6)\n",
        "model.fit(df_norm)"
      ],
      "execution_count": null,
      "outputs": [
        {
          "output_type": "execute_result",
          "data": {
            "text/plain": [
              "KMeans(algorithm='auto', copy_x=True, init='k-means++', max_iter=300,\n",
              "       n_clusters=6, n_init=10, n_jobs=None, precompute_distances='auto',\n",
              "       random_state=None, tol=0.0001, verbose=0)"
            ]
          },
          "metadata": {
            "tags": []
          },
          "execution_count": 59
        }
      ]
    },
    {
      "cell_type": "code",
      "metadata": {
        "colab": {
          "base_uri": "https://localhost:8080/"
        },
        "id": "5R7tyuFUOnSX",
        "outputId": "b43a3e69-c59f-45f8-e1fd-8c034a06e698"
      },
      "source": [
        "model.labels_"
      ],
      "execution_count": null,
      "outputs": [
        {
          "output_type": "execute_result",
          "data": {
            "text/plain": [
              "array([5, 5, 5, ..., 2, 5, 3], dtype=int32)"
            ]
          },
          "metadata": {
            "tags": []
          },
          "execution_count": 60
        }
      ]
    },
    {
      "cell_type": "code",
      "metadata": {
        "colab": {
          "base_uri": "https://localhost:8080/"
        },
        "id": "5LHiC_HXOx6j",
        "outputId": "95868bdb-9ee8-484a-8b8f-be8572585256"
      },
      "source": [
        "resultados = pd.Series(model.labels_)\n",
        "resultados"
      ],
      "execution_count": null,
      "outputs": [
        {
          "output_type": "execute_result",
          "data": {
            "text/plain": [
              "0       5\n",
              "1       5\n",
              "2       5\n",
              "3       4\n",
              "4       5\n",
              "       ..\n",
              "1594    2\n",
              "1595    2\n",
              "1596    2\n",
              "1597    5\n",
              "1598    3\n",
              "Length: 1599, dtype: int32"
            ]
          },
          "metadata": {
            "tags": []
          },
          "execution_count": 61
        }
      ]
    },
    {
      "cell_type": "code",
      "metadata": {
        "id": "QC-OJp6IO6DT"
      },
      "source": [
        "# Incorporando en el dataset original los dos tipos de clustering\n",
        "df_norm['clust_h'] = resultados_jerarquico\n",
        "df_norm['clust_k'] = resultados"
      ],
      "execution_count": null,
      "outputs": []
    },
    {
      "cell_type": "code",
      "metadata": {
        "colab": {
          "base_uri": "https://localhost:8080/",
          "height": 241
        },
        "id": "PrlWkW14PSY9",
        "outputId": "98c81918-1bcb-40fd-bc5e-19e35a47cb16"
      },
      "source": [
        "df_norm.head()"
      ],
      "execution_count": null,
      "outputs": [
        {
          "output_type": "execute_result",
          "data": {
            "text/html": [
              "<div>\n",
              "<style scoped>\n",
              "    .dataframe tbody tr th:only-of-type {\n",
              "        vertical-align: middle;\n",
              "    }\n",
              "\n",
              "    .dataframe tbody tr th {\n",
              "        vertical-align: top;\n",
              "    }\n",
              "\n",
              "    .dataframe thead th {\n",
              "        text-align: right;\n",
              "    }\n",
              "</style>\n",
              "<table border=\"1\" class=\"dataframe\">\n",
              "  <thead>\n",
              "    <tr style=\"text-align: right;\">\n",
              "      <th></th>\n",
              "      <th>fixed acidity</th>\n",
              "      <th>volatile acidity</th>\n",
              "      <th>citric acid</th>\n",
              "      <th>residual sugar</th>\n",
              "      <th>chlorides</th>\n",
              "      <th>free sulfur dioxide</th>\n",
              "      <th>total sulfur dioxide</th>\n",
              "      <th>density</th>\n",
              "      <th>pH</th>\n",
              "      <th>sulphates</th>\n",
              "      <th>alcohol</th>\n",
              "      <th>quality</th>\n",
              "      <th>clust_h</th>\n",
              "      <th>clust_k</th>\n",
              "    </tr>\n",
              "  </thead>\n",
              "  <tbody>\n",
              "    <tr>\n",
              "      <th>0</th>\n",
              "      <td>0.247788</td>\n",
              "      <td>0.397260</td>\n",
              "      <td>0.00</td>\n",
              "      <td>0.068493</td>\n",
              "      <td>0.106845</td>\n",
              "      <td>0.140845</td>\n",
              "      <td>0.098940</td>\n",
              "      <td>0.567548</td>\n",
              "      <td>0.606299</td>\n",
              "      <td>0.137725</td>\n",
              "      <td>0.153846</td>\n",
              "      <td>0.4</td>\n",
              "      <td>2</td>\n",
              "      <td>5</td>\n",
              "    </tr>\n",
              "    <tr>\n",
              "      <th>1</th>\n",
              "      <td>0.283186</td>\n",
              "      <td>0.520548</td>\n",
              "      <td>0.00</td>\n",
              "      <td>0.116438</td>\n",
              "      <td>0.143573</td>\n",
              "      <td>0.338028</td>\n",
              "      <td>0.215548</td>\n",
              "      <td>0.494126</td>\n",
              "      <td>0.362205</td>\n",
              "      <td>0.209581</td>\n",
              "      <td>0.215385</td>\n",
              "      <td>0.4</td>\n",
              "      <td>2</td>\n",
              "      <td>5</td>\n",
              "    </tr>\n",
              "    <tr>\n",
              "      <th>2</th>\n",
              "      <td>0.283186</td>\n",
              "      <td>0.438356</td>\n",
              "      <td>0.04</td>\n",
              "      <td>0.095890</td>\n",
              "      <td>0.133556</td>\n",
              "      <td>0.197183</td>\n",
              "      <td>0.169611</td>\n",
              "      <td>0.508811</td>\n",
              "      <td>0.409449</td>\n",
              "      <td>0.191617</td>\n",
              "      <td>0.215385</td>\n",
              "      <td>0.4</td>\n",
              "      <td>2</td>\n",
              "      <td>5</td>\n",
              "    </tr>\n",
              "    <tr>\n",
              "      <th>3</th>\n",
              "      <td>0.584071</td>\n",
              "      <td>0.109589</td>\n",
              "      <td>0.56</td>\n",
              "      <td>0.068493</td>\n",
              "      <td>0.105175</td>\n",
              "      <td>0.225352</td>\n",
              "      <td>0.190813</td>\n",
              "      <td>0.582232</td>\n",
              "      <td>0.330709</td>\n",
              "      <td>0.149701</td>\n",
              "      <td>0.215385</td>\n",
              "      <td>0.6</td>\n",
              "      <td>3</td>\n",
              "      <td>4</td>\n",
              "    </tr>\n",
              "    <tr>\n",
              "      <th>4</th>\n",
              "      <td>0.247788</td>\n",
              "      <td>0.397260</td>\n",
              "      <td>0.00</td>\n",
              "      <td>0.068493</td>\n",
              "      <td>0.106845</td>\n",
              "      <td>0.140845</td>\n",
              "      <td>0.098940</td>\n",
              "      <td>0.567548</td>\n",
              "      <td>0.606299</td>\n",
              "      <td>0.137725</td>\n",
              "      <td>0.153846</td>\n",
              "      <td>0.4</td>\n",
              "      <td>2</td>\n",
              "      <td>5</td>\n",
              "    </tr>\n",
              "  </tbody>\n",
              "</table>\n",
              "</div>"
            ],
            "text/plain": [
              "   fixed acidity  volatile acidity  citric acid  ...  quality  clust_h  clust_k\n",
              "0       0.247788          0.397260         0.00  ...      0.4        2        5\n",
              "1       0.283186          0.520548         0.00  ...      0.4        2        5\n",
              "2       0.283186          0.438356         0.04  ...      0.4        2        5\n",
              "3       0.584071          0.109589         0.56  ...      0.6        3        4\n",
              "4       0.247788          0.397260         0.00  ...      0.4        2        5\n",
              "\n",
              "[5 rows x 14 columns]"
            ]
          },
          "metadata": {
            "tags": []
          },
          "execution_count": 69
        }
      ]
    },
    {
      "cell_type": "code",
      "metadata": {
        "colab": {
          "base_uri": "https://localhost:8080/",
          "height": 622
        },
        "id": "k3j48qhzQAOd",
        "outputId": "c75843b3-b9a9-44af-d2d8-e6a239747a71"
      },
      "source": [
        "plt.figure(figsize = (15,10))\n",
        "plt.subplot(2,1,1)\n",
        "plt.title(\"Clustering Jerárquico\")\n",
        "plt.xlabel(\"ID_Cluster\")\n",
        "plt.ylabel(\"Número de puntos\")\n",
        "plt.hist(resultados_jerarquico)\n",
        "plt.subplot(2,1,2)\n",
        "plt.title(\"Clustering con K-means\")\n",
        "plt.xlabel(\"ID_Cluster\")\n",
        "plt.ylabel(\"Número de puntos\")\n",
        "plt.hist(resultados)\n",
        "plt.show()"
      ],
      "execution_count": null,
      "outputs": [
        {
          "output_type": "display_data",
          "data": {
            "image/png": "[encoded data removed]",
            "text/plain": [
              "<Figure size 1080x720 with 2 Axes>"
            ]
          },
          "metadata": {
            "tags": [],
            "needs_background": "light"
          }
        }
      ]
    },
    {
      "cell_type": "code",
      "metadata": {
        "colab": {
          "base_uri": "https://localhost:8080/"
        },
        "id": "-lmx1SuzQPQ7",
        "outputId": "977cdca3-52d0-4d2b-8130-56934ce9a220"
      },
      "source": [
        "# Obteniendo centroides del modelo de K-Means\n",
        "model.cluster_centers_\n",
        "# Tener en cuentra que tiene doce dimensiones"
      ],
      "execution_count": null,
      "outputs": [
        {
          "output_type": "execute_result",
          "data": {
            "text/plain": [
              "array([[0.31074397, 0.2846242 , 0.29190114, 0.16159696, 0.12591963,\n",
              "        0.41078027, 0.31396364, 0.53426799, 0.43519655, 0.17888937,\n",
              "        0.21682753, 0.45247148],\n",
              "       [0.3606455 , 0.25154445, 0.35164706, 0.09527263, 0.17119382,\n",
              "        0.15564761, 0.13571676, 0.54508076, 0.40160568, 0.23179523,\n",
              "        0.21683258, 0.48392157],\n",
              "       [0.17476866, 0.32030712, 0.09401826, 0.09351348, 0.09557787,\n",
              "        0.25114155, 0.1248205 , 0.32177365, 0.57883004, 0.18737867,\n",
              "        0.4938766 , 0.61461187],\n",
              "       [0.36505383, 0.15488051, 0.43277056, 0.10795825, 0.10755299,\n",
              "        0.16468508, 0.08402552, 0.40227956, 0.41541398, 0.23783602,\n",
              "        0.50629371, 0.71601732],\n",
              "       [0.62229724, 0.20265499, 0.54747423, 0.13829261, 0.13562983,\n",
              "        0.13990126, 0.09200029, 0.67021663, 0.31037422, 0.23452065,\n",
              "        0.31202749, 0.56597938],\n",
              "       [0.25017719, 0.37164195, 0.09171625, 0.09254412, 0.12035314,\n",
              "        0.15352757, 0.10726848, 0.48266112, 0.50173877, 0.15233149,\n",
              "        0.22812298, 0.43661327]])"
            ]
          },
          "metadata": {
            "tags": []
          },
          "execution_count": 75
        }
      ]
    },
    {
      "cell_type": "code",
      "metadata": {
        "colab": {
          "base_uri": "https://localhost:8080/"
        },
        "id": "qcgWLh7DQ7-E",
        "outputId": "2eee4fc6-abc2-4abc-f281-b1e277a301b9"
      },
      "source": [
        "# Factor de eficiencia del modelo: Suma de cuadrado de las distancias hacia el baricentro de los clusters\n",
        "model.inertia_"
      ],
      "execution_count": null,
      "outputs": [
        {
          "output_type": "execute_result",
          "data": {
            "text/plain": [
              "188.60554101711233"
            ]
          },
          "metadata": {
            "tags": []
          },
          "execution_count": 76
        }
      ]
    },
    {
      "cell_type": "markdown",
      "metadata": {
        "id": "qNS7irmIRblS"
      },
      "source": [
        "Interpretación del análisis de vinos"
      ]
    },
    {
      "cell_type": "code",
      "metadata": {
        "colab": {
          "base_uri": "https://localhost:8080/",
          "height": 303
        },
        "id": "venjjOriRFmf",
        "outputId": "e695ff0f-fe2e-41a1-8b7d-f9fd738a9309"
      },
      "source": [
        "df_norm.groupby(\"clust_k\").mean()"
      ],
      "execution_count": null,
      "outputs": [
        {
          "output_type": "execute_result",
          "data": {
            "text/html": [
              "<div>\n",
              "<style scoped>\n",
              "    .dataframe tbody tr th:only-of-type {\n",
              "        vertical-align: middle;\n",
              "    }\n",
              "\n",
              "    .dataframe tbody tr th {\n",
              "        vertical-align: top;\n",
              "    }\n",
              "\n",
              "    .dataframe thead th {\n",
              "        text-align: right;\n",
              "    }\n",
              "</style>\n",
              "<table border=\"1\" class=\"dataframe\">\n",
              "  <thead>\n",
              "    <tr style=\"text-align: right;\">\n",
              "      <th></th>\n",
              "      <th>fixed acidity</th>\n",
              "      <th>volatile acidity</th>\n",
              "      <th>citric acid</th>\n",
              "      <th>residual sugar</th>\n",
              "      <th>chlorides</th>\n",
              "      <th>free sulfur dioxide</th>\n",
              "      <th>total sulfur dioxide</th>\n",
              "      <th>density</th>\n",
              "      <th>pH</th>\n",
              "      <th>sulphates</th>\n",
              "      <th>alcohol</th>\n",
              "      <th>quality</th>\n",
              "      <th>clust_h</th>\n",
              "    </tr>\n",
              "    <tr>\n",
              "      <th>clust_k</th>\n",
              "      <th></th>\n",
              "      <th></th>\n",
              "      <th></th>\n",
              "      <th></th>\n",
              "      <th></th>\n",
              "      <th></th>\n",
              "      <th></th>\n",
              "      <th></th>\n",
              "      <th></th>\n",
              "      <th></th>\n",
              "      <th></th>\n",
              "      <th></th>\n",
              "      <th></th>\n",
              "    </tr>\n",
              "  </thead>\n",
              "  <tbody>\n",
              "    <tr>\n",
              "      <th>0</th>\n",
              "      <td>0.310744</td>\n",
              "      <td>0.284624</td>\n",
              "      <td>0.291901</td>\n",
              "      <td>0.161597</td>\n",
              "      <td>0.125920</td>\n",
              "      <td>0.410780</td>\n",
              "      <td>0.313964</td>\n",
              "      <td>0.534268</td>\n",
              "      <td>0.435197</td>\n",
              "      <td>0.178889</td>\n",
              "      <td>0.216828</td>\n",
              "      <td>0.452471</td>\n",
              "      <td>1.057034</td>\n",
              "    </tr>\n",
              "    <tr>\n",
              "      <th>1</th>\n",
              "      <td>0.360645</td>\n",
              "      <td>0.251544</td>\n",
              "      <td>0.351647</td>\n",
              "      <td>0.095273</td>\n",
              "      <td>0.171194</td>\n",
              "      <td>0.155648</td>\n",
              "      <td>0.135717</td>\n",
              "      <td>0.545081</td>\n",
              "      <td>0.401606</td>\n",
              "      <td>0.231795</td>\n",
              "      <td>0.216833</td>\n",
              "      <td>0.483922</td>\n",
              "      <td>1.537255</td>\n",
              "    </tr>\n",
              "    <tr>\n",
              "      <th>2</th>\n",
              "      <td>0.174769</td>\n",
              "      <td>0.320307</td>\n",
              "      <td>0.094018</td>\n",
              "      <td>0.093513</td>\n",
              "      <td>0.095578</td>\n",
              "      <td>0.251142</td>\n",
              "      <td>0.124820</td>\n",
              "      <td>0.321774</td>\n",
              "      <td>0.578830</td>\n",
              "      <td>0.187379</td>\n",
              "      <td>0.493877</td>\n",
              "      <td>0.614612</td>\n",
              "      <td>3.433790</td>\n",
              "    </tr>\n",
              "    <tr>\n",
              "      <th>3</th>\n",
              "      <td>0.365054</td>\n",
              "      <td>0.154881</td>\n",
              "      <td>0.432771</td>\n",
              "      <td>0.107958</td>\n",
              "      <td>0.107553</td>\n",
              "      <td>0.164685</td>\n",
              "      <td>0.084026</td>\n",
              "      <td>0.402280</td>\n",
              "      <td>0.415414</td>\n",
              "      <td>0.237836</td>\n",
              "      <td>0.506294</td>\n",
              "      <td>0.716017</td>\n",
              "      <td>0.090909</td>\n",
              "    </tr>\n",
              "    <tr>\n",
              "      <th>4</th>\n",
              "      <td>0.622297</td>\n",
              "      <td>0.202655</td>\n",
              "      <td>0.547474</td>\n",
              "      <td>0.138293</td>\n",
              "      <td>0.135630</td>\n",
              "      <td>0.139901</td>\n",
              "      <td>0.092000</td>\n",
              "      <td>0.670217</td>\n",
              "      <td>0.310374</td>\n",
              "      <td>0.234521</td>\n",
              "      <td>0.312027</td>\n",
              "      <td>0.565979</td>\n",
              "      <td>2.386598</td>\n",
              "    </tr>\n",
              "    <tr>\n",
              "      <th>5</th>\n",
              "      <td>0.250177</td>\n",
              "      <td>0.371642</td>\n",
              "      <td>0.091716</td>\n",
              "      <td>0.092544</td>\n",
              "      <td>0.120353</td>\n",
              "      <td>0.153528</td>\n",
              "      <td>0.107268</td>\n",
              "      <td>0.482661</td>\n",
              "      <td>0.501739</td>\n",
              "      <td>0.152331</td>\n",
              "      <td>0.228123</td>\n",
              "      <td>0.436613</td>\n",
              "      <td>2.082380</td>\n",
              "    </tr>\n",
              "  </tbody>\n",
              "</table>\n",
              "</div>"
            ],
            "text/plain": [
              "         fixed acidity  volatile acidity  ...   quality   clust_h\n",
              "clust_k                                   ...                    \n",
              "0             0.310744          0.284624  ...  0.452471  1.057034\n",
              "1             0.360645          0.251544  ...  0.483922  1.537255\n",
              "2             0.174769          0.320307  ...  0.614612  3.433790\n",
              "3             0.365054          0.154881  ...  0.716017  0.090909\n",
              "4             0.622297          0.202655  ...  0.565979  2.386598\n",
              "5             0.250177          0.371642  ...  0.436613  2.082380\n",
              "\n",
              "[6 rows x 13 columns]"
            ]
          },
          "metadata": {
            "tags": []
          },
          "execution_count": 78
        }
      ]
    },
    {
      "cell_type": "code",
      "metadata": {
        "id": "nJC1IfeoRhka"
      },
      "source": [
        ""
      ],
      "execution_count": null,
      "outputs": []
    }
  ]
}