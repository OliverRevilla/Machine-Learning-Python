{
  "nbformat": 4,
  "nbformat_minor": 0,
  "metadata": {
    "colab": {
      "name": "Regresion_logistica_banca.ipynb",
      "provenance": [],
      "mount_file_id": "1QRgIQ8Ig4ufWeuKG0Us4pmILKK8lBKVD",
      "authorship_tag": "ABX9TyNFGNdYzzIkFhYCV5fI3bId",
      "include_colab_link": true
    },
    "kernelspec": {
      "name": "python3",
      "display_name": "Python 3"
    },
    "language_info": {
      "name": "python"
    }
  },
  "cells": [
    {
      "cell_type": "markdown",
      "metadata": {
        "id": "view-in-github",
        "colab_type": "text"
      },
      "source": [
        "<a href=\"https://colab.research.google.com/github/OliverRevilla/Machine-Learning-Python/blob/main/Regresion_logistica_banca.ipynb\" target=\"_parent\"><img src=\"https://colab.research.google.com/assets/colab-badge.svg\" alt=\"Open In Colab\"/></a>"
      ]
    },
    {
      "cell_type": "markdown",
      "metadata": {
        "id": "D-GplqEbOSDs"
      },
      "source": [
        "REGRESIÓN LOGÍSTICA PARA BANCA"
      ]
    },
    {
      "cell_type": "code",
      "metadata": {
        "id": "ycqfE6KRJjgh"
      },
      "source": [
        "import pandas as pd\n",
        "import numpy as np\n",
        "import matplotlib.pyplot as plt"
      ],
      "execution_count": 87,
      "outputs": []
    },
    {
      "cell_type": "code",
      "metadata": {
        "colab": {
          "base_uri": "https://localhost:8080/",
          "height": 241
        },
        "id": "UU3ISzzGOUaB",
        "outputId": "d7a9c09a-6e64-4a18-9aeb-a03641b21c9a"
      },
      "source": [
        "data = pd.read_csv('/content/drive/MyDrive/Machine Learning Python/CURSO UDEMY/Repositorio de Curso UDEMY/bank/bank.csv', sep = ';')\n",
        "data.head()"
      ],
      "execution_count": 88,
      "outputs": [
        {
          "output_type": "execute_result",
          "data": {
            "text/html": [
              "<div>\n",
              "<style scoped>\n",
              "    .dataframe tbody tr th:only-of-type {\n",
              "        vertical-align: middle;\n",
              "    }\n",
              "\n",
              "    .dataframe tbody tr th {\n",
              "        vertical-align: top;\n",
              "    }\n",
              "\n",
              "    .dataframe thead th {\n",
              "        text-align: right;\n",
              "    }\n",
              "</style>\n",
              "<table border=\"1\" class=\"dataframe\">\n",
              "  <thead>\n",
              "    <tr style=\"text-align: right;\">\n",
              "      <th></th>\n",
              "      <th>age</th>\n",
              "      <th>job</th>\n",
              "      <th>marital</th>\n",
              "      <th>education</th>\n",
              "      <th>default</th>\n",
              "      <th>housing</th>\n",
              "      <th>loan</th>\n",
              "      <th>contact</th>\n",
              "      <th>month</th>\n",
              "      <th>day_of_week</th>\n",
              "      <th>duration</th>\n",
              "      <th>campaign</th>\n",
              "      <th>pdays</th>\n",
              "      <th>previous</th>\n",
              "      <th>poutcome</th>\n",
              "      <th>emp.var.rate</th>\n",
              "      <th>cons.price.idx</th>\n",
              "      <th>cons.conf.idx</th>\n",
              "      <th>euribor3m</th>\n",
              "      <th>nr.employed</th>\n",
              "      <th>y</th>\n",
              "    </tr>\n",
              "  </thead>\n",
              "  <tbody>\n",
              "    <tr>\n",
              "      <th>0</th>\n",
              "      <td>30</td>\n",
              "      <td>blue-collar</td>\n",
              "      <td>married</td>\n",
              "      <td>basic.9y</td>\n",
              "      <td>no</td>\n",
              "      <td>yes</td>\n",
              "      <td>no</td>\n",
              "      <td>cellular</td>\n",
              "      <td>may</td>\n",
              "      <td>fri</td>\n",
              "      <td>487</td>\n",
              "      <td>2</td>\n",
              "      <td>999</td>\n",
              "      <td>0</td>\n",
              "      <td>nonexistent</td>\n",
              "      <td>-1.8</td>\n",
              "      <td>92.893</td>\n",
              "      <td>-46.2</td>\n",
              "      <td>1.313</td>\n",
              "      <td>5099.1</td>\n",
              "      <td>no</td>\n",
              "    </tr>\n",
              "    <tr>\n",
              "      <th>1</th>\n",
              "      <td>39</td>\n",
              "      <td>services</td>\n",
              "      <td>single</td>\n",
              "      <td>high.school</td>\n",
              "      <td>no</td>\n",
              "      <td>no</td>\n",
              "      <td>no</td>\n",
              "      <td>telephone</td>\n",
              "      <td>may</td>\n",
              "      <td>fri</td>\n",
              "      <td>346</td>\n",
              "      <td>4</td>\n",
              "      <td>999</td>\n",
              "      <td>0</td>\n",
              "      <td>nonexistent</td>\n",
              "      <td>1.1</td>\n",
              "      <td>93.994</td>\n",
              "      <td>-36.4</td>\n",
              "      <td>4.855</td>\n",
              "      <td>5191.0</td>\n",
              "      <td>no</td>\n",
              "    </tr>\n",
              "    <tr>\n",
              "      <th>2</th>\n",
              "      <td>25</td>\n",
              "      <td>services</td>\n",
              "      <td>married</td>\n",
              "      <td>high.school</td>\n",
              "      <td>no</td>\n",
              "      <td>yes</td>\n",
              "      <td>no</td>\n",
              "      <td>telephone</td>\n",
              "      <td>jun</td>\n",
              "      <td>wed</td>\n",
              "      <td>227</td>\n",
              "      <td>1</td>\n",
              "      <td>999</td>\n",
              "      <td>0</td>\n",
              "      <td>nonexistent</td>\n",
              "      <td>1.4</td>\n",
              "      <td>94.465</td>\n",
              "      <td>-41.8</td>\n",
              "      <td>4.962</td>\n",
              "      <td>5228.1</td>\n",
              "      <td>no</td>\n",
              "    </tr>\n",
              "    <tr>\n",
              "      <th>3</th>\n",
              "      <td>38</td>\n",
              "      <td>services</td>\n",
              "      <td>married</td>\n",
              "      <td>basic.9y</td>\n",
              "      <td>no</td>\n",
              "      <td>unknown</td>\n",
              "      <td>unknown</td>\n",
              "      <td>telephone</td>\n",
              "      <td>jun</td>\n",
              "      <td>fri</td>\n",
              "      <td>17</td>\n",
              "      <td>3</td>\n",
              "      <td>999</td>\n",
              "      <td>0</td>\n",
              "      <td>nonexistent</td>\n",
              "      <td>1.4</td>\n",
              "      <td>94.465</td>\n",
              "      <td>-41.8</td>\n",
              "      <td>4.959</td>\n",
              "      <td>5228.1</td>\n",
              "      <td>no</td>\n",
              "    </tr>\n",
              "    <tr>\n",
              "      <th>4</th>\n",
              "      <td>47</td>\n",
              "      <td>admin.</td>\n",
              "      <td>married</td>\n",
              "      <td>university.degree</td>\n",
              "      <td>no</td>\n",
              "      <td>yes</td>\n",
              "      <td>no</td>\n",
              "      <td>cellular</td>\n",
              "      <td>nov</td>\n",
              "      <td>mon</td>\n",
              "      <td>58</td>\n",
              "      <td>1</td>\n",
              "      <td>999</td>\n",
              "      <td>0</td>\n",
              "      <td>nonexistent</td>\n",
              "      <td>-0.1</td>\n",
              "      <td>93.200</td>\n",
              "      <td>-42.0</td>\n",
              "      <td>4.191</td>\n",
              "      <td>5195.8</td>\n",
              "      <td>no</td>\n",
              "    </tr>\n",
              "  </tbody>\n",
              "</table>\n",
              "</div>"
            ],
            "text/plain": [
              "   age          job  marital  ... euribor3m nr.employed   y\n",
              "0   30  blue-collar  married  ...     1.313      5099.1  no\n",
              "1   39     services   single  ...     4.855      5191.0  no\n",
              "2   25     services  married  ...     4.962      5228.1  no\n",
              "3   38     services  married  ...     4.959      5228.1  no\n",
              "4   47       admin.  married  ...     4.191      5195.8  no\n",
              "\n",
              "[5 rows x 21 columns]"
            ]
          },
          "metadata": {
            "tags": []
          },
          "execution_count": 88
        }
      ]
    },
    {
      "cell_type": "code",
      "metadata": {
        "colab": {
          "base_uri": "https://localhost:8080/"
        },
        "id": "PieTT5QYPU8z",
        "outputId": "b434ca36-052a-4557-b485-60eb713800fe"
      },
      "source": [
        "data.shape"
      ],
      "execution_count": 89,
      "outputs": [
        {
          "output_type": "execute_result",
          "data": {
            "text/plain": [
              "(4119, 21)"
            ]
          },
          "metadata": {
            "tags": []
          },
          "execution_count": 89
        }
      ]
    },
    {
      "cell_type": "code",
      "metadata": {
        "colab": {
          "base_uri": "https://localhost:8080/"
        },
        "id": "3jpyRt2PPdTw",
        "outputId": "31b445f4-6266-490f-b57c-4c62cdb23eb9"
      },
      "source": [
        "data.columns"
      ],
      "execution_count": 90,
      "outputs": [
        {
          "output_type": "execute_result",
          "data": {
            "text/plain": [
              "Index(['age', 'job', 'marital', 'education', 'default', 'housing', 'loan',\n",
              "       'contact', 'month', 'day_of_week', 'duration', 'campaign', 'pdays',\n",
              "       'previous', 'poutcome', 'emp.var.rate', 'cons.price.idx',\n",
              "       'cons.conf.idx', 'euribor3m', 'nr.employed', 'y'],\n",
              "      dtype='object')"
            ]
          },
          "metadata": {
            "tags": []
          },
          "execution_count": 90
        }
      ]
    },
    {
      "cell_type": "code",
      "metadata": {
        "id": "CTv--yeWPfRV"
      },
      "source": [
        "data['Venta'] = np.where(data['y'] == 'yes',1,0)"
      ],
      "execution_count": 91,
      "outputs": []
    },
    {
      "cell_type": "code",
      "metadata": {
        "colab": {
          "base_uri": "https://localhost:8080/"
        },
        "id": "tbcLcUghSnwD",
        "outputId": "0765e162-4373-406c-8506-3f9b9ea62b6a"
      },
      "source": [
        "data['education'].unique()"
      ],
      "execution_count": 92,
      "outputs": [
        {
          "output_type": "execute_result",
          "data": {
            "text/plain": [
              "array(['basic.9y', 'high.school', 'university.degree',\n",
              "       'professional.course', 'basic.6y', 'basic.4y', 'unknown',\n",
              "       'illiterate'], dtype=object)"
            ]
          },
          "metadata": {
            "tags": []
          },
          "execution_count": 92
        }
      ]
    },
    {
      "cell_type": "code",
      "metadata": {
        "id": "7r8y8U2LTxgp"
      },
      "source": [
        "data['education'] = np.where(data['education'] == 'basic.4y',\"Basic\",data['education'])\n",
        "data['education'] = np.where(data['education'] == 'basic.6y',\"Basic\",data['education'])\n",
        "data['education'] = np.where(data['education'] == 'basic.9y',\"Basic\",data['education'])\n",
        "data['education'] = np.where(data['education'] == 'high.school',\"High School\",data['education'])\n",
        "data['education'] = np.where(data['education'] == 'university.degree',\"University Degree\",data['education'])\n",
        "data['education'] = np.where(data['education'] == 'professional.course',\"Professional Course\",data['education'])\n",
        "data['education'] = np.where(data['education'] == 'illiterate',\"Illiterate\",data['education'])\n",
        "data['education'] = np.where(data['education'] == 'unknown',\"Unknown\",data['education'])"
      ],
      "execution_count": 93,
      "outputs": []
    },
    {
      "cell_type": "code",
      "metadata": {
        "colab": {
          "base_uri": "https://localhost:8080/"
        },
        "id": "PT3YPgbuVnIu",
        "outputId": "4a708db4-3187-4461-a115-4ffb5d80eb0a"
      },
      "source": [
        "data['Venta'].value_counts()"
      ],
      "execution_count": 94,
      "outputs": [
        {
          "output_type": "execute_result",
          "data": {
            "text/plain": [
              "0    3668\n",
              "1     451\n",
              "Name: Venta, dtype: int64"
            ]
          },
          "metadata": {
            "tags": []
          },
          "execution_count": 94
        }
      ]
    },
    {
      "cell_type": "code",
      "metadata": {
        "id": "lDxIld5JG939"
      },
      "source": [
        "data = data.drop(columns='y', axis = 1)"
      ],
      "execution_count": 96,
      "outputs": []
    },
    {
      "cell_type": "code",
      "metadata": {
        "colab": {
          "base_uri": "https://localhost:8080/",
          "height": 142
        },
        "id": "bs4NGYcCV49i",
        "outputId": "642e8738-16ac-4b74-a002-b78702dfcf72"
      },
      "source": [
        "data.groupby('Venta').mean()"
      ],
      "execution_count": 97,
      "outputs": [
        {
          "output_type": "execute_result",
          "data": {
            "text/html": [
              "<div>\n",
              "<style scoped>\n",
              "    .dataframe tbody tr th:only-of-type {\n",
              "        vertical-align: middle;\n",
              "    }\n",
              "\n",
              "    .dataframe tbody tr th {\n",
              "        vertical-align: top;\n",
              "    }\n",
              "\n",
              "    .dataframe thead th {\n",
              "        text-align: right;\n",
              "    }\n",
              "</style>\n",
              "<table border=\"1\" class=\"dataframe\">\n",
              "  <thead>\n",
              "    <tr style=\"text-align: right;\">\n",
              "      <th></th>\n",
              "      <th>age</th>\n",
              "      <th>duration</th>\n",
              "      <th>campaign</th>\n",
              "      <th>pdays</th>\n",
              "      <th>previous</th>\n",
              "      <th>emp.var.rate</th>\n",
              "      <th>cons.price.idx</th>\n",
              "      <th>cons.conf.idx</th>\n",
              "      <th>euribor3m</th>\n",
              "      <th>nr.employed</th>\n",
              "    </tr>\n",
              "    <tr>\n",
              "      <th>Venta</th>\n",
              "      <th></th>\n",
              "      <th></th>\n",
              "      <th></th>\n",
              "      <th></th>\n",
              "      <th></th>\n",
              "      <th></th>\n",
              "      <th></th>\n",
              "      <th></th>\n",
              "      <th></th>\n",
              "      <th></th>\n",
              "    </tr>\n",
              "  </thead>\n",
              "  <tbody>\n",
              "    <tr>\n",
              "      <th>0</th>\n",
              "      <td>39.895311</td>\n",
              "      <td>219.40976</td>\n",
              "      <td>2.605780</td>\n",
              "      <td>982.763086</td>\n",
              "      <td>0.141767</td>\n",
              "      <td>0.240185</td>\n",
              "      <td>93.599677</td>\n",
              "      <td>-40.586723</td>\n",
              "      <td>3.802826</td>\n",
              "      <td>5175.502072</td>\n",
              "    </tr>\n",
              "    <tr>\n",
              "      <th>1</th>\n",
              "      <td>41.889135</td>\n",
              "      <td>560.78714</td>\n",
              "      <td>1.980044</td>\n",
              "      <td>778.722838</td>\n",
              "      <td>0.585366</td>\n",
              "      <td>-1.177384</td>\n",
              "      <td>93.417268</td>\n",
              "      <td>-39.786475</td>\n",
              "      <td>2.145448</td>\n",
              "      <td>5093.118625</td>\n",
              "    </tr>\n",
              "  </tbody>\n",
              "</table>\n",
              "</div>"
            ],
            "text/plain": [
              "             age   duration  campaign  ...  cons.conf.idx  euribor3m  nr.employed\n",
              "Venta                                  ...                                       \n",
              "0      39.895311  219.40976  2.605780  ...     -40.586723   3.802826  5175.502072\n",
              "1      41.889135  560.78714  1.980044  ...     -39.786475   2.145448  5093.118625\n",
              "\n",
              "[2 rows x 10 columns]"
            ]
          },
          "metadata": {
            "tags": []
          },
          "execution_count": 97
        }
      ]
    },
    {
      "cell_type": "code",
      "metadata": {
        "colab": {
          "base_uri": "https://localhost:8080/",
          "height": 266
        },
        "id": "OYMHfukXWLCu",
        "outputId": "1d598f7f-8960-4f7c-fbb8-d4a8a68f79fc"
      },
      "source": [
        "data.groupby('education').mean()"
      ],
      "execution_count": 98,
      "outputs": [
        {
          "output_type": "execute_result",
          "data": {
            "text/html": [
              "<div>\n",
              "<style scoped>\n",
              "    .dataframe tbody tr th:only-of-type {\n",
              "        vertical-align: middle;\n",
              "    }\n",
              "\n",
              "    .dataframe tbody tr th {\n",
              "        vertical-align: top;\n",
              "    }\n",
              "\n",
              "    .dataframe thead th {\n",
              "        text-align: right;\n",
              "    }\n",
              "</style>\n",
              "<table border=\"1\" class=\"dataframe\">\n",
              "  <thead>\n",
              "    <tr style=\"text-align: right;\">\n",
              "      <th></th>\n",
              "      <th>age</th>\n",
              "      <th>duration</th>\n",
              "      <th>campaign</th>\n",
              "      <th>pdays</th>\n",
              "      <th>previous</th>\n",
              "      <th>emp.var.rate</th>\n",
              "      <th>cons.price.idx</th>\n",
              "      <th>cons.conf.idx</th>\n",
              "      <th>euribor3m</th>\n",
              "      <th>nr.employed</th>\n",
              "      <th>Venta</th>\n",
              "    </tr>\n",
              "    <tr>\n",
              "      <th>education</th>\n",
              "      <th></th>\n",
              "      <th></th>\n",
              "      <th></th>\n",
              "      <th></th>\n",
              "      <th></th>\n",
              "      <th></th>\n",
              "      <th></th>\n",
              "      <th></th>\n",
              "      <th></th>\n",
              "      <th></th>\n",
              "      <th></th>\n",
              "    </tr>\n",
              "  </thead>\n",
              "  <tbody>\n",
              "    <tr>\n",
              "      <th>Basic</th>\n",
              "      <td>42.337124</td>\n",
              "      <td>253.898457</td>\n",
              "      <td>2.429732</td>\n",
              "      <td>978.815597</td>\n",
              "      <td>0.149472</td>\n",
              "      <td>0.237368</td>\n",
              "      <td>93.658600</td>\n",
              "      <td>-41.120552</td>\n",
              "      <td>3.775701</td>\n",
              "      <td>5174.133144</td>\n",
              "      <td>0.079610</td>\n",
              "    </tr>\n",
              "    <tr>\n",
              "      <th>High School</th>\n",
              "      <td>38.097720</td>\n",
              "      <td>258.534202</td>\n",
              "      <td>2.630836</td>\n",
              "      <td>958.022801</td>\n",
              "      <td>0.206298</td>\n",
              "      <td>-0.002497</td>\n",
              "      <td>93.564314</td>\n",
              "      <td>-40.995765</td>\n",
              "      <td>3.511732</td>\n",
              "      <td>5163.212595</td>\n",
              "      <td>0.105320</td>\n",
              "    </tr>\n",
              "    <tr>\n",
              "      <th>Illiterate</th>\n",
              "      <td>42.000000</td>\n",
              "      <td>146.000000</td>\n",
              "      <td>4.000000</td>\n",
              "      <td>999.000000</td>\n",
              "      <td>0.000000</td>\n",
              "      <td>-2.900000</td>\n",
              "      <td>92.201000</td>\n",
              "      <td>-31.400000</td>\n",
              "      <td>0.834000</td>\n",
              "      <td>5076.200000</td>\n",
              "      <td>0.000000</td>\n",
              "    </tr>\n",
              "    <tr>\n",
              "      <th>Professional Course</th>\n",
              "      <td>40.207477</td>\n",
              "      <td>278.816822</td>\n",
              "      <td>2.512150</td>\n",
              "      <td>958.211215</td>\n",
              "      <td>0.194393</td>\n",
              "      <td>0.163925</td>\n",
              "      <td>93.599630</td>\n",
              "      <td>-40.127664</td>\n",
              "      <td>3.701426</td>\n",
              "      <td>5167.595140</td>\n",
              "      <td>0.121495</td>\n",
              "    </tr>\n",
              "    <tr>\n",
              "      <th>University Degree</th>\n",
              "      <td>39.017405</td>\n",
              "      <td>247.707278</td>\n",
              "      <td>2.583070</td>\n",
              "      <td>947.900316</td>\n",
              "      <td>0.207278</td>\n",
              "      <td>-0.009731</td>\n",
              "      <td>93.499109</td>\n",
              "      <td>-39.830063</td>\n",
              "      <td>3.547132</td>\n",
              "      <td>5163.023180</td>\n",
              "      <td>0.130538</td>\n",
              "    </tr>\n",
              "    <tr>\n",
              "      <th>Unknown</th>\n",
              "      <td>42.826347</td>\n",
              "      <td>267.281437</td>\n",
              "      <td>2.538922</td>\n",
              "      <td>939.700599</td>\n",
              "      <td>0.263473</td>\n",
              "      <td>-0.074251</td>\n",
              "      <td>93.637455</td>\n",
              "      <td>-39.487425</td>\n",
              "      <td>3.410174</td>\n",
              "      <td>5151.260479</td>\n",
              "      <td>0.155689</td>\n",
              "    </tr>\n",
              "  </tbody>\n",
              "</table>\n",
              "</div>"
            ],
            "text/plain": [
              "                           age    duration  ...  nr.employed     Venta\n",
              "education                                   ...                       \n",
              "Basic                42.337124  253.898457  ...  5174.133144  0.079610\n",
              "High School          38.097720  258.534202  ...  5163.212595  0.105320\n",
              "Illiterate           42.000000  146.000000  ...  5076.200000  0.000000\n",
              "Professional Course  40.207477  278.816822  ...  5167.595140  0.121495\n",
              "University Degree    39.017405  247.707278  ...  5163.023180  0.130538\n",
              "Unknown              42.826347  267.281437  ...  5151.260479  0.155689\n",
              "\n",
              "[6 rows x 11 columns]"
            ]
          },
          "metadata": {
            "tags": []
          },
          "execution_count": 98
        }
      ]
    },
    {
      "cell_type": "code",
      "metadata": {
        "colab": {
          "base_uri": "https://localhost:8080/",
          "height": 417
        },
        "id": "Gg_CDEsgWoPQ",
        "outputId": "15d6fbc8-3144-4194-b360-16fc05b41343"
      },
      "source": [
        "plt.figure(figsize = (10,5))\n",
        "plt.style.use('ggplot')\n",
        "pd.crosstab(data.education,data.Venta).plot(kind = \"bar\")\n",
        "plt.title('Frecuencia de compra en función del nivel de educación')\n",
        "plt.xlabel('Nivel de educación')\n",
        "plt.ylabel('Frecuencia de compra del producto')\n",
        "plt.show()"
      ],
      "execution_count": 99,
      "outputs": [
        {
          "output_type": "display_data",
          "data": {
            "text/plain": [
              "<Figure size 720x360 with 0 Axes>"
            ]
          },
          "metadata": {
            "tags": []
          }
        },
        {
          "output_type": "display_data",
          "data": {
            "image/png": "[encoded data removed]",
            "text/plain": [
              "<Figure size 432x288 with 1 Axes>"
            ]
          },
          "metadata": {
            "tags": []
          }
        }
      ]
    },
    {
      "cell_type": "code",
      "metadata": {
        "colab": {
          "base_uri": "https://localhost:8080/",
          "height": 385
        },
        "id": "zmxxiQ2jaP6y",
        "outputId": "6b651bf4-b531-4ef7-eea4-3f2a99a5147f"
      },
      "source": [
        "#'classic'\n",
        "#'fivethirtyeight'\n",
        "#'ggplot'\n",
        "#'tableau-colorblind10'\n",
        "#'seaborn'\n",
        "plt.style.use('fivethirtyeight')\n",
        "table = pd.crosstab(data.marital,data.Venta)\n",
        "plt.figure(figsize = (5,5))\n",
        "table.div(table.sum(1).astype(float), axis = 0).plot(kind = 'bar', stacked = True)\n",
        "plt.title(\"Diagrama apilado de estado civil contra el nivel de compras\", fontsize = 18)\n",
        "plt.xlabel('Estado Civil', fontsize = 12)\n",
        "plt.ylabel('Proporción de clientes', fontsize = 12)\n",
        "plt.legend(loc = 'best')\n",
        "plt.show()"
      ],
      "execution_count": 100,
      "outputs": [
        {
          "output_type": "display_data",
          "data": {
            "text/plain": [
              "<Figure size 360x360 with 0 Axes>"
            ]
          },
          "metadata": {
            "tags": []
          }
        },
        {
          "output_type": "display_data",
          "data": {
            "image/png": "[encoded data removed]",
            "text/plain": [
              "<Figure size 432x288 with 1 Axes>"
            ]
          },
          "metadata": {
            "tags": []
          }
        }
      ]
    },
    {
      "cell_type": "markdown",
      "metadata": {
        "id": "tIQkQMqP898H"
      },
      "source": [
        "Conversión de las variables categóricas a dummies"
      ]
    },
    {
      "cell_type": "code",
      "metadata": {
        "id": "RBMKG052AwSR"
      },
      "source": [
        "categories = ['job','marital','education','housing','loan','contact','month','day_of_week','poutcome']"
      ],
      "execution_count": 101,
      "outputs": []
    },
    {
      "cell_type": "code",
      "metadata": {
        "id": "3A3wBFnJD63x"
      },
      "source": [
        "for category in categories:\n",
        "  cat_list = 'cat' +'_'+category\n",
        "  cat_dummies = pd.get_dummies(data[category], prefix = cat_list)\n",
        "  data_new = data.join(cat_dummies)\n",
        "  data = data_new"
      ],
      "execution_count": 102,
      "outputs": []
    },
    {
      "cell_type": "code",
      "metadata": {
        "colab": {
          "base_uri": "https://localhost:8080/"
        },
        "id": "zR4ozXiCEhp6",
        "outputId": "979f9e1f-6022-4d71-8751-581446395606"
      },
      "source": [
        "len(data.columns)"
      ],
      "execution_count": 103,
      "outputs": [
        {
          "output_type": "execute_result",
          "data": {
            "text/plain": [
              "69"
            ]
          },
          "metadata": {
            "tags": []
          },
          "execution_count": 103
        }
      ]
    },
    {
      "cell_type": "code",
      "metadata": {
        "id": "ldDPlP7zAd3P",
        "colab": {
          "base_uri": "https://localhost:8080/"
        },
        "outputId": "e433f5bb-5177-4ca6-afae-9825c8390d51"
      },
      "source": [
        "data_vars = data.columns.values.tolist()\n",
        "len(data_vars)"
      ],
      "execution_count": 104,
      "outputs": [
        {
          "output_type": "execute_result",
          "data": {
            "text/plain": [
              "69"
            ]
          },
          "metadata": {
            "tags": []
          },
          "execution_count": 104
        }
      ]
    },
    {
      "cell_type": "code",
      "metadata": {
        "id": "mgbNXpoLCty1"
      },
      "source": [
        "to_keep = [v for v in data_vars if v not in categories]"
      ],
      "execution_count": 105,
      "outputs": []
    },
    {
      "cell_type": "code",
      "metadata": {
        "colab": {
          "base_uri": "https://localhost:8080/"
        },
        "id": "9ee-QboBFqoC",
        "outputId": "4a705d29-1804-427c-8d7c-d4ebcadf1d2e"
      },
      "source": [
        "bank_data = data[to_keep]\n",
        "bank_data.columns.values"
      ],
      "execution_count": 118,
      "outputs": [
        {
          "output_type": "execute_result",
          "data": {
            "text/plain": [
              "array(['age', 'default', 'duration', 'campaign', 'pdays', 'previous',\n",
              "       'emp.var.rate', 'cons.price.idx', 'cons.conf.idx', 'euribor3m',\n",
              "       'nr.employed', 'Venta', 'cat_job_admin.', 'cat_job_blue-collar',\n",
              "       'cat_job_entrepreneur', 'cat_job_housemaid', 'cat_job_management',\n",
              "       'cat_job_retired', 'cat_job_self-employed', 'cat_job_services',\n",
              "       'cat_job_student', 'cat_job_technician', 'cat_job_unemployed',\n",
              "       'cat_job_unknown', 'cat_marital_divorced', 'cat_marital_married',\n",
              "       'cat_marital_single', 'cat_marital_unknown', 'cat_education_Basic',\n",
              "       'cat_education_High School', 'cat_education_Illiterate',\n",
              "       'cat_education_Professional Course',\n",
              "       'cat_education_University Degree', 'cat_education_Unknown',\n",
              "       'cat_housing_no', 'cat_housing_unknown', 'cat_housing_yes',\n",
              "       'cat_loan_no', 'cat_loan_unknown', 'cat_loan_yes',\n",
              "       'cat_contact_cellular', 'cat_contact_telephone', 'cat_month_apr',\n",
              "       'cat_month_aug', 'cat_month_dec', 'cat_month_jul', 'cat_month_jun',\n",
              "       'cat_month_mar', 'cat_month_may', 'cat_month_nov', 'cat_month_oct',\n",
              "       'cat_month_sep', 'cat_day_of_week_fri', 'cat_day_of_week_mon',\n",
              "       'cat_day_of_week_thu', 'cat_day_of_week_tue',\n",
              "       'cat_day_of_week_wed', 'cat_poutcome_failure',\n",
              "       'cat_poutcome_nonexistent', 'cat_poutcome_success'], dtype=object)"
            ]
          },
          "metadata": {
            "tags": []
          },
          "execution_count": 118
        }
      ]
    },
    {
      "cell_type": "code",
      "metadata": {
        "id": "juPkHa2AH47x"
      },
      "source": [
        "bank_data = bank_data.drop(columns = 'default', axis = 1)"
      ],
      "execution_count": 119,
      "outputs": []
    },
    {
      "cell_type": "code",
      "metadata": {
        "id": "-O2AuybhDDBr"
      },
      "source": [
        "# Matriz característica\n",
        "bank_data_vars = bank_data.columns.values.tolist()\n",
        "Y = ['Venta']\n",
        "X = [v for v in bank_data_vars if v not in Y]"
      ],
      "execution_count": 120,
      "outputs": []
    },
    {
      "cell_type": "code",
      "metadata": {
        "id": "XOmB7pzjD6El"
      },
      "source": [
        "### Selección de rasgos para el modelo\n",
        "n = 12 # Número de variables"
      ],
      "execution_count": 121,
      "outputs": []
    },
    {
      "cell_type": "code",
      "metadata": {
        "id": "_axtZ-_yEAut"
      },
      "source": [
        "from sklearn import datasets\n",
        "from sklearn.feature_selection import RFE\n",
        "from sklearn.linear_model import LogisticRegression"
      ],
      "execution_count": 122,
      "outputs": []
    },
    {
      "cell_type": "code",
      "metadata": {
        "id": "1m3OQSftEPrI"
      },
      "source": [
        "lr = LogisticRegression() # Alias del modelo"
      ],
      "execution_count": 123,
      "outputs": []
    },
    {
      "cell_type": "code",
      "metadata": {
        "colab": {
          "base_uri": "https://localhost:8080/"
        },
        "id": "pt-AZ--jEVBc",
        "outputId": "fdb55fd4-71fb-4d16-e706-f1cf507e6bd1"
      },
      "source": [
        "rfe = RFE(lr,n)\n",
        "rfe = rfe.fit(bank_data[X], bank_data[Y].values.ravel())\n",
        "print(rfe.support_)"
      ],
      "execution_count": 125,
      "outputs": [
        {
          "output_type": "stream",
          "text": [
            "/usr/local/lib/python3.7/dist-packages/sklearn/linear_model/_logistic.py:940: ConvergenceWarning: lbfgs failed to converge (status=1):\n",
            "STOP: TOTAL NO. of ITERATIONS REACHED LIMIT.\n",
            "\n",
            "Increase the number of iterations (max_iter) or scale the data as shown in:\n",
            "    https://scikit-learn.org/stable/modules/preprocessing.html\n",
            "Please also refer to the documentation for alternative solver options:\n",
            "    https://scikit-learn.org/stable/modules/linear_model.html#logistic-regression\n",
            "  extra_warning_msg=_LOGISTIC_SOLVER_CONVERGENCE_MSG)\n",
            "/usr/local/lib/python3.7/dist-packages/sklearn/linear_model/_logistic.py:940: ConvergenceWarning: lbfgs failed to converge (status=1):\n",
            "STOP: TOTAL NO. of ITERATIONS REACHED LIMIT.\n",
            "\n",
            "Increase the number of iterations (max_iter) or scale the data as shown in:\n",
            "    https://scikit-learn.org/stable/modules/preprocessing.html\n",
            "Please also refer to the documentation for alternative solver options:\n",
            "    https://scikit-learn.org/stable/modules/linear_model.html#logistic-regression\n",
            "  extra_warning_msg=_LOGISTIC_SOLVER_CONVERGENCE_MSG)\n",
            "/usr/local/lib/python3.7/dist-packages/sklearn/linear_model/_logistic.py:940: ConvergenceWarning: lbfgs failed to converge (status=1):\n",
            "STOP: TOTAL NO. of ITERATIONS REACHED LIMIT.\n",
            "\n",
            "Increase the number of iterations (max_iter) or scale the data as shown in:\n",
            "    https://scikit-learn.org/stable/modules/preprocessing.html\n",
            "Please also refer to the documentation for alternative solver options:\n",
            "    https://scikit-learn.org/stable/modules/linear_model.html#logistic-regression\n",
            "  extra_warning_msg=_LOGISTIC_SOLVER_CONVERGENCE_MSG)\n",
            "/usr/local/lib/python3.7/dist-packages/sklearn/linear_model/_logistic.py:940: ConvergenceWarning: lbfgs failed to converge (status=1):\n",
            "STOP: TOTAL NO. of ITERATIONS REACHED LIMIT.\n",
            "\n",
            "Increase the number of iterations (max_iter) or scale the data as shown in:\n",
            "    https://scikit-learn.org/stable/modules/preprocessing.html\n",
            "Please also refer to the documentation for alternative solver options:\n",
            "    https://scikit-learn.org/stable/modules/linear_model.html#logistic-regression\n",
            "  extra_warning_msg=_LOGISTIC_SOLVER_CONVERGENCE_MSG)\n",
            "/usr/local/lib/python3.7/dist-packages/sklearn/linear_model/_logistic.py:940: ConvergenceWarning: lbfgs failed to converge (status=1):\n",
            "STOP: TOTAL NO. of ITERATIONS REACHED LIMIT.\n",
            "\n",
            "Increase the number of iterations (max_iter) or scale the data as shown in:\n",
            "    https://scikit-learn.org/stable/modules/preprocessing.html\n",
            "Please also refer to the documentation for alternative solver options:\n",
            "    https://scikit-learn.org/stable/modules/linear_model.html#logistic-regression\n",
            "  extra_warning_msg=_LOGISTIC_SOLVER_CONVERGENCE_MSG)\n",
            "/usr/local/lib/python3.7/dist-packages/sklearn/linear_model/_logistic.py:940: ConvergenceWarning: lbfgs failed to converge (status=1):\n",
            "STOP: TOTAL NO. of ITERATIONS REACHED LIMIT.\n",
            "\n",
            "Increase the number of iterations (max_iter) or scale the data as shown in:\n",
            "    https://scikit-learn.org/stable/modules/preprocessing.html\n",
            "Please also refer to the documentation for alternative solver options:\n",
            "    https://scikit-learn.org/stable/modules/linear_model.html#logistic-regression\n",
            "  extra_warning_msg=_LOGISTIC_SOLVER_CONVERGENCE_MSG)\n",
            "/usr/local/lib/python3.7/dist-packages/sklearn/linear_model/_logistic.py:940: ConvergenceWarning: lbfgs failed to converge (status=1):\n",
            "STOP: TOTAL NO. of ITERATIONS REACHED LIMIT.\n",
            "\n",
            "Increase the number of iterations (max_iter) or scale the data as shown in:\n",
            "    https://scikit-learn.org/stable/modules/preprocessing.html\n",
            "Please also refer to the documentation for alternative solver options:\n",
            "    https://scikit-learn.org/stable/modules/linear_model.html#logistic-regression\n",
            "  extra_warning_msg=_LOGISTIC_SOLVER_CONVERGENCE_MSG)\n",
            "/usr/local/lib/python3.7/dist-packages/sklearn/linear_model/_logistic.py:940: ConvergenceWarning: lbfgs failed to converge (status=1):\n",
            "STOP: TOTAL NO. of ITERATIONS REACHED LIMIT.\n",
            "\n",
            "Increase the number of iterations (max_iter) or scale the data as shown in:\n",
            "    https://scikit-learn.org/stable/modules/preprocessing.html\n",
            "Please also refer to the documentation for alternative solver options:\n",
            "    https://scikit-learn.org/stable/modules/linear_model.html#logistic-regression\n",
            "  extra_warning_msg=_LOGISTIC_SOLVER_CONVERGENCE_MSG)\n",
            "/usr/local/lib/python3.7/dist-packages/sklearn/linear_model/_logistic.py:940: ConvergenceWarning: lbfgs failed to converge (status=1):\n",
            "STOP: TOTAL NO. of ITERATIONS REACHED LIMIT.\n",
            "\n",
            "Increase the number of iterations (max_iter) or scale the data as shown in:\n",
            "    https://scikit-learn.org/stable/modules/preprocessing.html\n",
            "Please also refer to the documentation for alternative solver options:\n",
            "    https://scikit-learn.org/stable/modules/linear_model.html#logistic-regression\n",
            "  extra_warning_msg=_LOGISTIC_SOLVER_CONVERGENCE_MSG)\n",
            "/usr/local/lib/python3.7/dist-packages/sklearn/linear_model/_logistic.py:940: ConvergenceWarning: lbfgs failed to converge (status=1):\n",
            "STOP: TOTAL NO. of ITERATIONS REACHED LIMIT.\n",
            "\n",
            "Increase the number of iterations (max_iter) or scale the data as shown in:\n",
            "    https://scikit-learn.org/stable/modules/preprocessing.html\n",
            "Please also refer to the documentation for alternative solver options:\n",
            "    https://scikit-learn.org/stable/modules/linear_model.html#logistic-regression\n",
            "  extra_warning_msg=_LOGISTIC_SOLVER_CONVERGENCE_MSG)\n",
            "/usr/local/lib/python3.7/dist-packages/sklearn/linear_model/_logistic.py:940: ConvergenceWarning: lbfgs failed to converge (status=1):\n",
            "STOP: TOTAL NO. of ITERATIONS REACHED LIMIT.\n",
            "\n",
            "Increase the number of iterations (max_iter) or scale the data as shown in:\n",
            "    https://scikit-learn.org/stable/modules/preprocessing.html\n",
            "Please also refer to the documentation for alternative solver options:\n",
            "    https://scikit-learn.org/stable/modules/linear_model.html#logistic-regression\n",
            "  extra_warning_msg=_LOGISTIC_SOLVER_CONVERGENCE_MSG)\n",
            "/usr/local/lib/python3.7/dist-packages/sklearn/linear_model/_logistic.py:940: ConvergenceWarning: lbfgs failed to converge (status=1):\n",
            "STOP: TOTAL NO. of ITERATIONS REACHED LIMIT.\n",
            "\n",
            "Increase the number of iterations (max_iter) or scale the data as shown in:\n",
            "    https://scikit-learn.org/stable/modules/preprocessing.html\n",
            "Please also refer to the documentation for alternative solver options:\n",
            "    https://scikit-learn.org/stable/modules/linear_model.html#logistic-regression\n",
            "  extra_warning_msg=_LOGISTIC_SOLVER_CONVERGENCE_MSG)\n",
            "/usr/local/lib/python3.7/dist-packages/sklearn/linear_model/_logistic.py:940: ConvergenceWarning: lbfgs failed to converge (status=1):\n",
            "STOP: TOTAL NO. of ITERATIONS REACHED LIMIT.\n",
            "\n",
            "Increase the number of iterations (max_iter) or scale the data as shown in:\n",
            "    https://scikit-learn.org/stable/modules/preprocessing.html\n",
            "Please also refer to the documentation for alternative solver options:\n",
            "    https://scikit-learn.org/stable/modules/linear_model.html#logistic-regression\n",
            "  extra_warning_msg=_LOGISTIC_SOLVER_CONVERGENCE_MSG)\n",
            "/usr/local/lib/python3.7/dist-packages/sklearn/linear_model/_logistic.py:940: ConvergenceWarning: lbfgs failed to converge (status=1):\n",
            "STOP: TOTAL NO. of ITERATIONS REACHED LIMIT.\n",
            "\n",
            "Increase the number of iterations (max_iter) or scale the data as shown in:\n",
            "    https://scikit-learn.org/stable/modules/preprocessing.html\n",
            "Please also refer to the documentation for alternative solver options:\n",
            "    https://scikit-learn.org/stable/modules/linear_model.html#logistic-regression\n",
            "  extra_warning_msg=_LOGISTIC_SOLVER_CONVERGENCE_MSG)\n",
            "/usr/local/lib/python3.7/dist-packages/sklearn/linear_model/_logistic.py:940: ConvergenceWarning: lbfgs failed to converge (status=1):\n",
            "STOP: TOTAL NO. of ITERATIONS REACHED LIMIT.\n",
            "\n",
            "Increase the number of iterations (max_iter) or scale the data as shown in:\n",
            "    https://scikit-learn.org/stable/modules/preprocessing.html\n",
            "Please also refer to the documentation for alternative solver options:\n",
            "    https://scikit-learn.org/stable/modules/linear_model.html#logistic-regression\n",
            "  extra_warning_msg=_LOGISTIC_SOLVER_CONVERGENCE_MSG)\n",
            "/usr/local/lib/python3.7/dist-packages/sklearn/linear_model/_logistic.py:940: ConvergenceWarning: lbfgs failed to converge (status=1):\n",
            "STOP: TOTAL NO. of ITERATIONS REACHED LIMIT.\n",
            "\n",
            "Increase the number of iterations (max_iter) or scale the data as shown in:\n",
            "    https://scikit-learn.org/stable/modules/preprocessing.html\n",
            "Please also refer to the documentation for alternative solver options:\n",
            "    https://scikit-learn.org/stable/modules/linear_model.html#logistic-regression\n",
            "  extra_warning_msg=_LOGISTIC_SOLVER_CONVERGENCE_MSG)\n",
            "/usr/local/lib/python3.7/dist-packages/sklearn/linear_model/_logistic.py:940: ConvergenceWarning: lbfgs failed to converge (status=1):\n",
            "STOP: TOTAL NO. of ITERATIONS REACHED LIMIT.\n",
            "\n",
            "Increase the number of iterations (max_iter) or scale the data as shown in:\n",
            "    https://scikit-learn.org/stable/modules/preprocessing.html\n",
            "Please also refer to the documentation for alternative solver options:\n",
            "    https://scikit-learn.org/stable/modules/linear_model.html#logistic-regression\n",
            "  extra_warning_msg=_LOGISTIC_SOLVER_CONVERGENCE_MSG)\n",
            "/usr/local/lib/python3.7/dist-packages/sklearn/linear_model/_logistic.py:940: ConvergenceWarning: lbfgs failed to converge (status=1):\n",
            "STOP: TOTAL NO. of ITERATIONS REACHED LIMIT.\n",
            "\n",
            "Increase the number of iterations (max_iter) or scale the data as shown in:\n",
            "    https://scikit-learn.org/stable/modules/preprocessing.html\n",
            "Please also refer to the documentation for alternative solver options:\n",
            "    https://scikit-learn.org/stable/modules/linear_model.html#logistic-regression\n",
            "  extra_warning_msg=_LOGISTIC_SOLVER_CONVERGENCE_MSG)\n",
            "/usr/local/lib/python3.7/dist-packages/sklearn/linear_model/_logistic.py:940: ConvergenceWarning: lbfgs failed to converge (status=1):\n",
            "STOP: TOTAL NO. of ITERATIONS REACHED LIMIT.\n",
            "\n",
            "Increase the number of iterations (max_iter) or scale the data as shown in:\n",
            "    https://scikit-learn.org/stable/modules/preprocessing.html\n",
            "Please also refer to the documentation for alternative solver options:\n",
            "    https://scikit-learn.org/stable/modules/linear_model.html#logistic-regression\n",
            "  extra_warning_msg=_LOGISTIC_SOLVER_CONVERGENCE_MSG)\n",
            "/usr/local/lib/python3.7/dist-packages/sklearn/linear_model/_logistic.py:940: ConvergenceWarning: lbfgs failed to converge (status=1):\n",
            "STOP: TOTAL NO. of ITERATIONS REACHED LIMIT.\n",
            "\n",
            "Increase the number of iterations (max_iter) or scale the data as shown in:\n",
            "    https://scikit-learn.org/stable/modules/preprocessing.html\n",
            "Please also refer to the documentation for alternative solver options:\n",
            "    https://scikit-learn.org/stable/modules/linear_model.html#logistic-regression\n",
            "  extra_warning_msg=_LOGISTIC_SOLVER_CONVERGENCE_MSG)\n",
            "/usr/local/lib/python3.7/dist-packages/sklearn/linear_model/_logistic.py:940: ConvergenceWarning: lbfgs failed to converge (status=1):\n",
            "STOP: TOTAL NO. of ITERATIONS REACHED LIMIT.\n",
            "\n",
            "Increase the number of iterations (max_iter) or scale the data as shown in:\n",
            "    https://scikit-learn.org/stable/modules/preprocessing.html\n",
            "Please also refer to the documentation for alternative solver options:\n",
            "    https://scikit-learn.org/stable/modules/linear_model.html#logistic-regression\n",
            "  extra_warning_msg=_LOGISTIC_SOLVER_CONVERGENCE_MSG)\n",
            "/usr/local/lib/python3.7/dist-packages/sklearn/linear_model/_logistic.py:940: ConvergenceWarning: lbfgs failed to converge (status=1):\n",
            "STOP: TOTAL NO. of ITERATIONS REACHED LIMIT.\n",
            "\n",
            "Increase the number of iterations (max_iter) or scale the data as shown in:\n",
            "    https://scikit-learn.org/stable/modules/preprocessing.html\n",
            "Please also refer to the documentation for alternative solver options:\n",
            "    https://scikit-learn.org/stable/modules/linear_model.html#logistic-regression\n",
            "  extra_warning_msg=_LOGISTIC_SOLVER_CONVERGENCE_MSG)\n",
            "/usr/local/lib/python3.7/dist-packages/sklearn/linear_model/_logistic.py:940: ConvergenceWarning: lbfgs failed to converge (status=1):\n",
            "STOP: TOTAL NO. of ITERATIONS REACHED LIMIT.\n",
            "\n",
            "Increase the number of iterations (max_iter) or scale the data as shown in:\n",
            "    https://scikit-learn.org/stable/modules/preprocessing.html\n",
            "Please also refer to the documentation for alternative solver options:\n",
            "    https://scikit-learn.org/stable/modules/linear_model.html#logistic-regression\n",
            "  extra_warning_msg=_LOGISTIC_SOLVER_CONVERGENCE_MSG)\n",
            "/usr/local/lib/python3.7/dist-packages/sklearn/linear_model/_logistic.py:940: ConvergenceWarning: lbfgs failed to converge (status=1):\n",
            "STOP: TOTAL NO. of ITERATIONS REACHED LIMIT.\n",
            "\n",
            "Increase the number of iterations (max_iter) or scale the data as shown in:\n",
            "    https://scikit-learn.org/stable/modules/preprocessing.html\n",
            "Please also refer to the documentation for alternative solver options:\n",
            "    https://scikit-learn.org/stable/modules/linear_model.html#logistic-regression\n",
            "  extra_warning_msg=_LOGISTIC_SOLVER_CONVERGENCE_MSG)\n",
            "/usr/local/lib/python3.7/dist-packages/sklearn/linear_model/_logistic.py:940: ConvergenceWarning: lbfgs failed to converge (status=1):\n",
            "STOP: TOTAL NO. of ITERATIONS REACHED LIMIT.\n",
            "\n",
            "Increase the number of iterations (max_iter) or scale the data as shown in:\n",
            "    https://scikit-learn.org/stable/modules/preprocessing.html\n",
            "Please also refer to the documentation for alternative solver options:\n",
            "    https://scikit-learn.org/stable/modules/linear_model.html#logistic-regression\n",
            "  extra_warning_msg=_LOGISTIC_SOLVER_CONVERGENCE_MSG)\n",
            "/usr/local/lib/python3.7/dist-packages/sklearn/linear_model/_logistic.py:940: ConvergenceWarning: lbfgs failed to converge (status=1):\n",
            "STOP: TOTAL NO. of ITERATIONS REACHED LIMIT.\n",
            "\n",
            "Increase the number of iterations (max_iter) or scale the data as shown in:\n",
            "    https://scikit-learn.org/stable/modules/preprocessing.html\n",
            "Please also refer to the documentation for alternative solver options:\n",
            "    https://scikit-learn.org/stable/modules/linear_model.html#logistic-regression\n",
            "  extra_warning_msg=_LOGISTIC_SOLVER_CONVERGENCE_MSG)\n",
            "/usr/local/lib/python3.7/dist-packages/sklearn/linear_model/_logistic.py:940: ConvergenceWarning: lbfgs failed to converge (status=1):\n",
            "STOP: TOTAL NO. of ITERATIONS REACHED LIMIT.\n",
            "\n",
            "Increase the number of iterations (max_iter) or scale the data as shown in:\n",
            "    https://scikit-learn.org/stable/modules/preprocessing.html\n",
            "Please also refer to the documentation for alternative solver options:\n",
            "    https://scikit-learn.org/stable/modules/linear_model.html#logistic-regression\n",
            "  extra_warning_msg=_LOGISTIC_SOLVER_CONVERGENCE_MSG)\n",
            "/usr/local/lib/python3.7/dist-packages/sklearn/linear_model/_logistic.py:940: ConvergenceWarning: lbfgs failed to converge (status=1):\n",
            "STOP: TOTAL NO. of ITERATIONS REACHED LIMIT.\n",
            "\n",
            "Increase the number of iterations (max_iter) or scale the data as shown in:\n",
            "    https://scikit-learn.org/stable/modules/preprocessing.html\n",
            "Please also refer to the documentation for alternative solver options:\n",
            "    https://scikit-learn.org/stable/modules/linear_model.html#logistic-regression\n",
            "  extra_warning_msg=_LOGISTIC_SOLVER_CONVERGENCE_MSG)\n",
            "/usr/local/lib/python3.7/dist-packages/sklearn/linear_model/_logistic.py:940: ConvergenceWarning: lbfgs failed to converge (status=1):\n",
            "STOP: TOTAL NO. of ITERATIONS REACHED LIMIT.\n",
            "\n",
            "Increase the number of iterations (max_iter) or scale the data as shown in:\n",
            "    https://scikit-learn.org/stable/modules/preprocessing.html\n",
            "Please also refer to the documentation for alternative solver options:\n",
            "    https://scikit-learn.org/stable/modules/linear_model.html#logistic-regression\n",
            "  extra_warning_msg=_LOGISTIC_SOLVER_CONVERGENCE_MSG)\n",
            "/usr/local/lib/python3.7/dist-packages/sklearn/linear_model/_logistic.py:940: ConvergenceWarning: lbfgs failed to converge (status=1):\n",
            "STOP: TOTAL NO. of ITERATIONS REACHED LIMIT.\n",
            "\n",
            "Increase the number of iterations (max_iter) or scale the data as shown in:\n",
            "    https://scikit-learn.org/stable/modules/preprocessing.html\n",
            "Please also refer to the documentation for alternative solver options:\n",
            "    https://scikit-learn.org/stable/modules/linear_model.html#logistic-regression\n",
            "  extra_warning_msg=_LOGISTIC_SOLVER_CONVERGENCE_MSG)\n"
          ],
          "name": "stderr"
        },
        {
          "output_type": "stream",
          "text": [
            "[False False False False  True False False False  True False False False\n",
            " False False False  True False False False  True  True False False False\n",
            " False False False False False False False False False False False False\n",
            " False False False False False False  True  True  True  True  True False\n",
            " False False False False False False False  True False  True]\n"
          ],
          "name": "stdout"
        }
      ]
    },
    {
      "cell_type": "code",
      "metadata": {
        "id": "WHOJHnNlF9TE",
        "colab": {
          "base_uri": "https://localhost:8080/"
        },
        "outputId": "c773c1eb-4973-4816-eb43-2597057813ca"
      },
      "source": [
        "print(rfe.ranking_)"
      ],
      "execution_count": 126,
      "outputs": [
        {
          "output_type": "stream",
          "text": [
            "[41 39 18 45  1 17 26 22  1 35  2  8  5 38  7  1  6 24 43  1  1 40 15 28\n",
            " 27 47 31 12 46 19 30  4  9 14 44 13 20 33 11  3 37 21  1  1  1  1  1 23\n",
            " 32 42 34 25 29 36 10  1 16  1]\n"
          ],
          "name": "stdout"
        }
      ]
    },
    {
      "cell_type": "code",
      "metadata": {
        "colab": {
          "base_uri": "https://localhost:8080/"
        },
        "id": "xFdnP0FtKYyw",
        "outputId": "f151b127-6dda-4b67-f540-fdbb0b9e03d0"
      },
      "source": [
        "# zip\n",
        "z = zip(bank_data, rfe.support_, rfe.ranking_)\n",
        "list(z)"
      ],
      "execution_count": 131,
      "outputs": [
        {
          "output_type": "execute_result",
          "data": {
            "text/plain": [
              "[('age', False, 41),\n",
              " ('duration', False, 39),\n",
              " ('campaign', False, 18),\n",
              " ('pdays', False, 45),\n",
              " ('previous', True, 1),\n",
              " ('emp.var.rate', False, 17),\n",
              " ('cons.price.idx', False, 26),\n",
              " ('cons.conf.idx', False, 22),\n",
              " ('euribor3m', True, 1),\n",
              " ('nr.employed', False, 35),\n",
              " ('Venta', False, 2),\n",
              " ('cat_job_admin.', False, 8),\n",
              " ('cat_job_blue-collar', False, 5),\n",
              " ('cat_job_entrepreneur', False, 38),\n",
              " ('cat_job_housemaid', False, 7),\n",
              " ('cat_job_management', True, 1),\n",
              " ('cat_job_retired', False, 6),\n",
              " ('cat_job_self-employed', False, 24),\n",
              " ('cat_job_services', False, 43),\n",
              " ('cat_job_student', True, 1),\n",
              " ('cat_job_technician', True, 1),\n",
              " ('cat_job_unemployed', False, 40),\n",
              " ('cat_job_unknown', False, 15),\n",
              " ('cat_marital_divorced', False, 28),\n",
              " ('cat_marital_married', False, 27),\n",
              " ('cat_marital_single', False, 47),\n",
              " ('cat_marital_unknown', False, 31),\n",
              " ('cat_education_Basic', False, 12),\n",
              " ('cat_education_High School', False, 46),\n",
              " ('cat_education_Illiterate', False, 19),\n",
              " ('cat_education_Professional Course', False, 30),\n",
              " ('cat_education_University Degree', False, 4),\n",
              " ('cat_education_Unknown', False, 9),\n",
              " ('cat_housing_no', False, 14),\n",
              " ('cat_housing_unknown', False, 44),\n",
              " ('cat_housing_yes', False, 13),\n",
              " ('cat_loan_no', False, 20),\n",
              " ('cat_loan_unknown', False, 33),\n",
              " ('cat_loan_yes', False, 11),\n",
              " ('cat_contact_cellular', False, 3),\n",
              " ('cat_contact_telephone', False, 37),\n",
              " ('cat_month_apr', False, 21),\n",
              " ('cat_month_aug', True, 1),\n",
              " ('cat_month_dec', True, 1),\n",
              " ('cat_month_jul', True, 1),\n",
              " ('cat_month_jun', True, 1),\n",
              " ('cat_month_mar', True, 1),\n",
              " ('cat_month_may', False, 23),\n",
              " ('cat_month_nov', False, 32),\n",
              " ('cat_month_oct', False, 42),\n",
              " ('cat_month_sep', False, 34),\n",
              " ('cat_day_of_week_fri', False, 25),\n",
              " ('cat_day_of_week_mon', False, 29),\n",
              " ('cat_day_of_week_thu', False, 36),\n",
              " ('cat_day_of_week_tue', False, 10),\n",
              " ('cat_day_of_week_wed', True, 1),\n",
              " ('cat_poutcome_failure', False, 16),\n",
              " ('cat_poutcome_nonexistent', True, 1)]"
            ]
          },
          "metadata": {
            "tags": []
          },
          "execution_count": 131
        }
      ]
    },
    {
      "cell_type": "code",
      "metadata": {
        "colab": {
          "base_uri": "https://localhost:8080/"
        },
        "id": "EBOzoKkPLESD",
        "outputId": "44fd5ce5-23a0-4055-c50f-519325e538a2"
      },
      "source": [
        "variables = []\n",
        "# recorriendo el zip\n",
        "for tupla in zip(bank_data, rfe.support_, rfe.ranking_):\n",
        "  if tupla[1] == True:\n",
        "    variables.append(tupla[0])\n",
        "    \n",
        "print(variables)"
      ],
      "execution_count": 150,
      "outputs": [
        {
          "output_type": "stream",
          "text": [
            "['previous', 'euribor3m', 'cat_job_management', 'cat_job_student', 'cat_job_technician', 'cat_month_aug', 'cat_month_dec', 'cat_month_jul', 'cat_month_jun', 'cat_month_mar', 'cat_day_of_week_wed', 'cat_poutcome_nonexistent']\n"
          ],
          "name": "stdout"
        }
      ]
    },
    {
      "cell_type": "code",
      "metadata": {
        "id": "9sn32_ShRA0g"
      },
      "source": [
        "X = bank_data[variables]\n",
        "Y = bank_data['Venta']"
      ],
      "execution_count": 152,
      "outputs": []
    },
    {
      "cell_type": "markdown",
      "metadata": {
        "id": "zIvFBM-yQDyc"
      },
      "source": [
        "Implementación del modelo con statsmodel.api"
      ]
    },
    {
      "cell_type": "code",
      "metadata": {
        "id": "ab0Jmd3tMqOd"
      },
      "source": [
        "import statsmodels.api as sm"
      ],
      "execution_count": 153,
      "outputs": []
    },
    {
      "cell_type": "code",
      "metadata": {
        "id": "BxPg8qsNQyjW"
      },
      "source": [
        "logit_model = sm.Logit(Y, X) # Función Logit: to create a logistic regression "
      ],
      "execution_count": 154,
      "outputs": []
    },
    {
      "cell_type": "code",
      "metadata": {
        "colab": {
          "base_uri": "https://localhost:8080/"
        },
        "id": "1p89lLQ4RI61",
        "outputId": "460297e3-9bab-4e76-bb9a-8078761c4650"
      },
      "source": [
        "result = logit_model.fit()"
      ],
      "execution_count": 155,
      "outputs": [
        {
          "output_type": "stream",
          "text": [
            "Optimization terminated successfully.\n",
            "         Current function value: 0.293712\n",
            "         Iterations 7\n"
          ],
          "name": "stdout"
        }
      ]
    },
    {
      "cell_type": "code",
      "metadata": {
        "colab": {
          "base_uri": "https://localhost:8080/",
          "height": 458
        },
        "id": "Ik8dvtM9RNp3",
        "outputId": "cd436c27-4e53-4545-c087-16152ea0ac39"
      },
      "source": [
        "result.summary()"
      ],
      "execution_count": 160,
      "outputs": [
        {
          "output_type": "execute_result",
          "data": {
            "text/html": [
              "<table class=\"simpletable\">\n",
              "<caption>Logit Regression Results</caption>\n",
              "<tr>\n",
              "  <th>Dep. Variable:</th>         <td>Venta</td>      <th>  No. Observations:  </th>  <td>  4119</td>  \n",
              "</tr>\n",
              "<tr>\n",
              "  <th>Model:</th>                 <td>Logit</td>      <th>  Df Residuals:      </th>  <td>  4107</td>  \n",
              "</tr>\n",
              "<tr>\n",
              "  <th>Method:</th>                 <td>MLE</td>       <th>  Df Model:          </th>  <td>    11</td>  \n",
              "</tr>\n",
              "<tr>\n",
              "  <th>Date:</th>            <td>Fri, 16 Jul 2021</td> <th>  Pseudo R-squ.:     </th>  <td>0.1498</td>  \n",
              "</tr>\n",
              "<tr>\n",
              "  <th>Time:</th>                <td>17:03:12</td>     <th>  Log-Likelihood:    </th> <td> -1209.8</td> \n",
              "</tr>\n",
              "<tr>\n",
              "  <th>converged:</th>             <td>True</td>       <th>  LL-Null:           </th> <td> -1422.9</td> \n",
              "</tr>\n",
              "<tr>\n",
              "  <th>Covariance Type:</th>     <td>nonrobust</td>    <th>  LLR p-value:       </th> <td>1.627e-84</td>\n",
              "</tr>\n",
              "</table>\n",
              "<table class=\"simpletable\">\n",
              "<tr>\n",
              "              <td></td>                <th>coef</th>     <th>std err</th>      <th>z</th>      <th>P>|z|</th>  <th>[0.025</th>    <th>0.975]</th>  \n",
              "</tr>\n",
              "<tr>\n",
              "  <th>previous</th>                 <td>   -0.1107</td> <td>    0.070</td> <td>   -1.590</td> <td> 0.112</td> <td>   -0.247</td> <td>    0.026</td>\n",
              "</tr>\n",
              "<tr>\n",
              "  <th>euribor3m</th>                <td>   -0.6072</td> <td>    0.037</td> <td>  -16.376</td> <td> 0.000</td> <td>   -0.680</td> <td>   -0.535</td>\n",
              "</tr>\n",
              "<tr>\n",
              "  <th>cat_job_management</th>       <td>   -0.2794</td> <td>    0.217</td> <td>   -1.289</td> <td> 0.197</td> <td>   -0.704</td> <td>    0.145</td>\n",
              "</tr>\n",
              "<tr>\n",
              "  <th>cat_job_student</th>          <td>   -0.2113</td> <td>    0.296</td> <td>   -0.715</td> <td> 0.475</td> <td>   -0.791</td> <td>    0.368</td>\n",
              "</tr>\n",
              "<tr>\n",
              "  <th>cat_job_technician</th>       <td>    0.0413</td> <td>    0.145</td> <td>    0.284</td> <td> 0.776</td> <td>   -0.244</td> <td>    0.326</td>\n",
              "</tr>\n",
              "<tr>\n",
              "  <th>cat_month_aug</th>            <td>    0.6548</td> <td>    0.170</td> <td>    3.857</td> <td> 0.000</td> <td>    0.322</td> <td>    0.988</td>\n",
              "</tr>\n",
              "<tr>\n",
              "  <th>cat_month_dec</th>            <td>    1.1841</td> <td>    0.447</td> <td>    2.647</td> <td> 0.008</td> <td>    0.307</td> <td>    2.061</td>\n",
              "</tr>\n",
              "<tr>\n",
              "  <th>cat_month_jul</th>            <td>    0.9980</td> <td>    0.183</td> <td>    5.441</td> <td> 0.000</td> <td>    0.639</td> <td>    1.358</td>\n",
              "</tr>\n",
              "<tr>\n",
              "  <th>cat_month_jun</th>            <td>    1.0455</td> <td>    0.169</td> <td>    6.170</td> <td> 0.000</td> <td>    0.713</td> <td>    1.378</td>\n",
              "</tr>\n",
              "<tr>\n",
              "  <th>cat_month_mar</th>            <td>    1.6392</td> <td>    0.315</td> <td>    5.203</td> <td> 0.000</td> <td>    1.022</td> <td>    2.257</td>\n",
              "</tr>\n",
              "<tr>\n",
              "  <th>cat_day_of_week_wed</th>      <td>   -0.0805</td> <td>    0.138</td> <td>   -0.582</td> <td> 0.561</td> <td>   -0.352</td> <td>    0.191</td>\n",
              "</tr>\n",
              "<tr>\n",
              "  <th>cat_poutcome_nonexistent</th> <td>   -0.7908</td> <td>    0.122</td> <td>   -6.494</td> <td> 0.000</td> <td>   -1.029</td> <td>   -0.552</td>\n",
              "</tr>\n",
              "</table>"
            ],
            "text/plain": [
              "<class 'statsmodels.iolib.summary.Summary'>\n",
              "\"\"\"\n",
              "                           Logit Regression Results                           \n",
              "==============================================================================\n",
              "Dep. Variable:                  Venta   No. Observations:                 4119\n",
              "Model:                          Logit   Df Residuals:                     4107\n",
              "Method:                           MLE   Df Model:                           11\n",
              "Date:                Fri, 16 Jul 2021   Pseudo R-squ.:                  0.1498\n",
              "Time:                        17:03:12   Log-Likelihood:                -1209.8\n",
              "converged:                       True   LL-Null:                       -1422.9\n",
              "Covariance Type:            nonrobust   LLR p-value:                 1.627e-84\n",
              "============================================================================================\n",
              "                               coef    std err          z      P>|z|      [0.025      0.975]\n",
              "--------------------------------------------------------------------------------------------\n",
              "previous                    -0.1107      0.070     -1.590      0.112      -0.247       0.026\n",
              "euribor3m                   -0.6072      0.037    -16.376      0.000      -0.680      -0.535\n",
              "cat_job_management          -0.2794      0.217     -1.289      0.197      -0.704       0.145\n",
              "cat_job_student             -0.2113      0.296     -0.715      0.475      -0.791       0.368\n",
              "cat_job_technician           0.0413      0.145      0.284      0.776      -0.244       0.326\n",
              "cat_month_aug                0.6548      0.170      3.857      0.000       0.322       0.988\n",
              "cat_month_dec                1.1841      0.447      2.647      0.008       0.307       2.061\n",
              "cat_month_jul                0.9980      0.183      5.441      0.000       0.639       1.358\n",
              "cat_month_jun                1.0455      0.169      6.170      0.000       0.713       1.378\n",
              "cat_month_mar                1.6392      0.315      5.203      0.000       1.022       2.257\n",
              "cat_day_of_week_wed         -0.0805      0.138     -0.582      0.561      -0.352       0.191\n",
              "cat_poutcome_nonexistent    -0.7908      0.122     -6.494      0.000      -1.029      -0.552\n",
              "============================================================================================\n",
              "\"\"\""
            ]
          },
          "metadata": {
            "tags": []
          },
          "execution_count": 160
        }
      ]
    },
    {
      "cell_type": "markdown",
      "metadata": {
        "id": "jvBZeAFmSRE1"
      },
      "source": [
        "Implementación del modelo en Python con scikit-learn"
      ]
    },
    {
      "cell_type": "code",
      "metadata": {
        "id": "doeDGlZyRSQA"
      },
      "source": [
        "from sklearn import linear_model"
      ],
      "execution_count": 161,
      "outputs": []
    },
    {
      "cell_type": "code",
      "metadata": {
        "id": "aSyv9-FNSa-K"
      },
      "source": [
        "logit_model = linear_model.LogisticRegression()\n",
        "resultados = logit_model.fit(X,Y)"
      ],
      "execution_count": 166,
      "outputs": []
    },
    {
      "cell_type": "code",
      "metadata": {
        "colab": {
          "base_uri": "https://localhost:8080/"
        },
        "id": "Poh_Bl4QSrWq",
        "outputId": "59b6b9b0-0653-4f6e-e6b0-c0b124b1a519"
      },
      "source": [
        "logit_model.score(X,Y) # Factor R2"
      ],
      "execution_count": 165,
      "outputs": [
        {
          "output_type": "execute_result",
          "data": {
            "text/plain": [
              "0.8975479485311969"
            ]
          },
          "metadata": {
            "tags": []
          },
          "execution_count": 165
        }
      ]
    },
    {
      "cell_type": "code",
      "metadata": {
        "colab": {
          "base_uri": "https://localhost:8080/",
          "height": 421
        },
        "id": "jJnuZZutTdTn",
        "outputId": "625bd9aa-b0b4-45a1-dbb5-3233c2d53e23"
      },
      "source": [
        "# Imprimir resultados\n",
        "pd.DataFrame(list(zip(X.columns, np.transpose(logit_model.coef_))))"
      ],
      "execution_count": 171,
      "outputs": [
        {
          "output_type": "execute_result",
          "data": {
            "text/html": [
              "<div>\n",
              "<style scoped>\n",
              "    .dataframe tbody tr th:only-of-type {\n",
              "        vertical-align: middle;\n",
              "    }\n",
              "\n",
              "    .dataframe tbody tr th {\n",
              "        vertical-align: top;\n",
              "    }\n",
              "\n",
              "    .dataframe thead th {\n",
              "        text-align: right;\n",
              "    }\n",
              "</style>\n",
              "<table border=\"1\" class=\"dataframe\">\n",
              "  <thead>\n",
              "    <tr style=\"text-align: right;\">\n",
              "      <th></th>\n",
              "      <th>0</th>\n",
              "      <th>1</th>\n",
              "    </tr>\n",
              "  </thead>\n",
              "  <tbody>\n",
              "    <tr>\n",
              "      <th>0</th>\n",
              "      <td>previous</td>\n",
              "      <td>[0.5684844155558533]</td>\n",
              "    </tr>\n",
              "    <tr>\n",
              "      <th>1</th>\n",
              "      <td>euribor3m</td>\n",
              "      <td>[-0.5403161259912292]</td>\n",
              "    </tr>\n",
              "    <tr>\n",
              "      <th>2</th>\n",
              "      <td>cat_job_management</td>\n",
              "      <td>[-0.25141258925533694]</td>\n",
              "    </tr>\n",
              "    <tr>\n",
              "      <th>3</th>\n",
              "      <td>cat_job_student</td>\n",
              "      <td>[0.025064403016522133]</td>\n",
              "    </tr>\n",
              "    <tr>\n",
              "      <th>4</th>\n",
              "      <td>cat_job_technician</td>\n",
              "      <td>[0.15440993133124772]</td>\n",
              "    </tr>\n",
              "    <tr>\n",
              "      <th>5</th>\n",
              "      <td>cat_month_aug</td>\n",
              "      <td>[0.6227852146675302]</td>\n",
              "    </tr>\n",
              "    <tr>\n",
              "      <th>6</th>\n",
              "      <td>cat_month_dec</td>\n",
              "      <td>[1.234140902613054]</td>\n",
              "    </tr>\n",
              "    <tr>\n",
              "      <th>7</th>\n",
              "      <td>cat_month_jul</td>\n",
              "      <td>[0.8908965125370487]</td>\n",
              "    </tr>\n",
              "    <tr>\n",
              "      <th>8</th>\n",
              "      <td>cat_month_jun</td>\n",
              "      <td>[0.9937896073977969]</td>\n",
              "    </tr>\n",
              "    <tr>\n",
              "      <th>9</th>\n",
              "      <td>cat_month_mar</td>\n",
              "      <td>[1.5997457206555419]</td>\n",
              "    </tr>\n",
              "    <tr>\n",
              "      <th>10</th>\n",
              "      <td>cat_day_of_week_wed</td>\n",
              "      <td>[0.036715259810507134]</td>\n",
              "    </tr>\n",
              "    <tr>\n",
              "      <th>11</th>\n",
              "      <td>cat_poutcome_nonexistent</td>\n",
              "      <td>[0.3735347169476131]</td>\n",
              "    </tr>\n",
              "  </tbody>\n",
              "</table>\n",
              "</div>"
            ],
            "text/plain": [
              "                           0                       1\n",
              "0                   previous    [0.5684844155558533]\n",
              "1                  euribor3m   [-0.5403161259912292]\n",
              "2         cat_job_management  [-0.25141258925533694]\n",
              "3            cat_job_student  [0.025064403016522133]\n",
              "4         cat_job_technician   [0.15440993133124772]\n",
              "5              cat_month_aug    [0.6227852146675302]\n",
              "6              cat_month_dec     [1.234140902613054]\n",
              "7              cat_month_jul    [0.8908965125370487]\n",
              "8              cat_month_jun    [0.9937896073977969]\n",
              "9              cat_month_mar    [1.5997457206555419]\n",
              "10       cat_day_of_week_wed  [0.036715259810507134]\n",
              "11  cat_poutcome_nonexistent    [0.3735347169476131]"
            ]
          },
          "metadata": {
            "tags": []
          },
          "execution_count": 171
        }
      ]
    },
    {
      "cell_type": "markdown",
      "metadata": {
        "id": "2JpfHJ4DXdEH"
      },
      "source": [
        "### **Validación del modelo logístico**"
      ]
    },
    {
      "cell_type": "code",
      "metadata": {
        "id": "THI2onMeXXjM"
      },
      "source": [
        "from sklearn.model_selection import train_test_split"
      ],
      "execution_count": 174,
      "outputs": []
    },
    {
      "cell_type": "code",
      "metadata": {
        "id": "FNNnffrZXv3w"
      },
      "source": [
        "X_train, X_test, Y_train,Y_test = train_test_split(X,Y,test_size = 0.3, random_state = 0)"
      ],
      "execution_count": 175,
      "outputs": []
    },
    {
      "cell_type": "code",
      "metadata": {
        "colab": {
          "base_uri": "https://localhost:8080/"
        },
        "id": "dpxaCXAIYT-T",
        "outputId": "416b9add-74e4-4b78-860c-c30cd460ace5"
      },
      "source": [
        "lm = linear_model.LogisticRegression()\n",
        "lm.fit(X_train,Y_train)"
      ],
      "execution_count": 176,
      "outputs": [
        {
          "output_type": "execute_result",
          "data": {
            "text/plain": [
              "LogisticRegression(C=1.0, class_weight=None, dual=False, fit_intercept=True,\n",
              "                   intercept_scaling=1, l1_ratio=None, max_iter=100,\n",
              "                   multi_class='auto', n_jobs=None, penalty='l2',\n",
              "                   random_state=None, solver='lbfgs', tol=0.0001, verbose=0,\n",
              "                   warm_start=False)"
            ]
          },
          "metadata": {
            "tags": []
          },
          "execution_count": 176
        }
      ]
    },
    {
      "cell_type": "code",
      "metadata": {
        "id": "ocFkXb4TYd-B"
      },
      "source": [
        "probs = lm.predict_proba(X_test) # Nos predice la probabilidad del conjunto de test"
      ],
      "execution_count": 178,
      "outputs": []
    },
    {
      "cell_type": "code",
      "metadata": {
        "colab": {
          "base_uri": "https://localhost:8080/"
        },
        "id": "d5aFcq1HY0O2",
        "outputId": "98c2b918-96ff-4750-9d9a-c8853a3afbb1"
      },
      "source": [
        "probs\n",
        "# Nivel de confianza  Prob de compra > 0.05 \"Compra\""
      ],
      "execution_count": 180,
      "outputs": [
        {
          "output_type": "execute_result",
          "data": {
            "text/plain": [
              "array([[0.93857871, 0.06142129],\n",
              "       [0.864772  , 0.135228  ],\n",
              "       [0.93549095, 0.06450905],\n",
              "       ...,\n",
              "       [0.69836607, 0.30163393],\n",
              "       [0.96892884, 0.03107116],\n",
              "       [0.55053276, 0.44946724]])"
            ]
          },
          "metadata": {
            "tags": []
          },
          "execution_count": 180
        }
      ]
    },
    {
      "cell_type": "code",
      "metadata": {
        "id": "HbENMr0RY6OP"
      },
      "source": [
        "prediction = lm.predict(X_test)"
      ],
      "execution_count": 190,
      "outputs": []
    },
    {
      "cell_type": "code",
      "metadata": {
        "colab": {
          "base_uri": "https://localhost:8080/"
        },
        "id": "MJn4F0pjZgf0",
        "outputId": "29feab10-62ef-49ca-c69c-ca449e3157e2"
      },
      "source": [
        "prob = probs[:,1]\n",
        "prob_df = pd.DataFrame(prob)\n",
        "threshold = 0.1\n",
        "prob_df['prediction'] = np.where(prob_df[0] > threshold,1,0)\n",
        "prob_df['prediction'].value_counts()"
      ],
      "execution_count": 198,
      "outputs": [
        {
          "output_type": "execute_result",
          "data": {
            "text/plain": [
              "0    846\n",
              "1    390\n",
              "Name: prediction, dtype: int64"
            ]
          },
          "metadata": {
            "tags": []
          },
          "execution_count": 198
        }
      ]
    },
    {
      "cell_type": "code",
      "metadata": {
        "id": "nVadNNoOfYt4"
      },
      "source": [
        "from sklearn import metrics"
      ],
      "execution_count": 199,
      "outputs": []
    },
    {
      "cell_type": "code",
      "metadata": {
        "colab": {
          "base_uri": "https://localhost:8080/"
        },
        "id": "WT5E2SXNgq8s",
        "outputId": "fea250a3-7f4a-441c-8ff7-519bc6b6c1e5"
      },
      "source": [
        "metrics.accuracy_score(Y_test,prediction)"
      ],
      "execution_count": 200,
      "outputs": [
        {
          "output_type": "execute_result",
          "data": {
            "text/plain": [
              "0.9004854368932039"
            ]
          },
          "metadata": {
            "tags": []
          },
          "execution_count": 200
        }
      ]
    },
    {
      "cell_type": "markdown",
      "metadata": {
        "id": "DeLJ26BdkSUv"
      },
      "source": [
        "**Validación cruzada**"
      ]
    },
    {
      "cell_type": "code",
      "metadata": {
        "id": "a0-X35XOgv-C"
      },
      "source": [
        "from sklearn.model_selection import cross_val_score"
      ],
      "execution_count": 201,
      "outputs": []
    },
    {
      "cell_type": "code",
      "metadata": {
        "colab": {
          "base_uri": "https://localhost:8080/"
        },
        "id": "TH-F88XVk05g",
        "outputId": "6fbd835f-723e-44a5-d170-8ebbe30471db"
      },
      "source": [
        "#crros_val_score\n",
        "# cv = cross validation number -> K\n",
        "scores = cross_val_score(linear_model.LogisticRegression(),X,Y, scoring = \"accuracy\", cv = 10) \n",
        "scores"
      ],
      "execution_count": 202,
      "outputs": [
        {
          "output_type": "execute_result",
          "data": {
            "text/plain": [
              "array([0.90533981, 0.88834951, 0.90533981, 0.88834951, 0.90048544,\n",
              "       0.90291262, 0.88349515, 0.89320388, 0.8907767 , 0.89294404])"
            ]
          },
          "metadata": {
            "tags": []
          },
          "execution_count": 202
        }
      ]
    },
    {
      "cell_type": "code",
      "metadata": {
        "colab": {
          "base_uri": "https://localhost:8080/"
        },
        "id": "KMkDsShBlQ-m",
        "outputId": "2c0c328e-0eb8-4016-acb7-4cfa85e8e5d0"
      },
      "source": [
        "scores.mean()"
      ],
      "execution_count": 203,
      "outputs": [
        {
          "output_type": "execute_result",
          "data": {
            "text/plain": [
              "0.8951196466113908"
            ]
          },
          "metadata": {
            "tags": []
          },
          "execution_count": 203
        }
      ]
    },
    {
      "cell_type": "markdown",
      "metadata": {
        "id": "iAjQHsyGx9gm"
      },
      "source": [
        "### **MATRICES DE CONFUSIÓN**"
      ]
    },
    {
      "cell_type": "markdown",
      "metadata": {
        "id": "pLkEZtiHyJPt"
      },
      "source": [
        "1.   Número positivos reales: TP + FN\n",
        "2.   Número de negativos reales: TN + FP\n",
        "3.   Número de predicciones correctas: TP + TN\n",
        "4.   Número de predicciones incorrectas: FP + FN\n",
        "\n",
        "*   Sensibilidad(TPR) = TP/(TP + FN)\n",
        "*   Especificidad(TNR) = TN/(TN + FP)\n"
      ]
    },
    {
      "cell_type": "code",
      "metadata": {
        "id": "aHXg8MLXlaQr"
      },
      "source": [
        "# División de conjuntos\n",
        "X_train, X_test, Y_train, Y_test = train_test_split(X,Y, test_size = 0.3, random_state = 0)"
      ],
      "execution_count": 204,
      "outputs": []
    },
    {
      "cell_type": "code",
      "metadata": {
        "id": "ONv4twAML2JV"
      },
      "source": [
        "# Elección del modelo\n",
        "modelo = linear_model.LogisticRegression()"
      ],
      "execution_count": 210,
      "outputs": []
    },
    {
      "cell_type": "code",
      "metadata": {
        "colab": {
          "base_uri": "https://localhost:8080/"
        },
        "id": "_UljI6IEL8Av",
        "outputId": "db575435-7d0d-445e-b98d-06b8bbed078a"
      },
      "source": [
        "#Ajustar el modelo\n",
        "modelo.fit(X_train, Y_train)"
      ],
      "execution_count": 211,
      "outputs": [
        {
          "output_type": "execute_result",
          "data": {
            "text/plain": [
              "LogisticRegression(C=1.0, class_weight=None, dual=False, fit_intercept=True,\n",
              "                   intercept_scaling=1, l1_ratio=None, max_iter=100,\n",
              "                   multi_class='auto', n_jobs=None, penalty='l2',\n",
              "                   random_state=None, solver='lbfgs', tol=0.0001, verbose=0,\n",
              "                   warm_start=False)"
            ]
          },
          "metadata": {
            "tags": []
          },
          "execution_count": 211
        }
      ]
    },
    {
      "cell_type": "code",
      "metadata": {
        "id": "wCVTvEqIMFJa"
      },
      "source": [
        "#Validación del modelo\n",
        "# 1.- Nivel de confianza  Prob de ocurrencia > 0.05\n",
        "probs = modelo.predict_proba(X_test)"
      ],
      "execution_count": 214,
      "outputs": []
    },
    {
      "cell_type": "code",
      "metadata": {
        "colab": {
          "base_uri": "https://localhost:8080/",
          "height": 204
        },
        "id": "Vk8Jdjm-MSaF",
        "outputId": "5fe1378c-3860-465f-dafa-a17cb9fc3877"
      },
      "source": [
        "# Obtención de probabilidad \n",
        "prob = probs[:,1]\n",
        "# Formación de conjunto de datos predictivos\n",
        "prob_df = pd.DataFrame(prob)\n",
        "# Elección de umbral\n",
        "threshold = 0.1\n",
        "# Modificación de registros\n",
        "prob_df['prediction'] = np.where(prob_df[0] >= threshold, 1,0)\n",
        "prob_df['actual'] = list(Y_test)\n",
        "prob_df.head()"
      ],
      "execution_count": 217,
      "outputs": [
        {
          "output_type": "execute_result",
          "data": {
            "text/html": [
              "<div>\n",
              "<style scoped>\n",
              "    .dataframe tbody tr th:only-of-type {\n",
              "        vertical-align: middle;\n",
              "    }\n",
              "\n",
              "    .dataframe tbody tr th {\n",
              "        vertical-align: top;\n",
              "    }\n",
              "\n",
              "    .dataframe thead th {\n",
              "        text-align: right;\n",
              "    }\n",
              "</style>\n",
              "<table border=\"1\" class=\"dataframe\">\n",
              "  <thead>\n",
              "    <tr style=\"text-align: right;\">\n",
              "      <th></th>\n",
              "      <th>0</th>\n",
              "      <th>prediction</th>\n",
              "      <th>actual</th>\n",
              "    </tr>\n",
              "  </thead>\n",
              "  <tbody>\n",
              "    <tr>\n",
              "      <th>0</th>\n",
              "      <td>0.061421</td>\n",
              "      <td>0</td>\n",
              "      <td>0</td>\n",
              "    </tr>\n",
              "    <tr>\n",
              "      <th>1</th>\n",
              "      <td>0.135228</td>\n",
              "      <td>1</td>\n",
              "      <td>0</td>\n",
              "    </tr>\n",
              "    <tr>\n",
              "      <th>2</th>\n",
              "      <td>0.064509</td>\n",
              "      <td>0</td>\n",
              "      <td>0</td>\n",
              "    </tr>\n",
              "    <tr>\n",
              "      <th>3</th>\n",
              "      <td>0.057720</td>\n",
              "      <td>0</td>\n",
              "      <td>0</td>\n",
              "    </tr>\n",
              "    <tr>\n",
              "      <th>4</th>\n",
              "      <td>0.038740</td>\n",
              "      <td>0</td>\n",
              "      <td>0</td>\n",
              "    </tr>\n",
              "  </tbody>\n",
              "</table>\n",
              "</div>"
            ],
            "text/plain": [
              "          0  prediction  actual\n",
              "0  0.061421           0       0\n",
              "1  0.135228           1       0\n",
              "2  0.064509           0       0\n",
              "3  0.057720           0       0\n",
              "4  0.038740           0       0"
            ]
          },
          "metadata": {
            "tags": []
          },
          "execution_count": 217
        }
      ]
    },
    {
      "cell_type": "code",
      "metadata": {
        "colab": {
          "base_uri": "https://localhost:8080/",
          "height": 142
        },
        "id": "2V2LeHp-MfS3",
        "outputId": "7e7e9964-ffe2-4ee4-b861-0f169d1b90e7"
      },
      "source": [
        "confusion_matrix = pd.crosstab(prob_df['prediction'], prob_df['actual'])\n",
        "confusion_matrix"
      ],
      "execution_count": 220,
      "outputs": [
        {
          "output_type": "execute_result",
          "data": {
            "text/html": [
              "<div>\n",
              "<style scoped>\n",
              "    .dataframe tbody tr th:only-of-type {\n",
              "        vertical-align: middle;\n",
              "    }\n",
              "\n",
              "    .dataframe tbody tr th {\n",
              "        vertical-align: top;\n",
              "    }\n",
              "\n",
              "    .dataframe thead th {\n",
              "        text-align: right;\n",
              "    }\n",
              "</style>\n",
              "<table border=\"1\" class=\"dataframe\">\n",
              "  <thead>\n",
              "    <tr style=\"text-align: right;\">\n",
              "      <th>actual</th>\n",
              "      <th>0</th>\n",
              "      <th>1</th>\n",
              "    </tr>\n",
              "    <tr>\n",
              "      <th>prediction</th>\n",
              "      <th></th>\n",
              "      <th></th>\n",
              "    </tr>\n",
              "  </thead>\n",
              "  <tbody>\n",
              "    <tr>\n",
              "      <th>0</th>\n",
              "      <td>806</td>\n",
              "      <td>40</td>\n",
              "    </tr>\n",
              "    <tr>\n",
              "      <th>1</th>\n",
              "      <td>308</td>\n",
              "      <td>82</td>\n",
              "    </tr>\n",
              "  </tbody>\n",
              "</table>\n",
              "</div>"
            ],
            "text/plain": [
              "actual        0   1\n",
              "prediction         \n",
              "0           806  40\n",
              "1           308  82"
            ]
          },
          "metadata": {
            "tags": []
          },
          "execution_count": 220
        }
      ]
    },
    {
      "cell_type": "code",
      "metadata": {
        "id": "IxPcQHeBOBii"
      },
      "source": [
        "TN = confusion_matrix[0][0]\n",
        "TP = confusion_matrix[1][1]  \n",
        "FN = confusion_matrix[1][0]\n",
        "FP = confusion_matrix[0][1]"
      ],
      "execution_count": 246,
      "outputs": []
    },
    {
      "cell_type": "code",
      "metadata": {
        "colab": {
          "base_uri": "https://localhost:8080/"
        },
        "id": "v0PYqmxWOJkk",
        "outputId": "8a47988a-eb2e-4f62-f4a9-da2f55b4cdec"
      },
      "source": [
        "sensibilidad = TP/(TP+FN)\n",
        "sensibilidad"
      ],
      "execution_count": 247,
      "outputs": [
        {
          "output_type": "execute_result",
          "data": {
            "text/plain": [
              "0.3770491803278688"
            ]
          },
          "metadata": {
            "tags": []
          },
          "execution_count": 247
        }
      ]
    },
    {
      "cell_type": "code",
      "metadata": {
        "colab": {
          "base_uri": "https://localhost:8080/"
        },
        "id": "hQZvUPnvPQUS",
        "outputId": "dfdf60a1-32c9-4b42-dfeb-5721ea4cf31b"
      },
      "source": [
        "especificidad_1 = TN/(TN + FP)\n",
        "1 - especificidad_1"
      ],
      "execution_count": 249,
      "outputs": [
        {
          "output_type": "execute_result",
          "data": {
            "text/plain": [
              "0.06463195691202872"
            ]
          },
          "metadata": {
            "tags": []
          },
          "execution_count": 249
        }
      ]
    },
    {
      "cell_type": "code",
      "metadata": {
        "colab": {
          "base_uri": "https://localhost:8080/"
        },
        "id": "q7seB1U4PYiy",
        "outputId": "562e4891-05f4-4d13-90ba-2b59de2d1798"
      },
      "source": [
        "\n",
        "# Elección múltiples umbrales\n",
        "threshold = [0.05,0.08,0.1,0.15,0.18,0.20,0.25,0.3,0.4,0.5]\n",
        "sensibilidad = [1]\n",
        "especificidad_1 = [1]\n",
        "# Modificación de registros\n",
        "\n",
        "for i in threshold:\n",
        "  prob_df['prediction'] = np.where(prob_df[0] >= i, 1,0)\n",
        "  prob_df['actual'] = list(Y_test)\n",
        "  confusion_matrix = pd.crosstab(prob_df['prediction'], prob_df['actual'])\n",
        "  TN = confusion_matrix[0][0]\n",
        "  TP = confusion_matrix[1][1]  \n",
        "  FP = confusion_matrix[0][1]\n",
        "  FN = confusion_matrix[1][0]\n",
        "  sensibilidad.append(TP/(TP+FN))\n",
        "  especificidad_1.append(1 - TN/(TN + FP))\n",
        "\n",
        "sensibilidad.append(0)\n",
        "especificidad_1.append(0)\n",
        "print(sensibilidad)\n",
        "print(especificidad_1)\n"
      ],
      "execution_count": 257,
      "outputs": [
        {
          "output_type": "stream",
          "text": [
            "[1, 0.8360655737704918, 0.6721311475409836, 0.6721311475409836, 0.6557377049180327, 0.5245901639344263, 0.4262295081967213, 0.3770491803278688, 0.3360655737704918, 0.13934426229508196, 0.09016393442622951, 0]\n",
            "[1, 0.5987432675044884, 0.2782764811490126, 0.2764811490125674, 0.25583482944344704, 0.14901256732495516, 0.09605026929982041, 0.06463195691202872, 0.06193895870736088, 0.022441651705565557, 0.010771992818671472, 0]\n"
          ],
          "name": "stdout"
        }
      ]
    },
    {
      "cell_type": "code",
      "metadata": {
        "id": "O_Erz9g8TPoe"
      },
      "source": [
        "curva_roc_df = pd.DataFrame({'x': especificidad_1,\n",
        "                             'y': sensibilidad\n",
        "})"
      ],
      "execution_count": 258,
      "outputs": []
    },
    {
      "cell_type": "code",
      "metadata": {
        "colab": {
          "base_uri": "https://localhost:8080/",
          "height": 440
        },
        "id": "oEzOisapTndK",
        "outputId": "ec12b732-1bf5-457c-fde5-5ced3dd81d34"
      },
      "source": [
        "plt.style.use('seaborn')\n",
        "plt.plot(especificidad_1, sensibilidad, marker = 'o', ls = '--', color = 'r')\n",
        "x = [i*0.01 for i in range(100)]\n",
        "y = [i*0.01 for i in range(100)]\n",
        "plt.plot(x,y)\n",
        "plt.title('Curva ROC', fontsize = 18)\n",
        "plt.xlabel('1 - Especificidad')\n",
        "plt.ylabel('Sensibilidad')\n",
        "plt.show()"
      ],
      "execution_count": 265,
      "outputs": [
        {
          "output_type": "display_data",
          "data": {
            "image/png": "[encoded data removed]",
            "text/plain": [
              "<Figure size 640x440 with 1 Axes>"
            ]
          },
          "metadata": {
            "tags": []
          }
        }
      ]
    },
    {
      "cell_type": "code",
      "metadata": {
        "id": "vP0mOVcnWtJX"
      },
      "source": [
        "espec_1,sensit,_ = metrics.roc_curve(Y_test,prob) # Hace divisiones de longitud 0.01"
      ],
      "execution_count": 280,
      "outputs": []
    }
  ]
}