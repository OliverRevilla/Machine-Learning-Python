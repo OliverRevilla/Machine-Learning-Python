{
  "nbformat": 4,
  "nbformat_minor": 0,
  "metadata": {
    "colab": {
      "name": "Ajuste_Distribucion_Normal.ipynb",
      "provenance": [],
      "authorship_tag": "ABX9TyMfDaVf6Nn47Jnlbw64eIpQ",
      "include_colab_link": true
    },
    "kernelspec": {
      "name": "python3",
      "display_name": "Python 3"
    },
    "language_info": {
      "name": "python"
    }
  },
  "cells": [
    {
      "cell_type": "markdown",
      "metadata": {
        "id": "view-in-github",
        "colab_type": "text"
      },
      "source": [
        "<a href=\"https://colab.research.google.com/github/OliverRevilla/Machine-Learning-Python/blob/main/Ajuste_Distribucion_Normal.ipynb\" target=\"_parent\"><img src=\"https://colab.research.google.com/assets/colab-badge.svg\" alt=\"Open In Colab\"/></a>"
      ]
    },
    {
      "cell_type": "code",
      "metadata": {
        "colab": {
          "base_uri": "https://localhost:8080/"
        },
        "id": "X2Zy1c9ISrMv",
        "outputId": "71ab81be-f87e-4a11-975d-285f55b2ea14"
      },
      "source": [
        "import numpy as np\n",
        "import pandas as pd\n",
        "import matplotlib.pyplot as plt\n",
        "from scipy import stats\n",
        "import seaborn as sns\n",
        "from scipy.stats import exponweib\n",
        "from scipy.stats import norm\n",
        "from statsmodels.stats.weightstats import ztest"
      ],
      "execution_count": null,
      "outputs": [
        {
          "output_type": "stream",
          "text": [
            "/usr/local/lib/python3.7/dist-packages/statsmodels/tools/_testing.py:19: FutureWarning: pandas.util.testing is deprecated. Use the functions in the public API at pandas.testing instead.\n",
            "  import pandas.util.testing as tm\n"
          ],
          "name": "stderr"
        }
      ]
    },
    {
      "cell_type": "code",
      "metadata": {
        "colab": {
          "base_uri": "https://localhost:8080/",
          "height": 282
        },
        "id": "pHzamhpCTpgG",
        "outputId": "904a275b-f217-47b9-9d0f-c321cda7fe61"
      },
      "source": [
        "#Graficando un histograma\n",
        "np.random.seed(2020)\n",
        "\n",
        "#Simular proceso de producción de snacks de 50 gramos [47,53] en 1000 bolsas de snack\n",
        "mu,sigma = 50,1\n",
        "gramaje =  np.random.normal(mu,sigma,1000)\n",
        "sns.histplot(data = gramaje)\n"
      ],
      "execution_count": null,
      "outputs": [
        {
          "output_type": "execute_result",
          "data": {
            "text/plain": [
              "<matplotlib.axes._subplots.AxesSubplot at 0x7f9f1b987310>"
            ]
          },
          "metadata": {
            "tags": []
          },
          "execution_count": 2
        },
        {
          "output_type": "display_data",
          "data": {
            "image/png": "[encoded data removed]",
            "text/plain": [
              "<Figure size 432x288 with 1 Axes>"
            ]
          },
          "metadata": {
            "tags": [],
            "needs_background": "light"
          }
        }
      ]
    },
    {
      "cell_type": "code",
      "metadata": {
        "colab": {
          "base_uri": "https://localhost:8080/",
          "height": 295
        },
        "id": "zC9unbfPU8q5",
        "outputId": "3eee1c44-2b11-414a-8c62-f4e173082874"
      },
      "source": [
        "#Colores RGB o RGBA\n",
        "datos = pd.DataFrame(gramaje)\n",
        "datos.index = np.arange(1,1001)\n",
        "datos.plot(kind = 'hist', edgecolor = 'black', bins = 30, color = '#20DCAB', label = 'Histograma', density = 10, cumulative = 0)\n",
        "plt.title(\"Distribución de pesos de bolsas de snacks\")\n",
        "plt.xlabel(\"Gramaje\")\n",
        "plt.ylabel(\"Número de bolsas\")\n",
        "plt.legend(loc = 'best')\n",
        "plt.show()"
      ],
      "execution_count": null,
      "outputs": [
        {
          "output_type": "display_data",
          "data": {
            "image/png": "[encoded data removed]",
            "text/plain": [
              "<Figure size 432x288 with 1 Axes>"
            ]
          },
          "metadata": {
            "tags": [],
            "needs_background": "light"
          }
        }
      ]
    },
    {
      "cell_type": "markdown",
      "metadata": {
        "id": "jul14j8Egj1b"
      },
      "source": [
        "Test de Hippótesis de Medias"
      ]
    },
    {
      "cell_type": "code",
      "metadata": {
        "colab": {
          "base_uri": "https://localhost:8080/"
        },
        "id": "5bWPa5VqXNlA",
        "outputId": "c4ebe301-3a4d-4492-c222-2b770d98156c"
      },
      "source": [
        "# Estadístico de prueba: función ztest\n",
        "ztest(gramaje, value = 50) #p-value >0.05 que tenga media mayor a 50"
      ],
      "execution_count": null,
      "outputs": [
        {
          "output_type": "execute_result",
          "data": {
            "text/plain": [
              "(-1.084781642995876, 0.2780183777584947)"
            ]
          },
          "metadata": {
            "tags": []
          },
          "execution_count": 4
        }
      ]
    },
    {
      "cell_type": "markdown",
      "metadata": {
        "id": "oqG-W8RxhGEc"
      },
      "source": [
        "Gráficas esperadas o modelos teóricos"
      ]
    },
    {
      "cell_type": "code",
      "metadata": {
        "id": "aKgNHgRvgls3"
      },
      "source": [
        "#ordenamos los datos de mayor a menor\n",
        "gramaje = np.sort(gramaje)"
      ],
      "execution_count": null,
      "outputs": []
    },
    {
      "cell_type": "markdown",
      "metadata": {
        "id": "pbh5K5o8hbsk"
      },
      "source": [
        "Obteniendo os parámetros de distribución"
      ]
    },
    {
      "cell_type": "code",
      "metadata": {
        "colab": {
          "base_uri": "https://localhost:8080/"
        },
        "id": "3slTWQWNhfTC",
        "outputId": "43ca6bf4-6edc-4031-e19c-d278e2ce7d7d"
      },
      "source": [
        "# Ajustamos a distribución normal y nos devuelve los parámetros (media, std)\n",
        "#Usar función getattr(): getattr(stats,\"norm\")\n",
        "#Ajustar a la distribucion: dist.fit(datos)\n",
        "dist = getattr( stats, 'norm')\n",
        "parametros = dist.fit(gramaje)\n",
        "media = \"La media es {}\"\n",
        "desviacion = \"la desviación estándar es {}\"\n",
        "print(media.format(parametros[0]), \" y \", desviacion.format(parametros[1]))"
      ],
      "execution_count": null,
      "outputs": [
        {
          "output_type": "stream",
          "text": [
            "La media es 49.96655861368413  y  la desviación estándar es 0.9743717627808806\n"
          ],
          "name": "stdout"
        }
      ]
    },
    {
      "cell_type": "markdown",
      "metadata": {
        "id": "8tHQq02sjCDt"
      },
      "source": [
        "Pruebas de bondad de ajuste"
      ]
    },
    {
      "cell_type": "code",
      "metadata": {
        "colab": {
          "base_uri": "https://localhost:8080/"
        },
        "id": "5w9B-G7VjFL8",
        "outputId": "d0a177d4-4183-4222-da8e-0fa7865e6ff5"
      },
      "source": [
        "stats.kstest(gramaje,\"norm\",parametros)"
      ],
      "execution_count": null,
      "outputs": [
        {
          "output_type": "execute_result",
          "data": {
            "text/plain": [
              "KstestResult(statistic=0.017067509554457794, pvalue=0.9327620070096921)"
            ]
          },
          "metadata": {
            "tags": []
          },
          "execution_count": 7
        }
      ]
    },
    {
      "cell_type": "markdown",
      "metadata": {
        "id": "JSlgNgrojrj5"
      },
      "source": [
        "Función de densidad con el modelo normal"
      ]
    },
    {
      "cell_type": "code",
      "metadata": {
        "colab": {
          "base_uri": "https://localhost:8080/",
          "height": 295
        },
        "id": "C7ouQmBXjON6",
        "outputId": "8ef4c7aa-9d42-4204-fc45-ffcc38fe7baa"
      },
      "source": [
        "#Gráfico de una funció normal ajustada a los datos\n",
        "x = gramaje\n",
        "dnormal = stats.norm(mu,sigma).pdf(x)\n",
        "\n",
        "#gráfica de densidad\n",
        "graf_distribuido = plt.hist(x,bins = 20, density = 1, label = \"Histograma observado\", cumulative = 0, color = '#023973', edgecolor = 'black')\n",
        "plt.plot(x, dnormal, label = 'Distribución normal esperada', ls = '--', color = '#1FDDDA')\n",
        "plt.title('Función de densidad de probabilidad')\n",
        "plt.ylabel('Probabilidad')\n",
        "plt.xlabel('Valores')\n",
        "plt.legend(loc = 2)\n",
        "plt.show()"
      ],
      "execution_count": null,
      "outputs": [
        {
          "output_type": "display_data",
          "data": {
            "image/png": "[encoded data removed]",
            "text/plain": [
              "<Figure size 432x288 with 1 Axes>"
            ]
          },
          "metadata": {
            "tags": [],
            "needs_background": "light"
          }
        }
      ]
    },
    {
      "cell_type": "code",
      "metadata": {
        "colab": {
          "base_uri": "https://localhost:8080/"
        },
        "id": "qClgVRpWj75q",
        "outputId": "551e6c14-bb57-4deb-e15d-65c1877ee22e"
      },
      "source": [
        "# cual es la probabilidad de comprar bolsas de snack menor a 49g\n",
        "stats.norm(mu,sigma).cdf(49) # Es como una"
      ],
      "execution_count": null,
      "outputs": [
        {
          "output_type": "execute_result",
          "data": {
            "text/plain": [
              "0.15865525393145707"
            ]
          },
          "metadata": {
            "tags": []
          },
          "execution_count": 9
        }
      ]
    },
    {
      "cell_type": "code",
      "metadata": {
        "colab": {
          "base_uri": "https://localhost:8080/"
        },
        "id": "Efuo6GAtnFV4",
        "outputId": "32df8503-d293-4f9d-d70a-bebfee303f56"
      },
      "source": [
        "# cual es la probabilidad de comprar bolsas de snack mayor a 52g\n",
        "1 - stats.norm(mu,sigma).cdf(52)"
      ],
      "execution_count": null,
      "outputs": [
        {
          "output_type": "execute_result",
          "data": {
            "text/plain": [
              "0.02275013194817921"
            ]
          },
          "metadata": {
            "tags": []
          },
          "execution_count": 10
        }
      ]
    },
    {
      "cell_type": "code",
      "metadata": {
        "colab": {
          "base_uri": "https://localhost:8080/",
          "height": 295
        },
        "id": "-xHF_SrxnZfM",
        "outputId": "d16c2b33-2e29-4fc5-afb3-a3d722efe491"
      },
      "source": [
        "# Ajustar a la distribución acumulada\n",
        "#gráfica de densidad\n",
        "dnormalacumulado = stats.norm(mu,sigma).cdf(x)\n",
        "\n",
        "graf_acumulado = plt.hist(x,bins = 20, density = 1, label = \"Histograma observado\", cumulative = 1, color = '#023973', edgecolor = 'black')\n",
        "plt.plot(x, dnormalacumulado, label = 'Distribución normal esperada', ls = '--', color = '#1FDDDA')\n",
        "plt.title('Función de densidad de probabilidad')\n",
        "plt.ylabel('Probabilidad')\n",
        "plt.xlabel('Valores')\n",
        "plt.legend(loc = 2)\n",
        "plt.show()"
      ],
      "execution_count": null,
      "outputs": [
        {
          "output_type": "display_data",
          "data": {
            "image/png": "[encoded data removed]",
            "text/plain": [
              "<Figure size 432x288 with 1 Axes>"
            ]
          },
          "metadata": {
            "tags": [],
            "needs_background": "light"
          }
        }
      ]
    },
    {
      "cell_type": "code",
      "metadata": {
        "colab": {
          "base_uri": "https://localhost:8080/"
        },
        "id": "SmLqLzM5-NLn",
        "outputId": "6e093239-33ba-43f4-eacd-1ba8fe0822ca"
      },
      "source": [
        "#Alturas de las barras\n",
        "graf_distribuido[0]"
      ],
      "execution_count": null,
      "outputs": [
        {
          "output_type": "execute_result",
          "data": {
            "text/plain": [
              "array([0.0134001 , 0.03350026, 0.04355033, 0.04690036, 0.12395095,\n",
              "       0.23115177, 0.24455187, 0.33165253, 0.43885335, 0.35845274,\n",
              "       0.42210322, 0.30485233, 0.28140215, 0.19095146, 0.1172509 ,\n",
              "       0.08040061, 0.05025038, 0.02010015, 0.01005008, 0.00670005])"
            ]
          },
          "metadata": {
            "tags": []
          },
          "execution_count": 27
        }
      ]
    },
    {
      "cell_type": "code",
      "metadata": {
        "colab": {
          "base_uri": "https://localhost:8080/"
        },
        "id": "m6iYE4TeASez",
        "outputId": "141f8433-57c0-481d-c913-ab9f88d50640"
      },
      "source": [
        "#Determiinar los valores de x o marcas de clase de los intervalos para calcular el y' del modelo\n",
        "marcas_clase = np.linspace(x.min(),x.max(),20) #Partiendo en intervalos\n",
        "distrib_normal = stats.norm(mu,sigma).pdf(marcas_clase) #Ajustar el modelo a las marcas de clase"
      ],
      "execution_count": null,
      "outputs": [
        {
          "output_type": "execute_result",
          "data": {
            "text/plain": [
              "array([47.12965877, 47.44387475, 47.75809073, 48.07230671, 48.38652269,\n",
              "       48.70073868, 49.01495466, 49.32917064, 49.64338662, 49.9576026 ,\n",
              "       50.27181858, 50.58603456, 50.90025055, 51.21446653, 51.52868251,\n",
              "       51.84289849, 52.15711447, 52.47133045, 52.78554643, 53.09976242])"
            ]
          },
          "metadata": {
            "tags": []
          },
          "execution_count": 33
        }
      ]
    },
    {
      "cell_type": "code",
      "metadata": {
        "id": "n93M4m6xpsI3",
        "colab": {
          "base_uri": "https://localhost:8080/"
        },
        "outputId": "290b8353-fa65-4efe-b3f4-22e774b8f223"
      },
      "source": [
        "from sklearn.metrics import mean_absolute_error, mean_squared_error\n",
        "\n",
        "MSE = mean_squared_error(graf_distribuido[0],distrib_normal)\n",
        "MAE = mean_absolute_error(graf_distribuido[0],distrib_normal)\n",
        "mensaje = 'El Error cuadrático medio es: {} y la media del error absoluto es {}'\n",
        "print(mensaje.format(MSE, MAE))\n"
      ],
      "execution_count": null,
      "outputs": [
        {
          "output_type": "stream",
          "text": [
            "El Error cuadrático medio es: 0.0006671994176845405 y la media del error absoluto es 0.0180889907398829\n"
          ],
          "name": "stdout"
        }
      ]
    },
    {
      "cell_type": "code",
      "metadata": {
        "id": "jaJo5U0g-oWE"
      },
      "source": [
        ""
      ],
      "execution_count": null,
      "outputs": []
    }
  ]
}