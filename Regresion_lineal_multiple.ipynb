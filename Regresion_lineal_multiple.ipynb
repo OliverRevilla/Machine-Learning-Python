{
  "nbformat": 4,
  "nbformat_minor": 0,
  "metadata": {
    "colab": {
      "name": "Regresion_lineal_multiple.ipynb",
      "provenance": [],
      "authorship_tag": "ABX9TyOLdkScZG0yqa2ugcrORiqM",
      "include_colab_link": true
    },
    "kernelspec": {
      "name": "python3",
      "display_name": "Python 3"
    },
    "language_info": {
      "name": "python"
    }
  },
  "cells": [
    {
      "cell_type": "markdown",
      "metadata": {
        "id": "view-in-github",
        "colab_type": "text"
      },
      "source": [
        "<a href=\"https://colab.research.google.com/github/OliverRevilla/Machine-Learning-Python/blob/main/Regresion_lineal_multiple.ipynb\" target=\"_parent\"><img src=\"https://colab.research.google.com/assets/colab-badge.svg\" alt=\"Open In Colab\"/></a>"
      ]
    },
    {
      "cell_type": "code",
      "metadata": {
        "id": "o_zqMLoujL7r"
      },
      "source": [
        "import numpy as np\n",
        "import matplotlib.pyplot as plt\n",
        "import pandas as pd\n",
        "import seaborn as sns"
      ],
      "execution_count": null,
      "outputs": []
    },
    {
      "cell_type": "code",
      "metadata": {
        "colab": {
          "base_uri": "https://localhost:8080/"
        },
        "id": "tyEZkZmgkeNh",
        "outputId": "96531dcf-d3ae-4e81-b080-dff98e6b7063"
      },
      "source": [
        "from google.colab import drive\n",
        "drive.mount('/content/drive')"
      ],
      "execution_count": null,
      "outputs": [
        {
          "output_type": "stream",
          "text": [
            "Mounted at /content/drive\n"
          ],
          "name": "stdout"
        }
      ]
    },
    {
      "cell_type": "code",
      "metadata": {
        "colab": {
          "base_uri": "https://localhost:8080/",
          "height": 222
        },
        "id": "8whZMB-Pk1qj",
        "outputId": "86c7f65f-35c7-44d8-fb92-08acbbd1c0e1"
      },
      "source": [
        "dataset = pd.read_csv('/content/drive/MyDrive/Machine Learning Python/CURSO INFOPUC/Copia de sensor lb.csv', sep = ';')\n",
        "dataset.head()"
      ],
      "execution_count": null,
      "outputs": [
        {
          "output_type": "execute_result",
          "data": {
            "text/html": [
              "<div>\n",
              "<style scoped>\n",
              "    .dataframe tbody tr th:only-of-type {\n",
              "        vertical-align: middle;\n",
              "    }\n",
              "\n",
              "    .dataframe tbody tr th {\n",
              "        vertical-align: top;\n",
              "    }\n",
              "\n",
              "    .dataframe thead th {\n",
              "        text-align: right;\n",
              "    }\n",
              "</style>\n",
              "<table border=\"1\" class=\"dataframe\">\n",
              "  <thead>\n",
              "    <tr style=\"text-align: right;\">\n",
              "      <th></th>\n",
              "      <th>Activo_id</th>\n",
              "      <th>ciclo</th>\n",
              "      <th>s1</th>\n",
              "      <th>s2</th>\n",
              "      <th>s3</th>\n",
              "      <th>s4</th>\n",
              "      <th>s5</th>\n",
              "      <th>s6</th>\n",
              "      <th>s7</th>\n",
              "      <th>s8</th>\n",
              "      <th>s9</th>\n",
              "      <th>s10</th>\n",
              "      <th>s11</th>\n",
              "      <th>s12</th>\n",
              "      <th>s13</th>\n",
              "      <th>s14</th>\n",
              "      <th>s15</th>\n",
              "      <th>s16</th>\n",
              "      <th>s17</th>\n",
              "      <th>s18</th>\n",
              "      <th>s19</th>\n",
              "      <th>s20</th>\n",
              "      <th>s21</th>\n",
              "      <th>max_ciclo</th>\n",
              "      <th>count_down</th>\n",
              "    </tr>\n",
              "  </thead>\n",
              "  <tbody>\n",
              "    <tr>\n",
              "      <th>0</th>\n",
              "      <td>1</td>\n",
              "      <td>1</td>\n",
              "      <td>518.67</td>\n",
              "      <td>641.82</td>\n",
              "      <td>1589.70</td>\n",
              "      <td>1400.60</td>\n",
              "      <td>14.62</td>\n",
              "      <td>21.61</td>\n",
              "      <td>554.36</td>\n",
              "      <td>2388.06</td>\n",
              "      <td>9046.19</td>\n",
              "      <td>1.3</td>\n",
              "      <td>47.47</td>\n",
              "      <td>521.66</td>\n",
              "      <td>2388.02</td>\n",
              "      <td>8138.62</td>\n",
              "      <td>8.4195</td>\n",
              "      <td>0.03</td>\n",
              "      <td>392</td>\n",
              "      <td>2388</td>\n",
              "      <td>100</td>\n",
              "      <td>39.06</td>\n",
              "      <td>23.4190</td>\n",
              "      <td>192</td>\n",
              "      <td>191</td>\n",
              "    </tr>\n",
              "    <tr>\n",
              "      <th>1</th>\n",
              "      <td>1</td>\n",
              "      <td>2</td>\n",
              "      <td>518.67</td>\n",
              "      <td>642.15</td>\n",
              "      <td>1591.82</td>\n",
              "      <td>1403.14</td>\n",
              "      <td>14.62</td>\n",
              "      <td>21.61</td>\n",
              "      <td>553.75</td>\n",
              "      <td>2388.04</td>\n",
              "      <td>9044.07</td>\n",
              "      <td>1.3</td>\n",
              "      <td>47.49</td>\n",
              "      <td>522.28</td>\n",
              "      <td>2388.07</td>\n",
              "      <td>8131.49</td>\n",
              "      <td>8.4318</td>\n",
              "      <td>0.03</td>\n",
              "      <td>392</td>\n",
              "      <td>2388</td>\n",
              "      <td>100</td>\n",
              "      <td>39.00</td>\n",
              "      <td>23.4236</td>\n",
              "      <td>192</td>\n",
              "      <td>190</td>\n",
              "    </tr>\n",
              "    <tr>\n",
              "      <th>2</th>\n",
              "      <td>1</td>\n",
              "      <td>3</td>\n",
              "      <td>518.67</td>\n",
              "      <td>642.35</td>\n",
              "      <td>1587.99</td>\n",
              "      <td>1404.20</td>\n",
              "      <td>14.62</td>\n",
              "      <td>21.61</td>\n",
              "      <td>554.26</td>\n",
              "      <td>2388.08</td>\n",
              "      <td>9052.94</td>\n",
              "      <td>1.3</td>\n",
              "      <td>47.27</td>\n",
              "      <td>522.42</td>\n",
              "      <td>2388.03</td>\n",
              "      <td>8133.23</td>\n",
              "      <td>8.4178</td>\n",
              "      <td>0.03</td>\n",
              "      <td>390</td>\n",
              "      <td>2388</td>\n",
              "      <td>100</td>\n",
              "      <td>38.95</td>\n",
              "      <td>23.3442</td>\n",
              "      <td>192</td>\n",
              "      <td>189</td>\n",
              "    </tr>\n",
              "    <tr>\n",
              "      <th>3</th>\n",
              "      <td>1</td>\n",
              "      <td>4</td>\n",
              "      <td>518.67</td>\n",
              "      <td>642.35</td>\n",
              "      <td>1582.79</td>\n",
              "      <td>1401.87</td>\n",
              "      <td>14.62</td>\n",
              "      <td>21.61</td>\n",
              "      <td>554.45</td>\n",
              "      <td>2388.11</td>\n",
              "      <td>9049.48</td>\n",
              "      <td>1.3</td>\n",
              "      <td>47.13</td>\n",
              "      <td>522.86</td>\n",
              "      <td>2388.08</td>\n",
              "      <td>8133.83</td>\n",
              "      <td>8.3682</td>\n",
              "      <td>0.03</td>\n",
              "      <td>392</td>\n",
              "      <td>2388</td>\n",
              "      <td>100</td>\n",
              "      <td>38.88</td>\n",
              "      <td>23.3739</td>\n",
              "      <td>192</td>\n",
              "      <td>188</td>\n",
              "    </tr>\n",
              "    <tr>\n",
              "      <th>4</th>\n",
              "      <td>1</td>\n",
              "      <td>5</td>\n",
              "      <td>518.67</td>\n",
              "      <td>642.37</td>\n",
              "      <td>1582.85</td>\n",
              "      <td>1406.22</td>\n",
              "      <td>14.62</td>\n",
              "      <td>21.61</td>\n",
              "      <td>554.00</td>\n",
              "      <td>2388.06</td>\n",
              "      <td>9055.15</td>\n",
              "      <td>1.3</td>\n",
              "      <td>47.28</td>\n",
              "      <td>522.19</td>\n",
              "      <td>2388.04</td>\n",
              "      <td>8133.80</td>\n",
              "      <td>8.4294</td>\n",
              "      <td>0.03</td>\n",
              "      <td>393</td>\n",
              "      <td>2388</td>\n",
              "      <td>100</td>\n",
              "      <td>38.90</td>\n",
              "      <td>23.4044</td>\n",
              "      <td>192</td>\n",
              "      <td>187</td>\n",
              "    </tr>\n",
              "  </tbody>\n",
              "</table>\n",
              "</div>"
            ],
            "text/plain": [
              "   Activo_id  ciclo      s1      s2  ...    s20      s21  max_ciclo  count_down\n",
              "0          1      1  518.67  641.82  ...  39.06  23.4190        192         191\n",
              "1          1      2  518.67  642.15  ...  39.00  23.4236        192         190\n",
              "2          1      3  518.67  642.35  ...  38.95  23.3442        192         189\n",
              "3          1      4  518.67  642.35  ...  38.88  23.3739        192         188\n",
              "4          1      5  518.67  642.37  ...  38.90  23.4044        192         187\n",
              "\n",
              "[5 rows x 25 columns]"
            ]
          },
          "metadata": {
            "tags": []
          },
          "execution_count": 3
        }
      ]
    },
    {
      "cell_type": "code",
      "metadata": {
        "id": "X31jkfcPk-CT"
      },
      "source": [
        "# seleccionamos un activo \n",
        "dataset = dataset.query('Activo_id == 2')"
      ],
      "execution_count": null,
      "outputs": []
    },
    {
      "cell_type": "code",
      "metadata": {
        "colab": {
          "base_uri": "https://localhost:8080/",
          "height": 414
        },
        "id": "rYeNl6yTl0O1",
        "outputId": "13fd899a-b9b0-4969-fe6b-b0b9ba198396"
      },
      "source": [
        "# eliminando columnas\n",
        "col = ['Activo_id', 'ciclo','max_ciclo', 'count_down']\n",
        "dataset2 = dataset.drop(columns=col, axis = 1)\n",
        "dataset2"
      ],
      "execution_count": null,
      "outputs": [
        {
          "output_type": "execute_result",
          "data": {
            "text/html": [
              "<div>\n",
              "<style scoped>\n",
              "    .dataframe tbody tr th:only-of-type {\n",
              "        vertical-align: middle;\n",
              "    }\n",
              "\n",
              "    .dataframe tbody tr th {\n",
              "        vertical-align: top;\n",
              "    }\n",
              "\n",
              "    .dataframe thead th {\n",
              "        text-align: right;\n",
              "    }\n",
              "</style>\n",
              "<table border=\"1\" class=\"dataframe\">\n",
              "  <thead>\n",
              "    <tr style=\"text-align: right;\">\n",
              "      <th></th>\n",
              "      <th>s1</th>\n",
              "      <th>s2</th>\n",
              "      <th>s3</th>\n",
              "      <th>s4</th>\n",
              "      <th>s5</th>\n",
              "      <th>s6</th>\n",
              "      <th>s7</th>\n",
              "      <th>s8</th>\n",
              "      <th>s9</th>\n",
              "      <th>s10</th>\n",
              "      <th>s11</th>\n",
              "      <th>s12</th>\n",
              "      <th>s13</th>\n",
              "      <th>s14</th>\n",
              "      <th>s15</th>\n",
              "      <th>s16</th>\n",
              "      <th>s17</th>\n",
              "      <th>s18</th>\n",
              "      <th>s19</th>\n",
              "      <th>s20</th>\n",
              "      <th>s21</th>\n",
              "    </tr>\n",
              "  </thead>\n",
              "  <tbody>\n",
              "    <tr>\n",
              "      <th>192</th>\n",
              "      <td>518.67</td>\n",
              "      <td>641.89</td>\n",
              "      <td>1583.84</td>\n",
              "      <td>1391.28</td>\n",
              "      <td>14.62</td>\n",
              "      <td>21.60</td>\n",
              "      <td>554.53</td>\n",
              "      <td>2388.01</td>\n",
              "      <td>9054.72</td>\n",
              "      <td>1.3</td>\n",
              "      <td>46.93</td>\n",
              "      <td>522.33</td>\n",
              "      <td>2388.06</td>\n",
              "      <td>8137.72</td>\n",
              "      <td>8.3905</td>\n",
              "      <td>0.03</td>\n",
              "      <td>391</td>\n",
              "      <td>2388</td>\n",
              "      <td>100</td>\n",
              "      <td>38.94</td>\n",
              "      <td>23.4585</td>\n",
              "    </tr>\n",
              "    <tr>\n",
              "      <th>193</th>\n",
              "      <td>518.67</td>\n",
              "      <td>641.82</td>\n",
              "      <td>1587.05</td>\n",
              "      <td>1393.13</td>\n",
              "      <td>14.62</td>\n",
              "      <td>21.61</td>\n",
              "      <td>554.77</td>\n",
              "      <td>2387.98</td>\n",
              "      <td>9051.31</td>\n",
              "      <td>1.3</td>\n",
              "      <td>47.24</td>\n",
              "      <td>522.70</td>\n",
              "      <td>2387.98</td>\n",
              "      <td>8131.09</td>\n",
              "      <td>8.4167</td>\n",
              "      <td>0.03</td>\n",
              "      <td>392</td>\n",
              "      <td>2388</td>\n",
              "      <td>100</td>\n",
              "      <td>39.06</td>\n",
              "      <td>23.4085</td>\n",
              "    </tr>\n",
              "    <tr>\n",
              "      <th>194</th>\n",
              "      <td>518.67</td>\n",
              "      <td>641.55</td>\n",
              "      <td>1588.32</td>\n",
              "      <td>1398.96</td>\n",
              "      <td>14.62</td>\n",
              "      <td>21.60</td>\n",
              "      <td>555.14</td>\n",
              "      <td>2388.04</td>\n",
              "      <td>9054.24</td>\n",
              "      <td>1.3</td>\n",
              "      <td>47.22</td>\n",
              "      <td>522.58</td>\n",
              "      <td>2387.99</td>\n",
              "      <td>8140.58</td>\n",
              "      <td>8.3802</td>\n",
              "      <td>0.03</td>\n",
              "      <td>391</td>\n",
              "      <td>2388</td>\n",
              "      <td>100</td>\n",
              "      <td>39.11</td>\n",
              "      <td>23.4250</td>\n",
              "    </tr>\n",
              "    <tr>\n",
              "      <th>195</th>\n",
              "      <td>518.67</td>\n",
              "      <td>641.68</td>\n",
              "      <td>1584.15</td>\n",
              "      <td>1396.08</td>\n",
              "      <td>14.62</td>\n",
              "      <td>21.61</td>\n",
              "      <td>554.25</td>\n",
              "      <td>2387.98</td>\n",
              "      <td>9058.01</td>\n",
              "      <td>1.3</td>\n",
              "      <td>47.10</td>\n",
              "      <td>522.49</td>\n",
              "      <td>2387.93</td>\n",
              "      <td>8140.44</td>\n",
              "      <td>8.4018</td>\n",
              "      <td>0.03</td>\n",
              "      <td>391</td>\n",
              "      <td>2388</td>\n",
              "      <td>100</td>\n",
              "      <td>39.13</td>\n",
              "      <td>23.5027</td>\n",
              "    </tr>\n",
              "    <tr>\n",
              "      <th>196</th>\n",
              "      <td>518.67</td>\n",
              "      <td>641.73</td>\n",
              "      <td>1579.03</td>\n",
              "      <td>1402.52</td>\n",
              "      <td>14.62</td>\n",
              "      <td>21.60</td>\n",
              "      <td>555.12</td>\n",
              "      <td>2388.03</td>\n",
              "      <td>9058.15</td>\n",
              "      <td>1.3</td>\n",
              "      <td>47.25</td>\n",
              "      <td>522.27</td>\n",
              "      <td>2387.94</td>\n",
              "      <td>8136.67</td>\n",
              "      <td>8.3867</td>\n",
              "      <td>0.03</td>\n",
              "      <td>390</td>\n",
              "      <td>2388</td>\n",
              "      <td>100</td>\n",
              "      <td>39.18</td>\n",
              "      <td>23.4234</td>\n",
              "    </tr>\n",
              "    <tr>\n",
              "      <th>...</th>\n",
              "      <td>...</td>\n",
              "      <td>...</td>\n",
              "      <td>...</td>\n",
              "      <td>...</td>\n",
              "      <td>...</td>\n",
              "      <td>...</td>\n",
              "      <td>...</td>\n",
              "      <td>...</td>\n",
              "      <td>...</td>\n",
              "      <td>...</td>\n",
              "      <td>...</td>\n",
              "      <td>...</td>\n",
              "      <td>...</td>\n",
              "      <td>...</td>\n",
              "      <td>...</td>\n",
              "      <td>...</td>\n",
              "      <td>...</td>\n",
              "      <td>...</td>\n",
              "      <td>...</td>\n",
              "      <td>...</td>\n",
              "      <td>...</td>\n",
              "    </tr>\n",
              "    <tr>\n",
              "      <th>474</th>\n",
              "      <td>518.67</td>\n",
              "      <td>643.78</td>\n",
              "      <td>1602.03</td>\n",
              "      <td>1429.67</td>\n",
              "      <td>14.62</td>\n",
              "      <td>21.61</td>\n",
              "      <td>551.46</td>\n",
              "      <td>2388.16</td>\n",
              "      <td>9084.13</td>\n",
              "      <td>1.3</td>\n",
              "      <td>48.21</td>\n",
              "      <td>520.07</td>\n",
              "      <td>2388.20</td>\n",
              "      <td>8174.85</td>\n",
              "      <td>8.5199</td>\n",
              "      <td>0.03</td>\n",
              "      <td>398</td>\n",
              "      <td>2388</td>\n",
              "      <td>100</td>\n",
              "      <td>38.42</td>\n",
              "      <td>23.0358</td>\n",
              "    </tr>\n",
              "    <tr>\n",
              "      <th>475</th>\n",
              "      <td>518.67</td>\n",
              "      <td>643.91</td>\n",
              "      <td>1601.35</td>\n",
              "      <td>1430.04</td>\n",
              "      <td>14.62</td>\n",
              "      <td>21.61</td>\n",
              "      <td>551.96</td>\n",
              "      <td>2388.22</td>\n",
              "      <td>9089.87</td>\n",
              "      <td>1.3</td>\n",
              "      <td>48.18</td>\n",
              "      <td>519.95</td>\n",
              "      <td>2388.21</td>\n",
              "      <td>8166.83</td>\n",
              "      <td>8.5291</td>\n",
              "      <td>0.03</td>\n",
              "      <td>395</td>\n",
              "      <td>2388</td>\n",
              "      <td>100</td>\n",
              "      <td>38.23</td>\n",
              "      <td>23.1196</td>\n",
              "    </tr>\n",
              "    <tr>\n",
              "      <th>476</th>\n",
              "      <td>518.67</td>\n",
              "      <td>643.67</td>\n",
              "      <td>1596.84</td>\n",
              "      <td>1431.17</td>\n",
              "      <td>14.62</td>\n",
              "      <td>21.61</td>\n",
              "      <td>550.85</td>\n",
              "      <td>2388.20</td>\n",
              "      <td>9098.67</td>\n",
              "      <td>1.3</td>\n",
              "      <td>48.27</td>\n",
              "      <td>519.91</td>\n",
              "      <td>2388.22</td>\n",
              "      <td>8164.83</td>\n",
              "      <td>8.5242</td>\n",
              "      <td>0.03</td>\n",
              "      <td>396</td>\n",
              "      <td>2388</td>\n",
              "      <td>100</td>\n",
              "      <td>38.39</td>\n",
              "      <td>23.1155</td>\n",
              "    </tr>\n",
              "    <tr>\n",
              "      <th>477</th>\n",
              "      <td>518.67</td>\n",
              "      <td>643.44</td>\n",
              "      <td>1603.63</td>\n",
              "      <td>1429.57</td>\n",
              "      <td>14.62</td>\n",
              "      <td>21.61</td>\n",
              "      <td>551.61</td>\n",
              "      <td>2388.18</td>\n",
              "      <td>9102.01</td>\n",
              "      <td>1.3</td>\n",
              "      <td>48.14</td>\n",
              "      <td>519.51</td>\n",
              "      <td>2388.22</td>\n",
              "      <td>8169.97</td>\n",
              "      <td>8.4932</td>\n",
              "      <td>0.03</td>\n",
              "      <td>395</td>\n",
              "      <td>2388</td>\n",
              "      <td>100</td>\n",
              "      <td>38.33</td>\n",
              "      <td>23.0169</td>\n",
              "    </tr>\n",
              "    <tr>\n",
              "      <th>478</th>\n",
              "      <td>518.67</td>\n",
              "      <td>643.85</td>\n",
              "      <td>1608.50</td>\n",
              "      <td>1430.84</td>\n",
              "      <td>14.62</td>\n",
              "      <td>21.61</td>\n",
              "      <td>551.66</td>\n",
              "      <td>2388.20</td>\n",
              "      <td>9109.36</td>\n",
              "      <td>1.3</td>\n",
              "      <td>48.12</td>\n",
              "      <td>519.81</td>\n",
              "      <td>2388.21</td>\n",
              "      <td>8175.57</td>\n",
              "      <td>8.5365</td>\n",
              "      <td>0.03</td>\n",
              "      <td>398</td>\n",
              "      <td>2388</td>\n",
              "      <td>100</td>\n",
              "      <td>38.43</td>\n",
              "      <td>23.0848</td>\n",
              "    </tr>\n",
              "  </tbody>\n",
              "</table>\n",
              "<p>287 rows × 21 columns</p>\n",
              "</div>"
            ],
            "text/plain": [
              "         s1      s2       s3       s4     s5  ...  s17   s18  s19    s20      s21\n",
              "192  518.67  641.89  1583.84  1391.28  14.62  ...  391  2388  100  38.94  23.4585\n",
              "193  518.67  641.82  1587.05  1393.13  14.62  ...  392  2388  100  39.06  23.4085\n",
              "194  518.67  641.55  1588.32  1398.96  14.62  ...  391  2388  100  39.11  23.4250\n",
              "195  518.67  641.68  1584.15  1396.08  14.62  ...  391  2388  100  39.13  23.5027\n",
              "196  518.67  641.73  1579.03  1402.52  14.62  ...  390  2388  100  39.18  23.4234\n",
              "..      ...     ...      ...      ...    ...  ...  ...   ...  ...    ...      ...\n",
              "474  518.67  643.78  1602.03  1429.67  14.62  ...  398  2388  100  38.42  23.0358\n",
              "475  518.67  643.91  1601.35  1430.04  14.62  ...  395  2388  100  38.23  23.1196\n",
              "476  518.67  643.67  1596.84  1431.17  14.62  ...  396  2388  100  38.39  23.1155\n",
              "477  518.67  643.44  1603.63  1429.57  14.62  ...  395  2388  100  38.33  23.0169\n",
              "478  518.67  643.85  1608.50  1430.84  14.62  ...  398  2388  100  38.43  23.0848\n",
              "\n",
              "[287 rows x 21 columns]"
            ]
          },
          "metadata": {
            "tags": []
          },
          "execution_count": 5
        }
      ]
    },
    {
      "cell_type": "code",
      "metadata": {
        "id": "bXvlK5sMmOMM"
      },
      "source": [
        "#Seleccionando las variables\n",
        "X = dataset2.iloc[:,:-1].values\n",
        "Y = dataset2.iloc[:,-1].values"
      ],
      "execution_count": null,
      "outputs": []
    },
    {
      "cell_type": "code",
      "metadata": {
        "colab": {
          "base_uri": "https://localhost:8080/"
        },
        "id": "9C2_xzhYmwwi",
        "outputId": "51cdf0ff-fbbe-47a8-eb4e-bbf6f3418d06"
      },
      "source": [
        "#Dividimos el dataset en conjunto de entrenamiento y conjunto de testing\n",
        "from sklearn.model_selection import train_test_split\n",
        "X_train,X_test,Y_train,Y_test = train_test_split(X,Y,test_size = 0.2, random_state = 0)\n",
        "print(X_train.shape,Y_train.shape,X_test.shape,Y_test.shape)"
      ],
      "execution_count": null,
      "outputs": [
        {
          "output_type": "stream",
          "text": [
            "(229, 20) (229,) (58, 20) (58,)\n"
          ],
          "name": "stdout"
        }
      ]
    },
    {
      "cell_type": "code",
      "metadata": {
        "colab": {
          "base_uri": "https://localhost:8080/"
        },
        "id": "Xj1d0rn3nbG6",
        "outputId": "6d402b47-a280-4c45-b342-81eaae9215e0"
      },
      "source": [
        "# Creando el modelo\n",
        "# Ajustar el modelo de Regresión Lineal múltiple con el conjunto de entrenamiento\n",
        "\n",
        "from sklearn.linear_model import LinearRegression\n",
        "regression = LinearRegression()\n",
        "regression.fit(X_train, Y_train)"
      ],
      "execution_count": null,
      "outputs": [
        {
          "output_type": "execute_result",
          "data": {
            "text/plain": [
              "LinearRegression(copy_X=True, fit_intercept=True, n_jobs=None, normalize=False)"
            ]
          },
          "metadata": {
            "tags": []
          },
          "execution_count": 8
        }
      ]
    },
    {
      "cell_type": "code",
      "metadata": {
        "colab": {
          "base_uri": "https://localhost:8080/"
        },
        "id": "1BIQ1eS-n47f",
        "outputId": "bdc64841-03bf-404e-8817-b45ea4414675"
      },
      "source": [
        "print(regression.intercept_)"
      ],
      "execution_count": null,
      "outputs": [
        {
          "output_type": "stream",
          "text": [
            "4582625.0927648535\n"
          ],
          "name": "stdout"
        }
      ]
    },
    {
      "cell_type": "code",
      "metadata": {
        "colab": {
          "base_uri": "https://localhost:8080/"
        },
        "id": "rRoV3PqkoajS",
        "outputId": "326ad79f-c3e0-45a1-f377-40422d900b82"
      },
      "source": [
        "# Determinar el número de variables que aportan valor al modelo\n",
        "regression.rank_"
      ],
      "execution_count": null,
      "outputs": [
        {
          "output_type": "execute_result",
          "data": {
            "text/plain": [
              "15"
            ]
          },
          "metadata": {
            "tags": []
          },
          "execution_count": 10
        }
      ]
    },
    {
      "cell_type": "code",
      "metadata": {
        "colab": {
          "base_uri": "https://localhost:8080/"
        },
        "id": "4lXaH4X2of-_",
        "outputId": "6aa15a2e-1da3-46f6-c327-3b324b7399af"
      },
      "source": [
        "regression.singular_"
      ],
      "execution_count": null,
      "outputs": [
        {
          "output_type": "execute_result",
          "data": {
            "text/plain": [
              "array([2.68485561e+02, 6.20768933e+01, 5.59691339e+01, 4.60414283e+01,\n",
              "       1.44936338e+01, 6.81398115e+00, 4.87854517e+00, 4.28987404e+00,\n",
              "       1.64182888e+00, 1.48757564e+00, 5.02969098e-01, 4.35617612e-01,\n",
              "       2.89864415e-01, 3.30224771e-02, 2.23924193e-11, 1.06430323e-15,\n",
              "       3.74909874e-17, 4.29320480e-20, 0.00000000e+00, 0.00000000e+00])"
            ]
          },
          "metadata": {
            "tags": []
          },
          "execution_count": 11
        }
      ]
    },
    {
      "cell_type": "code",
      "metadata": {
        "colab": {
          "base_uri": "https://localhost:8080/"
        },
        "id": "JmZG-dSQpRRC",
        "outputId": "f2808fab-cd1a-4efd-dd3f-fc4ed68c5bfa"
      },
      "source": [
        "# Hacer la predicción\n",
        "Y_pred = regression.predict(X_test)\n",
        "Y_pred"
      ],
      "execution_count": null,
      "outputs": [
        {
          "output_type": "execute_result",
          "data": {
            "text/plain": [
              "array([23.43180759, 23.34113737, 23.42601076, 23.30436895, 23.32533817,\n",
              "       23.41065972, 23.38400792, 23.25895979, 23.44017783, 23.41764185,\n",
              "       23.14497903, 23.33125839, 23.42596254, 23.42129669, 23.41483209,\n",
              "       23.3233842 , 23.29195241, 23.37075897, 23.30071518, 23.38772976,\n",
              "       23.37145371, 23.22030804, 23.37929548, 23.07352958, 23.38462633,\n",
              "       23.39959563, 23.27729602, 23.26746006, 23.39266528, 23.02612749,\n",
              "       23.33309459, 23.42919087, 23.4354993 , 23.34551467, 23.4254051 ,\n",
              "       23.08638528, 23.42076169, 23.39785271, 23.42785648, 23.42008314,\n",
              "       23.38599121, 23.3318669 , 23.34804299, 23.33357599, 23.24599719,\n",
              "       23.39210693, 23.38460368, 23.3050255 , 23.42675266, 23.13168582,\n",
              "       23.38302194, 23.08733936, 23.11982445, 23.27311661, 23.41274498,\n",
              "       23.40179846, 23.19915351, 23.4293537 ])"
            ]
          },
          "metadata": {
            "tags": []
          },
          "execution_count": 12
        }
      ]
    },
    {
      "cell_type": "code",
      "metadata": {
        "colab": {
          "base_uri": "https://localhost:8080/",
          "height": 202
        },
        "id": "9WMYUbfVp4y8",
        "outputId": "37a2ecd7-ab0a-4df6-ac09-947b463b8048"
      },
      "source": [
        "# Realizando la comparación\n",
        "comparativa = np.concatenate([Y_test.reshape(-1,1), Y_pred.reshape(-1,1)], axis = 1)\n",
        "df = pd.DataFrame(comparativa,columns = ['Valores reales','Valores predichos'])\n",
        "df.head()"
      ],
      "execution_count": null,
      "outputs": [
        {
          "output_type": "execute_result",
          "data": {
            "text/html": [
              "<div>\n",
              "<style scoped>\n",
              "    .dataframe tbody tr th:only-of-type {\n",
              "        vertical-align: middle;\n",
              "    }\n",
              "\n",
              "    .dataframe tbody tr th {\n",
              "        vertical-align: top;\n",
              "    }\n",
              "\n",
              "    .dataframe thead th {\n",
              "        text-align: right;\n",
              "    }\n",
              "</style>\n",
              "<table border=\"1\" class=\"dataframe\">\n",
              "  <thead>\n",
              "    <tr style=\"text-align: right;\">\n",
              "      <th></th>\n",
              "      <th>Valores reales</th>\n",
              "      <th>Valores predichos</th>\n",
              "    </tr>\n",
              "  </thead>\n",
              "  <tbody>\n",
              "    <tr>\n",
              "      <th>0</th>\n",
              "      <td>23.3796</td>\n",
              "      <td>23.431808</td>\n",
              "    </tr>\n",
              "    <tr>\n",
              "      <th>1</th>\n",
              "      <td>23.2931</td>\n",
              "      <td>23.341137</td>\n",
              "    </tr>\n",
              "    <tr>\n",
              "      <th>2</th>\n",
              "      <td>23.3075</td>\n",
              "      <td>23.426011</td>\n",
              "    </tr>\n",
              "    <tr>\n",
              "      <th>3</th>\n",
              "      <td>23.2931</td>\n",
              "      <td>23.304369</td>\n",
              "    </tr>\n",
              "    <tr>\n",
              "      <th>4</th>\n",
              "      <td>23.2923</td>\n",
              "      <td>23.325338</td>\n",
              "    </tr>\n",
              "  </tbody>\n",
              "</table>\n",
              "</div>"
            ],
            "text/plain": [
              "   Valores reales  Valores predichos\n",
              "0         23.3796          23.431808\n",
              "1         23.2931          23.341137\n",
              "2         23.3075          23.426011\n",
              "3         23.2931          23.304369\n",
              "4         23.2923          23.325338"
            ]
          },
          "metadata": {
            "tags": []
          },
          "execution_count": 13
        }
      ]
    },
    {
      "cell_type": "code",
      "metadata": {
        "colab": {
          "base_uri": "https://localhost:8080/",
          "height": 110
        },
        "id": "klJQKuuMqd_4",
        "outputId": "c1ced8e8-3a7e-4799-d512-7ab01e6088de"
      },
      "source": [
        "df.corr()"
      ],
      "execution_count": null,
      "outputs": [
        {
          "output_type": "execute_result",
          "data": {
            "text/html": [
              "<div>\n",
              "<style scoped>\n",
              "    .dataframe tbody tr th:only-of-type {\n",
              "        vertical-align: middle;\n",
              "    }\n",
              "\n",
              "    .dataframe tbody tr th {\n",
              "        vertical-align: top;\n",
              "    }\n",
              "\n",
              "    .dataframe thead th {\n",
              "        text-align: right;\n",
              "    }\n",
              "</style>\n",
              "<table border=\"1\" class=\"dataframe\">\n",
              "  <thead>\n",
              "    <tr style=\"text-align: right;\">\n",
              "      <th></th>\n",
              "      <th>Valores reales</th>\n",
              "      <th>Valores predichos</th>\n",
              "    </tr>\n",
              "  </thead>\n",
              "  <tbody>\n",
              "    <tr>\n",
              "      <th>Valores reales</th>\n",
              "      <td>1.000000</td>\n",
              "      <td>0.883229</td>\n",
              "    </tr>\n",
              "    <tr>\n",
              "      <th>Valores predichos</th>\n",
              "      <td>0.883229</td>\n",
              "      <td>1.000000</td>\n",
              "    </tr>\n",
              "  </tbody>\n",
              "</table>\n",
              "</div>"
            ],
            "text/plain": [
              "                   Valores reales  Valores predichos\n",
              "Valores reales           1.000000           0.883229\n",
              "Valores predichos        0.883229           1.000000"
            ]
          },
          "metadata": {
            "tags": []
          },
          "execution_count": 14
        }
      ]
    },
    {
      "cell_type": "code",
      "metadata": {
        "colab": {
          "base_uri": "https://localhost:8080/",
          "height": 312
        },
        "id": "NptqryXKqrgo",
        "outputId": "1cb25094-890d-4104-e5b3-c5dc2d06fd4a"
      },
      "source": [
        "# Gráfica de los datos de entrenamiento\n",
        "plt.scatter(Y_test, Y_pred, color = 'gray')\n",
        "plt.title('Reación lineal entre valores reales y predichos')\n",
        "plt.xlabel('Valores Observados')\n",
        "plt.ylabel('Valores Reales')"
      ],
      "execution_count": null,
      "outputs": [
        {
          "output_type": "execute_result",
          "data": {
            "text/plain": [
              "Text(0, 0.5, 'Valores Reales')"
            ]
          },
          "metadata": {
            "tags": []
          },
          "execution_count": 15
        },
        {
          "output_type": "display_data",
          "data": {
            "image/png": "[encoded data removed]",
            "text/plain": [
              "<Figure size 432x288 with 1 Axes>"
            ]
          },
          "metadata": {
            "tags": [],
            "needs_background": "light"
          }
        }
      ]
    },
    {
      "cell_type": "code",
      "metadata": {
        "colab": {
          "base_uri": "https://localhost:8080/"
        },
        "id": "_IzTlSTStHN2",
        "outputId": "b7cd193a-22f4-484d-e91a-7d4124cdb944"
      },
      "source": [
        "# Métricas de desempeño\n",
        "from sklearn.metrics import mean_squared_error, mean_absolute_error\n",
        "\n",
        "print(mean_squared_error(Y_test, Y_pred))\n",
        "print(mean_absolute_error(Y_test, Y_pred))"
      ],
      "execution_count": null,
      "outputs": [
        {
          "output_type": "stream",
          "text": [
            "0.0033705219221060226\n",
            "0.04500005824023825\n"
          ],
          "name": "stdout"
        }
      ]
    },
    {
      "cell_type": "code",
      "metadata": {
        "id": "HTS2d69luNKF"
      },
      "source": [
        ""
      ],
      "execution_count": null,
      "outputs": []
    }
  ]
}